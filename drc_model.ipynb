{
 "cells": [
  {
   "cell_type": "markdown",
   "id": "669c3147",
   "metadata": {},
   "source": [
    "This notebook uses Julia 1.7.2 and is self-contained (does not rely on other notebooks)."
   ]
  },
  {
   "cell_type": "code",
   "execution_count": 1,
   "id": "dea91657",
   "metadata": {
    "scrolled": true
   },
   "outputs": [],
   "source": [
    "using JuMP, Gurobi, Plots, DataFrames, CSV, Shapefile"
   ]
  },
  {
   "cell_type": "code",
   "execution_count": 2,
   "id": "70e23c94",
   "metadata": {},
   "outputs": [
    {
     "name": "stdout",
     "output_type": "stream",
     "text": [
      "Set parameter Username\n",
      "Academic license - for non-commercial use only - expires 2023-02-04\n"
     ]
    },
    {
     "data": {
      "text/plain": [
       "Gurobi.Env(Ptr{Nothing} @0x0000000159f82400, false, 0)"
      ]
     },
     "execution_count": 2,
     "metadata": {},
     "output_type": "execute_result"
    }
   ],
   "source": [
    "const GRB_ENV = Gurobi.Env()"
   ]
  },
  {
   "cell_type": "code",
   "execution_count": 3,
   "id": "c243c233",
   "metadata": {},
   "outputs": [
    {
     "data": {
      "text/plain": [
       "1000"
      ]
     },
     "execution_count": 3,
     "metadata": {},
     "output_type": "execute_result"
    }
   ],
   "source": [
    "# Display all columns by default\n",
    "ENV[\"COLUMNS\"] = 1000"
   ]
  },
  {
   "cell_type": "markdown",
   "id": "103b456d",
   "metadata": {},
   "source": [
    "Average ivermectin/person: 9.27"
   ]
  },
  {
   "cell_type": "code",
   "execution_count": 4,
   "id": "595e779e",
   "metadata": {
    "collapsed": true
   },
   "outputs": [
    {
     "data": {
      "text/html": [
       "<div class=\"data-frame\"><p>519 rows × 42 columns</p><table class=\"data-frame\"><thead><tr><th></th><th>CONTINENT</th><th>REGION</th><th>WHO_REGION</th><th>ADMIN0</th><th>ADMIN0ID</th><th>ADMIN0_FIP</th><th>ADMIN0ISO2</th><th>ADMIN0ISO3</th><th>ADMIN1</th><th>ADMIN1ID</th><th>ADMIN2</th><th>ADMIN2ID</th><th>Alt_ADMIN2</th><th>ADMIN3</th><th>ADMIN3ID</th><th>IUs_ADM</th><th>IUs_NAME</th><th>IU_ID</th><th>IU_CODE</th><th>Year</th><th>PopTot</th><th>PopPreSAC</th><th>PopSAC</th><th>PopAdult</th><th>Endemicity</th><th>PopReq</th><th>PopTrg</th><th>PopTreat</th><th>Cov</th><th>Cum_MDA</th><th>MDA</th><th>EffMDA</th><th>MDA_n</th><th>EffMDA_n</th><th>EpiCov</th><th>EpiMDA</th><th>EpiEffMDA</th><th>EpiMDA_n</th><th>EpiEffMDA_n</th><th>MDA_scheme</th><th>Endemicity_ID</th><th>ivermectin_amt</th></tr><tr><th></th><th title=\"String7\">String7</th><th title=\"String15\">String15</th><th title=\"String7\">String7</th><th title=\"String\">String</th><th title=\"Int64\">Int64</th><th title=\"String3\">String3</th><th title=\"String3\">String3</th><th title=\"String3\">String3</th><th title=\"String15\">String15</th><th title=\"Int64\">Int64</th><th title=\"String15\">String15</th><th title=\"Int64\">Int64</th><th title=\"String7\">String7</th><th title=\"String31\">String31</th><th title=\"Int64\">Int64</th><th title=\"String7\">String7</th><th title=\"String31\">String31</th><th title=\"Int64\">Int64</th><th title=\"String15\">String15</th><th title=\"Int64\">Int64</th><th title=\"Int64\">Int64</th><th title=\"Int64\">Int64</th><th title=\"Int64\">Int64</th><th title=\"Int64\">Int64</th><th title=\"String\">String</th><th title=\"Int64\">Int64</th><th title=\"Int64\">Int64</th><th title=\"Int64\">Int64</th><th title=\"Float64\">Float64</th><th title=\"Int64\">Int64</th><th title=\"Int64\">Int64</th><th title=\"Int64\">Int64</th><th title=\"Int64\">Int64</th><th title=\"Int64\">Int64</th><th title=\"Float64\">Float64</th><th title=\"Int64\">Int64</th><th title=\"Int64\">Int64</th><th title=\"Int64\">Int64</th><th title=\"Int64\">Int64</th><th title=\"String15\">String15</th><th title=\"Int64\">Int64</th><th title=\"Float64\">Float64</th></tr></thead><tbody><tr><th>1</th><td>Africa</td><td>Middle Africa</td><td>AFRO</td><td>Democratic Republic of the Congo</td><td>14</td><td>CG</td><td>CD</td><td>COD</td><td>Kwilu</td><td>24753</td><td>Bagata</td><td>0</td><td>null</td><td>Bagata</td><td>13816</td><td>ADM3</td><td>Bagata</td><td>13816</td><td>COD2475313816</td><td>2019</td><td>203103</td><td>34528</td><td>71086</td><td>93427</td><td>Unknown (under LF MDA)</td><td>0</td><td>0</td><td>0</td><td>0.0</td><td>4</td><td>0</td><td>0</td><td>1</td><td>1</td><td>0.0</td><td>0</td><td>0</td><td>1</td><td>1</td><td>Not delivered</td><td>5</td><td>0.0</td></tr><tr><th>2</th><td>Africa</td><td>Middle Africa</td><td>AFRO</td><td>Democratic Republic of the Congo</td><td>14</td><td>CG</td><td>CD</td><td>COD</td><td>Kwilu</td><td>24753</td><td>Bandundu</td><td>0</td><td>null</td><td>Bandundu</td><td>13818</td><td>ADM3</td><td>Bandundu</td><td>13818</td><td>COD2475313818</td><td>2019</td><td>189523</td><td>32219</td><td>66333</td><td>87181</td><td>Unknown (under LF MDA)</td><td>0</td><td>0</td><td>0</td><td>0.0</td><td>4</td><td>0</td><td>0</td><td>1</td><td>1</td><td>0.0</td><td>0</td><td>0</td><td>1</td><td>1</td><td>Not delivered</td><td>5</td><td>0.0</td></tr><tr><th>3</th><td>Africa</td><td>Middle Africa</td><td>AFRO</td><td>Democratic Republic of the Congo</td><td>14</td><td>CG</td><td>CD</td><td>COD</td><td>Kwango</td><td>24752</td><td>Kenge</td><td>0</td><td>null</td><td>Boko</td><td>13819</td><td>ADM3</td><td>Boko</td><td>13819</td><td>COD2475213819</td><td>2019</td><td>292409</td><td>49710</td><td>102343</td><td>134508</td><td>Endemic (under MDA)</td><td>292409</td><td>236851</td><td>236868</td><td>100.01</td><td>6</td><td>1</td><td>1</td><td>4</td><td>4</td><td>81.01</td><td>1</td><td>1</td><td>4</td><td>3</td><td>IVM</td><td>2</td><td>2.71063e6</td></tr><tr><th>4</th><td>Africa</td><td>Middle Africa</td><td>AFRO</td><td>Democratic Republic of the Congo</td><td>14</td><td>CG</td><td>CD</td><td>COD</td><td>Mai-Ndombe</td><td>24754</td><td>Kutu</td><td>0</td><td>null</td><td>Bokoro</td><td>13820</td><td>ADM3</td><td>Bokoro</td><td>13820</td><td>COD2475413820</td><td>2019</td><td>259679</td><td>44145</td><td>90888</td><td>119452</td><td>Unknown (consider Oncho Elimination Mapping)</td><td>0</td><td>0</td><td>0</td><td>0.0</td><td>0</td><td>0</td><td>0</td><td>0</td><td>0</td><td>0.0</td><td>0</td><td>0</td><td>0</td><td>0</td><td>Not delivered</td><td>4</td><td>0.0</td></tr><tr><th>5</th><td>Africa</td><td>Middle Africa</td><td>AFRO</td><td>Democratic Republic of the Congo</td><td>14</td><td>CG</td><td>CD</td><td>COD</td><td>Mai-Ndombe</td><td>24754</td><td>Bolobo</td><td>0</td><td>null</td><td>Bolobo</td><td>13821</td><td>ADM3</td><td>Bolobo</td><td>13821</td><td>COD2475413821</td><td>2019</td><td>149070</td><td>25342</td><td>52175</td><td>68572</td><td>Unknown (consider Oncho Elimination Mapping)</td><td>0</td><td>0</td><td>0</td><td>0.0</td><td>0</td><td>0</td><td>0</td><td>0</td><td>0</td><td>0.0</td><td>0</td><td>0</td><td>0</td><td>0</td><td>Not delivered</td><td>4</td><td>0.0</td></tr><tr><th>6</th><td>Africa</td><td>Middle Africa</td><td>AFRO</td><td>Democratic Republic of the Congo</td><td>14</td><td>CG</td><td>CD</td><td>COD</td><td>Mai-Ndombe</td><td>24754</td><td>Oshwe</td><td>0</td><td>null</td><td>Bosobe</td><td>13822</td><td>ADM3</td><td>Bosobe</td><td>13822</td><td>COD2475413822</td><td>2019</td><td>133039</td><td>22617</td><td>46564</td><td>61198</td><td>Unknown (consider Oncho Elimination Mapping)</td><td>0</td><td>0</td><td>0</td><td>0.0</td><td>0</td><td>0</td><td>0</td><td>0</td><td>0</td><td>0.0</td><td>0</td><td>0</td><td>0</td><td>0</td><td>Not delivered</td><td>4</td><td>0.0</td></tr><tr><th>7</th><td>Africa</td><td>Middle Africa</td><td>AFRO</td><td>Democratic Republic of the Congo</td><td>14</td><td>CG</td><td>CD</td><td>COD</td><td>Kwilu</td><td>24753</td><td>Bulungu</td><td>0</td><td>null</td><td>Bulungu</td><td>13823</td><td>ADM3</td><td>Bulungu</td><td>13823</td><td>COD2475313823</td><td>2019</td><td>315311</td><td>53603</td><td>110359</td><td>145043</td><td>Unknown (under LF MDA)</td><td>0</td><td>0</td><td>0</td><td>0.0</td><td>4</td><td>0</td><td>0</td><td>1</td><td>1</td><td>0.0</td><td>0</td><td>0</td><td>1</td><td>1</td><td>Not delivered</td><td>5</td><td>0.0</td></tr><tr><th>8</th><td>Africa</td><td>Middle Africa</td><td>AFRO</td><td>Democratic Republic of the Congo</td><td>14</td><td>CG</td><td>CD</td><td>COD</td><td>Kwilu</td><td>24753</td><td>Bulungu</td><td>0</td><td>null</td><td>Djuma</td><td>13824</td><td>ADM3</td><td>Djuma</td><td>13824</td><td>COD2475313824</td><td>2019</td><td>248915</td><td>42316</td><td>87120</td><td>114501</td><td>Unknown (under LF MDA)</td><td>0</td><td>0</td><td>0</td><td>0.0</td><td>4</td><td>0</td><td>0</td><td>1</td><td>1</td><td>0.0</td><td>0</td><td>0</td><td>1</td><td>1</td><td>Not delivered</td><td>5</td><td>0.0</td></tr><tr><th>9</th><td>Africa</td><td>Middle Africa</td><td>AFRO</td><td>Democratic Republic of the Congo</td><td>14</td><td>CG</td><td>CD</td><td>COD</td><td>Kwango</td><td>24752</td><td>Feshi</td><td>0</td><td>null</td><td>Feshi</td><td>13825</td><td>ADM3</td><td>Feshi</td><td>13825</td><td>COD2475213825</td><td>2019</td><td>160401</td><td>27268</td><td>56140</td><td>73784</td><td>Unknown (under LF MDA)</td><td>0</td><td>0</td><td>0</td><td>0.0</td><td>2</td><td>0</td><td>0</td><td>1</td><td>1</td><td>0.0</td><td>0</td><td>0</td><td>1</td><td>1</td><td>Not delivered</td><td>5</td><td>0.0</td></tr><tr><th>10</th><td>Africa</td><td>Middle Africa</td><td>AFRO</td><td>Democratic Republic of the Congo</td><td>14</td><td>CG</td><td>CD</td><td>COD</td><td>Kwilu</td><td>24753</td><td>Gungu</td><td>0</td><td>null</td><td>Gungu</td><td>13826</td><td>ADM3</td><td>Gungu</td><td>13826</td><td>COD2475313826</td><td>2019</td><td>274410</td><td>46650</td><td>96044</td><td>126229</td><td>Unknown (under LF MDA)</td><td>0</td><td>0</td><td>0</td><td>0.0</td><td>4</td><td>0</td><td>0</td><td>1</td><td>1</td><td>0.0</td><td>0</td><td>0</td><td>1</td><td>1</td><td>Not delivered</td><td>5</td><td>0.0</td></tr><tr><th>11</th><td>Africa</td><td>Middle Africa</td><td>AFRO</td><td>Democratic Republic of the Congo</td><td>14</td><td>CG</td><td>CD</td><td>COD</td><td>Kwilu</td><td>24753</td><td>Idiofa</td><td>0</td><td>null</td><td>Idiofa</td><td>13827</td><td>ADM3</td><td>Idiofa</td><td>13827</td><td>COD2475313827</td><td>2019</td><td>322941</td><td>54900</td><td>113029</td><td>148553</td><td>Unknown (under LF MDA)</td><td>0</td><td>0</td><td>0</td><td>0.0</td><td>4</td><td>0</td><td>0</td><td>1</td><td>1</td><td>0.0</td><td>0</td><td>0</td><td>1</td><td>1</td><td>Not delivered</td><td>5</td><td>0.0</td></tr><tr><th>12</th><td>Africa</td><td>Middle Africa</td><td>AFRO</td><td>Democratic Republic of the Congo</td><td>14</td><td>CG</td><td>CD</td><td>COD</td><td>Mai-Ndombe</td><td>24754</td><td>Inongo</td><td>0</td><td>null</td><td>Inongo</td><td>13828</td><td>ADM3</td><td>Inongo</td><td>13828</td><td>COD2475413828</td><td>2019</td><td>218061</td><td>37070</td><td>76321</td><td>100308</td><td>Unknown (consider Oncho Elimination Mapping)</td><td>0</td><td>0</td><td>0</td><td>0.0</td><td>0</td><td>0</td><td>0</td><td>0</td><td>0</td><td>0.0</td><td>0</td><td>0</td><td>0</td><td>0</td><td>Not delivered</td><td>4</td><td>0.0</td></tr><tr><th>13</th><td>Africa</td><td>Middle Africa</td><td>AFRO</td><td>Democratic Republic of the Congo</td><td>14</td><td>CG</td><td>CD</td><td>COD</td><td>Kwilu</td><td>24753</td><td>Idiofa</td><td>0</td><td>null</td><td>Ipamu</td><td>13829</td><td>ADM3</td><td>Ipamu</td><td>13829</td><td>COD2475313829</td><td>2019</td><td>201483</td><td>34252</td><td>70519</td><td>92682</td><td>Unknown (under LF MDA)</td><td>0</td><td>0</td><td>0</td><td>0.0</td><td>4</td><td>0</td><td>0</td><td>1</td><td>1</td><td>0.0</td><td>0</td><td>0</td><td>1</td><td>1</td><td>Not delivered</td><td>5</td><td>0.0</td></tr><tr><th>14</th><td>Africa</td><td>Middle Africa</td><td>AFRO</td><td>Democratic Republic of the Congo</td><td>14</td><td>CG</td><td>CD</td><td>COD</td><td>Kwango</td><td>24752</td><td>Kahemba</td><td>0</td><td>null</td><td>Kahemba</td><td>13830</td><td>ADM3</td><td>Kahemba</td><td>13830</td><td>COD2475213830</td><td>2019</td><td>296454</td><td>50397</td><td>103759</td><td>136369</td><td>Unknown (consider Oncho Elimination Mapping)</td><td>0</td><td>0</td><td>0</td><td>0.0</td><td>0</td><td>0</td><td>0</td><td>0</td><td>0</td><td>0.0</td><td>0</td><td>0</td><td>0</td><td>0</td><td>Not delivered</td><td>4</td><td>0.0</td></tr><tr><th>15</th><td>Africa</td><td>Middle Africa</td><td>AFRO</td><td>Democratic Republic of the Congo</td><td>14</td><td>CG</td><td>CD</td><td>COD</td><td>Kwango</td><td>24752</td><td>Kahemba</td><td>0</td><td>null</td><td>Kajiji</td><td>13831</td><td>ADM3</td><td>Kajiji</td><td>13831</td><td>COD2475213831</td><td>2019</td><td>174542</td><td>29672</td><td>61090</td><td>80289</td><td>Unknown (consider Oncho Elimination Mapping)</td><td>0</td><td>0</td><td>0</td><td>0.0</td><td>0</td><td>0</td><td>0</td><td>0</td><td>0</td><td>0.0</td><td>0</td><td>0</td><td>0</td><td>0</td><td>Not delivered</td><td>4</td><td>0.0</td></tr><tr><th>16</th><td>Africa</td><td>Middle Africa</td><td>AFRO</td><td>Democratic Republic of the Congo</td><td>14</td><td>CG</td><td>CD</td><td>COD</td><td>Kwango</td><td>24752</td><td>Kasongo-Lunda</td><td>0</td><td>null</td><td>Kasongo Lunda</td><td>13832</td><td>ADM3</td><td>Kasongo Lunda</td><td>13832</td><td>COD2475213832</td><td>2019</td><td>181972</td><td>30935</td><td>63690</td><td>83707</td><td>Unknown (under LF MDA)</td><td>147397</td><td>147397</td><td>148057</td><td>100.45</td><td>7</td><td>1</td><td>1</td><td>4</td><td>4</td><td>100.45</td><td>1</td><td>1</td><td>4</td><td>4</td><td>ALB+IVM</td><td>5</td><td>1.36637e6</td></tr><tr><th>17</th><td>Africa</td><td>Middle Africa</td><td>AFRO</td><td>Democratic Republic of the Congo</td><td>14</td><td>CG</td><td>CD</td><td>COD</td><td>Kwango</td><td>24752</td><td>Kenge</td><td>0</td><td>null</td><td>Kenge</td><td>13833</td><td>ADM3</td><td>Kenge</td><td>13833</td><td>COD2475213833</td><td>2019</td><td>282017</td><td>47943</td><td>98706</td><td>129728</td><td>Endemic (under MDA)</td><td>282017</td><td>228434</td><td>228102</td><td>99.85</td><td>6</td><td>1</td><td>1</td><td>4</td><td>4</td><td>80.88</td><td>1</td><td>1</td><td>4</td><td>2</td><td>IVM</td><td>2</td><td>2.6143e6</td></tr><tr><th>18</th><td>Africa</td><td>Middle Africa</td><td>AFRO</td><td>Democratic Republic of the Congo</td><td>14</td><td>CG</td><td>CD</td><td>COD</td><td>Kwango</td><td>24752</td><td>Kasongo-Lunda</td><td>0</td><td>null</td><td>Kitenda</td><td>13834</td><td>ADM3</td><td>Kitenda</td><td>13834</td><td>COD2475213834</td><td>2019</td><td>159646</td><td>27140</td><td>55876</td><td>73437</td><td>Endemic (under MDA)</td><td>159646</td><td>129313</td><td>129618</td><td>100.24</td><td>4</td><td>1</td><td>1</td><td>3</td><td>3</td><td>81.19</td><td>1</td><td>1</td><td>3</td><td>3</td><td>ALB+IVM</td><td>2</td><td>1.47992e6</td></tr><tr><th>19</th><td>Africa</td><td>Middle Africa</td><td>AFRO</td><td>Democratic Republic of the Congo</td><td>14</td><td>CG</td><td>CD</td><td>COD</td><td>Kwilu</td><td>24753</td><td>Bagata</td><td>0</td><td>null</td><td>Kikongo</td><td>13835</td><td>ADM3</td><td>Kikongo</td><td>13835</td><td>COD2475313835</td><td>2019</td><td>197412</td><td>33560</td><td>69094</td><td>90810</td><td>Unknown (under LF MDA)</td><td>0</td><td>0</td><td>0</td><td>0.0</td><td>4</td><td>0</td><td>0</td><td>1</td><td>1</td><td>0.0</td><td>0</td><td>0</td><td>1</td><td>1</td><td>Not delivered</td><td>5</td><td>0.0</td></tr><tr><th>20</th><td>Africa</td><td>Middle Africa</td><td>AFRO</td><td>Democratic Republic of the Congo</td><td>14</td><td>CG</td><td>CD</td><td>COD</td><td>Kwilu</td><td>24753</td><td>Kikwit</td><td>0</td><td>null</td><td>Kikwit-Nord</td><td>13836</td><td>ADM3</td><td>Kikwit-Nord</td><td>13836</td><td>COD2475313836</td><td>2019</td><td>245718</td><td>41772</td><td>86001</td><td>113030</td><td>Unknown (consider Oncho Elimination Mapping)</td><td>0</td><td>0</td><td>0</td><td>0.0</td><td>0</td><td>0</td><td>0</td><td>0</td><td>0</td><td>0.0</td><td>0</td><td>0</td><td>0</td><td>0</td><td>Not delivered</td><td>4</td><td>0.0</td></tr><tr><th>21</th><td>Africa</td><td>Middle Africa</td><td>AFRO</td><td>Democratic Republic of the Congo</td><td>14</td><td>CG</td><td>CD</td><td>COD</td><td>Kwilu</td><td>24753</td><td>Kikwit</td><td>0</td><td>null</td><td>Kikwit-Sud</td><td>13837</td><td>ADM3</td><td>Kikwit-Sud</td><td>13837</td><td>COD2475313837</td><td>2019</td><td>268993</td><td>45729</td><td>94148</td><td>123737</td><td>Unknown (consider Oncho Elimination Mapping)</td><td>0</td><td>0</td><td>0</td><td>0.0</td><td>0</td><td>0</td><td>0</td><td>0</td><td>0</td><td>0.0</td><td>0</td><td>0</td><td>0</td><td>0</td><td>Not delivered</td><td>4</td><td>0.0</td></tr><tr><th>22</th><td>Africa</td><td>Middle Africa</td><td>AFRO</td><td>Democratic Republic of the Congo</td><td>14</td><td>CG</td><td>CD</td><td>COD</td><td>Kwango</td><td>24752</td><td>Kenge</td><td>0</td><td>null</td><td>Kimbau</td><td>13838</td><td>ADM3</td><td>Kimbau</td><td>13838</td><td>COD2475213838</td><td>2019</td><td>226029</td><td>38425</td><td>79110</td><td>103973</td><td>Endemic (under MDA)</td><td>226029</td><td>183083</td><td>181510</td><td>99.14</td><td>18</td><td>1</td><td>1</td><td>6</td><td>6</td><td>80.3</td><td>1</td><td>1</td><td>6</td><td>2</td><td>IVM</td><td>2</td><td>2.09529e6</td></tr><tr><th>23</th><td>Africa</td><td>Middle Africa</td><td>AFRO</td><td>Democratic Republic of the Congo</td><td>14</td><td>CG</td><td>CD</td><td>COD</td><td>Kwilu</td><td>24753</td><td>Idiofa</td><td>0</td><td>null</td><td>Kimputu</td><td>13839</td><td>ADM3</td><td>Kimputu</td><td>13839</td><td>COD2475313839</td><td>2019</td><td>218931</td><td>37218</td><td>76626</td><td>100708</td><td>Endemic (under MDA)</td><td>218931</td><td>177334</td><td>178506</td><td>100.66</td><td>3</td><td>1</td><td>1</td><td>2</td><td>2</td><td>81.54</td><td>1</td><td>1</td><td>2</td><td>2</td><td>IVM</td><td>2</td><td>2.02949e6</td></tr><tr><th>24</th><td>Africa</td><td>Middle Africa</td><td>AFRO</td><td>Democratic Republic of the Congo</td><td>14</td><td>CG</td><td>CD</td><td>COD</td><td>Kwilu</td><td>24753</td><td>Gungu</td><td>0</td><td>null</td><td>Kingandu</td><td>13840</td><td>ADM3</td><td>Kingandu</td><td>13840</td><td>COD2475313840</td><td>2019</td><td>117489</td><td>19973</td><td>41121</td><td>54045</td><td>Unknown (consider Oncho Elimination Mapping)</td><td>0</td><td>0</td><td>0</td><td>0.0</td><td>0</td><td>0</td><td>0</td><td>0</td><td>0</td><td>0.0</td><td>0</td><td>0</td><td>0</td><td>0</td><td>Not delivered</td><td>4</td><td>0.0</td></tr><tr><th>25</th><td>Africa</td><td>Middle Africa</td><td>AFRO</td><td>Democratic Republic of the Congo</td><td>14</td><td>CG</td><td>CD</td><td>COD</td><td>Mai-Ndombe</td><td>24754</td><td>Kiri</td><td>0</td><td>null</td><td>Kiri</td><td>13841</td><td>ADM3</td><td>Kiri</td><td>13841</td><td>COD2475413841</td><td>2019</td><td>146007</td><td>24821</td><td>51102</td><td>67163</td><td>Endemic (under MDA)</td><td>146007</td><td>118265</td><td>118625</td><td>100.3</td><td>15</td><td>1</td><td>1</td><td>5</td><td>5</td><td>81.25</td><td>1</td><td>1</td><td>5</td><td>4</td><td>ALB+IVM</td><td>2</td><td>1.35348e6</td></tr><tr><th>26</th><td>Africa</td><td>Middle Africa</td><td>AFRO</td><td>Democratic Republic of the Congo</td><td>14</td><td>CG</td><td>CD</td><td>COD</td><td>Kwango</td><td>24752</td><td>Feshi</td><td>0</td><td>null</td><td>Kisanji</td><td>13842</td><td>ADM3</td><td>Kisanji</td><td>13842</td><td>COD2475213842</td><td>2019</td><td>127905</td><td>21744</td><td>44767</td><td>58836</td><td>Unknown (under LF MDA)</td><td>0</td><td>0</td><td>0</td><td>0.0</td><td>2</td><td>0</td><td>0</td><td>1</td><td>1</td><td>0.0</td><td>0</td><td>0</td><td>1</td><td>1</td><td>Not delivered</td><td>5</td><td>0.0</td></tr><tr><th>27</th><td>Africa</td><td>Middle Africa</td><td>AFRO</td><td>Democratic Republic of the Congo</td><td>14</td><td>CG</td><td>CD</td><td>COD</td><td>Kwilu</td><td>24753</td><td>Idiofa</td><td>0</td><td>null</td><td>Koshibanda</td><td>13843</td><td>ADM3</td><td>Koshibanda</td><td>13843</td><td>COD2475313843</td><td>2019</td><td>229851</td><td>39075</td><td>80448</td><td>105731</td><td>Endemic (under MDA)</td><td>229851</td><td>186179</td><td>188438</td><td>101.21</td><td>17</td><td>1</td><td>1</td><td>5</td><td>5</td><td>81.98</td><td>1</td><td>1</td><td>5</td><td>4</td><td>IVM</td><td>2</td><td>2.13072e6</td></tr><tr><th>28</th><td>Africa</td><td>Middle Africa</td><td>AFRO</td><td>Democratic Republic of the Congo</td><td>14</td><td>CG</td><td>CD</td><td>COD</td><td>Mai-Ndombe</td><td>24754</td><td>Kwamouth</td><td>0</td><td>null</td><td>Kwamouth</td><td>13844</td><td>ADM3</td><td>Kwamouth</td><td>13844</td><td>COD2475413844</td><td>2019</td><td>181613</td><td>30874</td><td>63565</td><td>83542</td><td>Unknown (consider Oncho Elimination Mapping)</td><td>0</td><td>0</td><td>0</td><td>0.0</td><td>0</td><td>0</td><td>0</td><td>0</td><td>0</td><td>0.0</td><td>0</td><td>0</td><td>0</td><td>0</td><td>Not delivered</td><td>4</td><td>0.0</td></tr><tr><th>29</th><td>Africa</td><td>Middle Africa</td><td>AFRO</td><td>Democratic Republic of the Congo</td><td>14</td><td>CG</td><td>CD</td><td>COD</td><td>Kwango</td><td>24752</td><td>Kasongo-Lunda</td><td>0</td><td>null</td><td>Tembo</td><td>13845</td><td>ADM3</td><td>Tembo</td><td>13845</td><td>COD2475213845</td><td>2019</td><td>109649</td><td>18640</td><td>38377</td><td>50439</td><td>Unknown (consider Oncho Elimination Mapping)</td><td>0</td><td>0</td><td>0</td><td>0.0</td><td>0</td><td>0</td><td>0</td><td>0</td><td>0</td><td>0.0</td><td>0</td><td>0</td><td>0</td><td>0</td><td>Not delivered</td><td>4</td><td>0.0</td></tr><tr><th>30</th><td>Africa</td><td>Middle Africa</td><td>AFRO</td><td>Democratic Republic of the Congo</td><td>14</td><td>CG</td><td>CD</td><td>COD</td><td>Kwilu</td><td>24753</td><td>Bulungu</td><td>0</td><td>null</td><td>Lusanga</td><td>13846</td><td>ADM3</td><td>Lusanga</td><td>13846</td><td>COD2475313846</td><td>2019</td><td>317124</td><td>53911</td><td>110993</td><td>145877</td><td>Endemic (under MDA)</td><td>317124</td><td>256870</td><td>262017</td><td>102.0</td><td>17</td><td>1</td><td>1</td><td>5</td><td>5</td><td>82.62</td><td>1</td><td>1</td><td>5</td><td>3</td><td>IVM</td><td>2</td><td>2.93974e6</td></tr><tr><th>&vellip;</th><td>&vellip;</td><td>&vellip;</td><td>&vellip;</td><td>&vellip;</td><td>&vellip;</td><td>&vellip;</td><td>&vellip;</td><td>&vellip;</td><td>&vellip;</td><td>&vellip;</td><td>&vellip;</td><td>&vellip;</td><td>&vellip;</td><td>&vellip;</td><td>&vellip;</td><td>&vellip;</td><td>&vellip;</td><td>&vellip;</td><td>&vellip;</td><td>&vellip;</td><td>&vellip;</td><td>&vellip;</td><td>&vellip;</td><td>&vellip;</td><td>&vellip;</td><td>&vellip;</td><td>&vellip;</td><td>&vellip;</td><td>&vellip;</td><td>&vellip;</td><td>&vellip;</td><td>&vellip;</td><td>&vellip;</td><td>&vellip;</td><td>&vellip;</td><td>&vellip;</td><td>&vellip;</td><td>&vellip;</td><td>&vellip;</td><td>&vellip;</td><td>&vellip;</td><td>&vellip;</td></tr></tbody></table></div>"
      ],
      "text/latex": [
       "\\begin{tabular}{r|cccccccccccccccccccccccccccccccccccccccccc}\n",
       "\t& CONTINENT & REGION & WHO\\_REGION & ADMIN0 & ADMIN0ID & ADMIN0\\_FIP & ADMIN0ISO2 & ADMIN0ISO3 & ADMIN1 & ADMIN1ID & ADMIN2 & ADMIN2ID & Alt\\_ADMIN2 & ADMIN3 & ADMIN3ID & IUs\\_ADM & IUs\\_NAME & IU\\_ID & IU\\_CODE & Year & PopTot & PopPreSAC & PopSAC & PopAdult & Endemicity & PopReq & PopTrg & PopTreat & Cov & Cum\\_MDA & MDA & EffMDA & MDA\\_n & EffMDA\\_n & EpiCov & EpiMDA & EpiEffMDA & EpiMDA\\_n & EpiEffMDA\\_n & MDA\\_scheme & Endemicity\\_ID & ivermectin\\_amt\\\\\n",
       "\t\\hline\n",
       "\t& String7 & String15 & String7 & String & Int64 & String3 & String3 & String3 & String15 & Int64 & String15 & Int64 & String7 & String31 & Int64 & String7 & String31 & Int64 & String15 & Int64 & Int64 & Int64 & Int64 & Int64 & String & Int64 & Int64 & Int64 & Float64 & Int64 & Int64 & Int64 & Int64 & Int64 & Float64 & Int64 & Int64 & Int64 & Int64 & String15 & Int64 & Float64\\\\\n",
       "\t\\hline\n",
       "\t1 & Africa & Middle Africa & AFRO & Democratic Republic of the Congo & 14 & CG & CD & COD & Kwilu & 24753 & Bagata & 0 & null & Bagata & 13816 & ADM3 & Bagata & 13816 & COD2475313816 & 2019 & 203103 & 34528 & 71086 & 93427 & Unknown (under LF MDA) & 0 & 0 & 0 & 0.0 & 4 & 0 & 0 & 1 & 1 & 0.0 & 0 & 0 & 1 & 1 & Not delivered & 5 & 0.0 \\\\\n",
       "\t2 & Africa & Middle Africa & AFRO & Democratic Republic of the Congo & 14 & CG & CD & COD & Kwilu & 24753 & Bandundu & 0 & null & Bandundu & 13818 & ADM3 & Bandundu & 13818 & COD2475313818 & 2019 & 189523 & 32219 & 66333 & 87181 & Unknown (under LF MDA) & 0 & 0 & 0 & 0.0 & 4 & 0 & 0 & 1 & 1 & 0.0 & 0 & 0 & 1 & 1 & Not delivered & 5 & 0.0 \\\\\n",
       "\t3 & Africa & Middle Africa & AFRO & Democratic Republic of the Congo & 14 & CG & CD & COD & Kwango & 24752 & Kenge & 0 & null & Boko & 13819 & ADM3 & Boko & 13819 & COD2475213819 & 2019 & 292409 & 49710 & 102343 & 134508 & Endemic (under MDA) & 292409 & 236851 & 236868 & 100.01 & 6 & 1 & 1 & 4 & 4 & 81.01 & 1 & 1 & 4 & 3 & IVM & 2 & 2.71063e6 \\\\\n",
       "\t4 & Africa & Middle Africa & AFRO & Democratic Republic of the Congo & 14 & CG & CD & COD & Mai-Ndombe & 24754 & Kutu & 0 & null & Bokoro & 13820 & ADM3 & Bokoro & 13820 & COD2475413820 & 2019 & 259679 & 44145 & 90888 & 119452 & Unknown (consider Oncho Elimination Mapping) & 0 & 0 & 0 & 0.0 & 0 & 0 & 0 & 0 & 0 & 0.0 & 0 & 0 & 0 & 0 & Not delivered & 4 & 0.0 \\\\\n",
       "\t5 & Africa & Middle Africa & AFRO & Democratic Republic of the Congo & 14 & CG & CD & COD & Mai-Ndombe & 24754 & Bolobo & 0 & null & Bolobo & 13821 & ADM3 & Bolobo & 13821 & COD2475413821 & 2019 & 149070 & 25342 & 52175 & 68572 & Unknown (consider Oncho Elimination Mapping) & 0 & 0 & 0 & 0.0 & 0 & 0 & 0 & 0 & 0 & 0.0 & 0 & 0 & 0 & 0 & Not delivered & 4 & 0.0 \\\\\n",
       "\t6 & Africa & Middle Africa & AFRO & Democratic Republic of the Congo & 14 & CG & CD & COD & Mai-Ndombe & 24754 & Oshwe & 0 & null & Bosobe & 13822 & ADM3 & Bosobe & 13822 & COD2475413822 & 2019 & 133039 & 22617 & 46564 & 61198 & Unknown (consider Oncho Elimination Mapping) & 0 & 0 & 0 & 0.0 & 0 & 0 & 0 & 0 & 0 & 0.0 & 0 & 0 & 0 & 0 & Not delivered & 4 & 0.0 \\\\\n",
       "\t7 & Africa & Middle Africa & AFRO & Democratic Republic of the Congo & 14 & CG & CD & COD & Kwilu & 24753 & Bulungu & 0 & null & Bulungu & 13823 & ADM3 & Bulungu & 13823 & COD2475313823 & 2019 & 315311 & 53603 & 110359 & 145043 & Unknown (under LF MDA) & 0 & 0 & 0 & 0.0 & 4 & 0 & 0 & 1 & 1 & 0.0 & 0 & 0 & 1 & 1 & Not delivered & 5 & 0.0 \\\\\n",
       "\t8 & Africa & Middle Africa & AFRO & Democratic Republic of the Congo & 14 & CG & CD & COD & Kwilu & 24753 & Bulungu & 0 & null & Djuma & 13824 & ADM3 & Djuma & 13824 & COD2475313824 & 2019 & 248915 & 42316 & 87120 & 114501 & Unknown (under LF MDA) & 0 & 0 & 0 & 0.0 & 4 & 0 & 0 & 1 & 1 & 0.0 & 0 & 0 & 1 & 1 & Not delivered & 5 & 0.0 \\\\\n",
       "\t9 & Africa & Middle Africa & AFRO & Democratic Republic of the Congo & 14 & CG & CD & COD & Kwango & 24752 & Feshi & 0 & null & Feshi & 13825 & ADM3 & Feshi & 13825 & COD2475213825 & 2019 & 160401 & 27268 & 56140 & 73784 & Unknown (under LF MDA) & 0 & 0 & 0 & 0.0 & 2 & 0 & 0 & 1 & 1 & 0.0 & 0 & 0 & 1 & 1 & Not delivered & 5 & 0.0 \\\\\n",
       "\t10 & Africa & Middle Africa & AFRO & Democratic Republic of the Congo & 14 & CG & CD & COD & Kwilu & 24753 & Gungu & 0 & null & Gungu & 13826 & ADM3 & Gungu & 13826 & COD2475313826 & 2019 & 274410 & 46650 & 96044 & 126229 & Unknown (under LF MDA) & 0 & 0 & 0 & 0.0 & 4 & 0 & 0 & 1 & 1 & 0.0 & 0 & 0 & 1 & 1 & Not delivered & 5 & 0.0 \\\\\n",
       "\t11 & Africa & Middle Africa & AFRO & Democratic Republic of the Congo & 14 & CG & CD & COD & Kwilu & 24753 & Idiofa & 0 & null & Idiofa & 13827 & ADM3 & Idiofa & 13827 & COD2475313827 & 2019 & 322941 & 54900 & 113029 & 148553 & Unknown (under LF MDA) & 0 & 0 & 0 & 0.0 & 4 & 0 & 0 & 1 & 1 & 0.0 & 0 & 0 & 1 & 1 & Not delivered & 5 & 0.0 \\\\\n",
       "\t12 & Africa & Middle Africa & AFRO & Democratic Republic of the Congo & 14 & CG & CD & COD & Mai-Ndombe & 24754 & Inongo & 0 & null & Inongo & 13828 & ADM3 & Inongo & 13828 & COD2475413828 & 2019 & 218061 & 37070 & 76321 & 100308 & Unknown (consider Oncho Elimination Mapping) & 0 & 0 & 0 & 0.0 & 0 & 0 & 0 & 0 & 0 & 0.0 & 0 & 0 & 0 & 0 & Not delivered & 4 & 0.0 \\\\\n",
       "\t13 & Africa & Middle Africa & AFRO & Democratic Republic of the Congo & 14 & CG & CD & COD & Kwilu & 24753 & Idiofa & 0 & null & Ipamu & 13829 & ADM3 & Ipamu & 13829 & COD2475313829 & 2019 & 201483 & 34252 & 70519 & 92682 & Unknown (under LF MDA) & 0 & 0 & 0 & 0.0 & 4 & 0 & 0 & 1 & 1 & 0.0 & 0 & 0 & 1 & 1 & Not delivered & 5 & 0.0 \\\\\n",
       "\t14 & Africa & Middle Africa & AFRO & Democratic Republic of the Congo & 14 & CG & CD & COD & Kwango & 24752 & Kahemba & 0 & null & Kahemba & 13830 & ADM3 & Kahemba & 13830 & COD2475213830 & 2019 & 296454 & 50397 & 103759 & 136369 & Unknown (consider Oncho Elimination Mapping) & 0 & 0 & 0 & 0.0 & 0 & 0 & 0 & 0 & 0 & 0.0 & 0 & 0 & 0 & 0 & Not delivered & 4 & 0.0 \\\\\n",
       "\t15 & Africa & Middle Africa & AFRO & Democratic Republic of the Congo & 14 & CG & CD & COD & Kwango & 24752 & Kahemba & 0 & null & Kajiji & 13831 & ADM3 & Kajiji & 13831 & COD2475213831 & 2019 & 174542 & 29672 & 61090 & 80289 & Unknown (consider Oncho Elimination Mapping) & 0 & 0 & 0 & 0.0 & 0 & 0 & 0 & 0 & 0 & 0.0 & 0 & 0 & 0 & 0 & Not delivered & 4 & 0.0 \\\\\n",
       "\t16 & Africa & Middle Africa & AFRO & Democratic Republic of the Congo & 14 & CG & CD & COD & Kwango & 24752 & Kasongo-Lunda & 0 & null & Kasongo Lunda & 13832 & ADM3 & Kasongo Lunda & 13832 & COD2475213832 & 2019 & 181972 & 30935 & 63690 & 83707 & Unknown (under LF MDA) & 147397 & 147397 & 148057 & 100.45 & 7 & 1 & 1 & 4 & 4 & 100.45 & 1 & 1 & 4 & 4 & ALB+IVM & 5 & 1.36637e6 \\\\\n",
       "\t17 & Africa & Middle Africa & AFRO & Democratic Republic of the Congo & 14 & CG & CD & COD & Kwango & 24752 & Kenge & 0 & null & Kenge & 13833 & ADM3 & Kenge & 13833 & COD2475213833 & 2019 & 282017 & 47943 & 98706 & 129728 & Endemic (under MDA) & 282017 & 228434 & 228102 & 99.85 & 6 & 1 & 1 & 4 & 4 & 80.88 & 1 & 1 & 4 & 2 & IVM & 2 & 2.6143e6 \\\\\n",
       "\t18 & Africa & Middle Africa & AFRO & Democratic Republic of the Congo & 14 & CG & CD & COD & Kwango & 24752 & Kasongo-Lunda & 0 & null & Kitenda & 13834 & ADM3 & Kitenda & 13834 & COD2475213834 & 2019 & 159646 & 27140 & 55876 & 73437 & Endemic (under MDA) & 159646 & 129313 & 129618 & 100.24 & 4 & 1 & 1 & 3 & 3 & 81.19 & 1 & 1 & 3 & 3 & ALB+IVM & 2 & 1.47992e6 \\\\\n",
       "\t19 & Africa & Middle Africa & AFRO & Democratic Republic of the Congo & 14 & CG & CD & COD & Kwilu & 24753 & Bagata & 0 & null & Kikongo & 13835 & ADM3 & Kikongo & 13835 & COD2475313835 & 2019 & 197412 & 33560 & 69094 & 90810 & Unknown (under LF MDA) & 0 & 0 & 0 & 0.0 & 4 & 0 & 0 & 1 & 1 & 0.0 & 0 & 0 & 1 & 1 & Not delivered & 5 & 0.0 \\\\\n",
       "\t20 & Africa & Middle Africa & AFRO & Democratic Republic of the Congo & 14 & CG & CD & COD & Kwilu & 24753 & Kikwit & 0 & null & Kikwit-Nord & 13836 & ADM3 & Kikwit-Nord & 13836 & COD2475313836 & 2019 & 245718 & 41772 & 86001 & 113030 & Unknown (consider Oncho Elimination Mapping) & 0 & 0 & 0 & 0.0 & 0 & 0 & 0 & 0 & 0 & 0.0 & 0 & 0 & 0 & 0 & Not delivered & 4 & 0.0 \\\\\n",
       "\t21 & Africa & Middle Africa & AFRO & Democratic Republic of the Congo & 14 & CG & CD & COD & Kwilu & 24753 & Kikwit & 0 & null & Kikwit-Sud & 13837 & ADM3 & Kikwit-Sud & 13837 & COD2475313837 & 2019 & 268993 & 45729 & 94148 & 123737 & Unknown (consider Oncho Elimination Mapping) & 0 & 0 & 0 & 0.0 & 0 & 0 & 0 & 0 & 0 & 0.0 & 0 & 0 & 0 & 0 & Not delivered & 4 & 0.0 \\\\\n",
       "\t22 & Africa & Middle Africa & AFRO & Democratic Republic of the Congo & 14 & CG & CD & COD & Kwango & 24752 & Kenge & 0 & null & Kimbau & 13838 & ADM3 & Kimbau & 13838 & COD2475213838 & 2019 & 226029 & 38425 & 79110 & 103973 & Endemic (under MDA) & 226029 & 183083 & 181510 & 99.14 & 18 & 1 & 1 & 6 & 6 & 80.3 & 1 & 1 & 6 & 2 & IVM & 2 & 2.09529e6 \\\\\n",
       "\t23 & Africa & Middle Africa & AFRO & Democratic Republic of the Congo & 14 & CG & CD & COD & Kwilu & 24753 & Idiofa & 0 & null & Kimputu & 13839 & ADM3 & Kimputu & 13839 & COD2475313839 & 2019 & 218931 & 37218 & 76626 & 100708 & Endemic (under MDA) & 218931 & 177334 & 178506 & 100.66 & 3 & 1 & 1 & 2 & 2 & 81.54 & 1 & 1 & 2 & 2 & IVM & 2 & 2.02949e6 \\\\\n",
       "\t24 & Africa & Middle Africa & AFRO & Democratic Republic of the Congo & 14 & CG & CD & COD & Kwilu & 24753 & Gungu & 0 & null & Kingandu & 13840 & ADM3 & Kingandu & 13840 & COD2475313840 & 2019 & 117489 & 19973 & 41121 & 54045 & Unknown (consider Oncho Elimination Mapping) & 0 & 0 & 0 & 0.0 & 0 & 0 & 0 & 0 & 0 & 0.0 & 0 & 0 & 0 & 0 & Not delivered & 4 & 0.0 \\\\\n",
       "\t25 & Africa & Middle Africa & AFRO & Democratic Republic of the Congo & 14 & CG & CD & COD & Mai-Ndombe & 24754 & Kiri & 0 & null & Kiri & 13841 & ADM3 & Kiri & 13841 & COD2475413841 & 2019 & 146007 & 24821 & 51102 & 67163 & Endemic (under MDA) & 146007 & 118265 & 118625 & 100.3 & 15 & 1 & 1 & 5 & 5 & 81.25 & 1 & 1 & 5 & 4 & ALB+IVM & 2 & 1.35348e6 \\\\\n",
       "\t26 & Africa & Middle Africa & AFRO & Democratic Republic of the Congo & 14 & CG & CD & COD & Kwango & 24752 & Feshi & 0 & null & Kisanji & 13842 & ADM3 & Kisanji & 13842 & COD2475213842 & 2019 & 127905 & 21744 & 44767 & 58836 & Unknown (under LF MDA) & 0 & 0 & 0 & 0.0 & 2 & 0 & 0 & 1 & 1 & 0.0 & 0 & 0 & 1 & 1 & Not delivered & 5 & 0.0 \\\\\n",
       "\t27 & Africa & Middle Africa & AFRO & Democratic Republic of the Congo & 14 & CG & CD & COD & Kwilu & 24753 & Idiofa & 0 & null & Koshibanda & 13843 & ADM3 & Koshibanda & 13843 & COD2475313843 & 2019 & 229851 & 39075 & 80448 & 105731 & Endemic (under MDA) & 229851 & 186179 & 188438 & 101.21 & 17 & 1 & 1 & 5 & 5 & 81.98 & 1 & 1 & 5 & 4 & IVM & 2 & 2.13072e6 \\\\\n",
       "\t28 & Africa & Middle Africa & AFRO & Democratic Republic of the Congo & 14 & CG & CD & COD & Mai-Ndombe & 24754 & Kwamouth & 0 & null & Kwamouth & 13844 & ADM3 & Kwamouth & 13844 & COD2475413844 & 2019 & 181613 & 30874 & 63565 & 83542 & Unknown (consider Oncho Elimination Mapping) & 0 & 0 & 0 & 0.0 & 0 & 0 & 0 & 0 & 0 & 0.0 & 0 & 0 & 0 & 0 & Not delivered & 4 & 0.0 \\\\\n",
       "\t29 & Africa & Middle Africa & AFRO & Democratic Republic of the Congo & 14 & CG & CD & COD & Kwango & 24752 & Kasongo-Lunda & 0 & null & Tembo & 13845 & ADM3 & Tembo & 13845 & COD2475213845 & 2019 & 109649 & 18640 & 38377 & 50439 & Unknown (consider Oncho Elimination Mapping) & 0 & 0 & 0 & 0.0 & 0 & 0 & 0 & 0 & 0 & 0.0 & 0 & 0 & 0 & 0 & Not delivered & 4 & 0.0 \\\\\n",
       "\t30 & Africa & Middle Africa & AFRO & Democratic Republic of the Congo & 14 & CG & CD & COD & Kwilu & 24753 & Bulungu & 0 & null & Lusanga & 13846 & ADM3 & Lusanga & 13846 & COD2475313846 & 2019 & 317124 & 53911 & 110993 & 145877 & Endemic (under MDA) & 317124 & 256870 & 262017 & 102.0 & 17 & 1 & 1 & 5 & 5 & 82.62 & 1 & 1 & 5 & 3 & IVM & 2 & 2.93974e6 \\\\\n",
       "\t$\\dots$ & $\\dots$ & $\\dots$ & $\\dots$ & $\\dots$ & $\\dots$ & $\\dots$ & $\\dots$ & $\\dots$ & $\\dots$ & $\\dots$ & $\\dots$ & $\\dots$ & $\\dots$ & $\\dots$ & $\\dots$ & $\\dots$ & $\\dots$ & $\\dots$ & $\\dots$ & $\\dots$ & $\\dots$ & $\\dots$ & $\\dots$ & $\\dots$ & $\\dots$ & $\\dots$ & $\\dots$ & $\\dots$ & $\\dots$ & $\\dots$ & $\\dots$ & $\\dots$ & $\\dots$ & $\\dots$ & $\\dots$ & $\\dots$ & $\\dots$ & $\\dots$ & $\\dots$ & $\\dots$ & $\\dots$ & $\\dots$ \\\\\n",
       "\\end{tabular}\n"
      ],
      "text/plain": [
       "\u001b[1m519×42 DataFrame\u001b[0m\n",
       "\u001b[1m Row \u001b[0m│\u001b[1m CONTINENT \u001b[0m\u001b[1m REGION        \u001b[0m\u001b[1m WHO_REGION \u001b[0m\u001b[1m ADMIN0                           \u001b[0m\u001b[1m ADMIN0ID \u001b[0m\u001b[1m ADMIN0_FIP \u001b[0m\u001b[1m ADMIN0ISO2 \u001b[0m\u001b[1m ADMIN0ISO3 \u001b[0m\u001b[1m ADMIN1        \u001b[0m\u001b[1m ADMIN1ID \u001b[0m\u001b[1m ADMIN2       \u001b[0m\u001b[1m ADMIN2ID \u001b[0m\u001b[1m Alt_ADMIN2 \u001b[0m\u001b[1m ADMIN3        \u001b[0m\u001b[1m ADMIN3ID \u001b[0m\u001b[1m IUs_ADM \u001b[0m\u001b[1m IUs_NAME      \u001b[0m\u001b[1m IU_ID \u001b[0m\u001b[1m IU_CODE       \u001b[0m\u001b[1m Year  \u001b[0m\u001b[1m PopTot \u001b[0m\u001b[1m PopPreSAC \u001b[0m\u001b[1m PopSAC \u001b[0m\u001b[1m PopAdult \u001b[0m\u001b[1m Endemicity                        \u001b[0m\u001b[1m PopReq \u001b[0m\u001b[1m PopTrg \u001b[0m\u001b[1m PopTreat \u001b[0m\u001b[1m Cov     \u001b[0m\u001b[1m Cum_MDA \u001b[0m\u001b[1m MDA   \u001b[0m\u001b[1m EffMDA \u001b[0m\u001b[1m MDA_n \u001b[0m\u001b[1m EffMDA_n \u001b[0m\u001b[1m EpiCov  \u001b[0m\u001b[1m EpiMDA \u001b[0m\u001b[1m EpiEffMDA \u001b[0m\u001b[1m EpiMDA_n \u001b[0m\u001b[1m EpiEffMDA_n \u001b[0m\u001b[1m MDA_scheme    \u001b[0m\u001b[1m Endemicity_ID \u001b[0m\u001b[1m ivermectin_amt \u001b[0m\n",
       "\u001b[1m     \u001b[0m│\u001b[90m String7   \u001b[0m\u001b[90m String15      \u001b[0m\u001b[90m String7    \u001b[0m\u001b[90m String                           \u001b[0m\u001b[90m Int64    \u001b[0m\u001b[90m String3    \u001b[0m\u001b[90m String3    \u001b[0m\u001b[90m String3    \u001b[0m\u001b[90m String15      \u001b[0m\u001b[90m Int64    \u001b[0m\u001b[90m String15     \u001b[0m\u001b[90m Int64    \u001b[0m\u001b[90m String7    \u001b[0m\u001b[90m String31      \u001b[0m\u001b[90m Int64    \u001b[0m\u001b[90m String7 \u001b[0m\u001b[90m String31      \u001b[0m\u001b[90m Int64 \u001b[0m\u001b[90m String15      \u001b[0m\u001b[90m Int64 \u001b[0m\u001b[90m Int64  \u001b[0m\u001b[90m Int64     \u001b[0m\u001b[90m Int64  \u001b[0m\u001b[90m Int64    \u001b[0m\u001b[90m String                            \u001b[0m\u001b[90m Int64  \u001b[0m\u001b[90m Int64  \u001b[0m\u001b[90m Int64    \u001b[0m\u001b[90m Float64 \u001b[0m\u001b[90m Int64   \u001b[0m\u001b[90m Int64 \u001b[0m\u001b[90m Int64  \u001b[0m\u001b[90m Int64 \u001b[0m\u001b[90m Int64    \u001b[0m\u001b[90m Float64 \u001b[0m\u001b[90m Int64  \u001b[0m\u001b[90m Int64     \u001b[0m\u001b[90m Int64    \u001b[0m\u001b[90m Int64       \u001b[0m\u001b[90m String15      \u001b[0m\u001b[90m Int64         \u001b[0m\u001b[90m Float64        \u001b[0m\n",
       "─────┼──────────────────────────────────────────────────────────────────────────────────────────────────────────────────────────────────────────────────────────────────────────────────────────────────────────────────────────────────────────────────────────────────────────────────────────────────────────────────────────────────────────────────────────────────────────────────────────────────────────────────────────────────────────────────────────────────────────────────────────────────────────────────────\n",
       "   1 │ Africa     Middle Africa  AFRO        Democratic Republic of the Congo        14  CG          CD          COD         Kwilu             24753  Bagata               0  null        Bagata            13816  ADM3     Bagata         13816  COD2475313816   2019  203103      34528   71086     93427  Unknown (under LF MDA)                  0       0         0     0.0         4      0       0      1         1     0.0        0          0         1            1  Not delivered              5       0.0\n",
       "   2 │ Africa     Middle Africa  AFRO        Democratic Republic of the Congo        14  CG          CD          COD         Kwilu             24753  Bandundu             0  null        Bandundu          13818  ADM3     Bandundu       13818  COD2475313818   2019  189523      32219   66333     87181  Unknown (under LF MDA)                  0       0         0     0.0         4      0       0      1         1     0.0        0          0         1            1  Not delivered              5       0.0\n",
       "   3 │ Africa     Middle Africa  AFRO        Democratic Republic of the Congo        14  CG          CD          COD         Kwango            24752  Kenge                0  null        Boko              13819  ADM3     Boko           13819  COD2475213819   2019  292409      49710  102343    134508  Endemic (under MDA)                292409  236851    236868   100.01        6      1       1      4         4    81.01       1          1         4            3  IVM                        2       2.71063e6\n",
       "   4 │ Africa     Middle Africa  AFRO        Democratic Republic of the Congo        14  CG          CD          COD         Mai-Ndombe        24754  Kutu                 0  null        Bokoro            13820  ADM3     Bokoro         13820  COD2475413820   2019  259679      44145   90888    119452  Unknown (consider Oncho Eliminat…       0       0         0     0.0         0      0       0      0         0     0.0        0          0         0            0  Not delivered              4       0.0\n",
       "   5 │ Africa     Middle Africa  AFRO        Democratic Republic of the Congo        14  CG          CD          COD         Mai-Ndombe        24754  Bolobo               0  null        Bolobo            13821  ADM3     Bolobo         13821  COD2475413821   2019  149070      25342   52175     68572  Unknown (consider Oncho Eliminat…       0       0         0     0.0         0      0       0      0         0     0.0        0          0         0            0  Not delivered              4       0.0\n",
       "   6 │ Africa     Middle Africa  AFRO        Democratic Republic of the Congo        14  CG          CD          COD         Mai-Ndombe        24754  Oshwe                0  null        Bosobe            13822  ADM3     Bosobe         13822  COD2475413822   2019  133039      22617   46564     61198  Unknown (consider Oncho Eliminat…       0       0         0     0.0         0      0       0      0         0     0.0        0          0         0            0  Not delivered              4       0.0\n",
       "   7 │ Africa     Middle Africa  AFRO        Democratic Republic of the Congo        14  CG          CD          COD         Kwilu             24753  Bulungu              0  null        Bulungu           13823  ADM3     Bulungu        13823  COD2475313823   2019  315311      53603  110359    145043  Unknown (under LF MDA)                  0       0         0     0.0         4      0       0      1         1     0.0        0          0         1            1  Not delivered              5       0.0\n",
       "   8 │ Africa     Middle Africa  AFRO        Democratic Republic of the Congo        14  CG          CD          COD         Kwilu             24753  Bulungu              0  null        Djuma             13824  ADM3     Djuma          13824  COD2475313824   2019  248915      42316   87120    114501  Unknown (under LF MDA)                  0       0         0     0.0         4      0       0      1         1     0.0        0          0         1            1  Not delivered              5       0.0\n",
       "   9 │ Africa     Middle Africa  AFRO        Democratic Republic of the Congo        14  CG          CD          COD         Kwango            24752  Feshi                0  null        Feshi             13825  ADM3     Feshi          13825  COD2475213825   2019  160401      27268   56140     73784  Unknown (under LF MDA)                  0       0         0     0.0         2      0       0      1         1     0.0        0          0         1            1  Not delivered              5       0.0\n",
       "  10 │ Africa     Middle Africa  AFRO        Democratic Republic of the Congo        14  CG          CD          COD         Kwilu             24753  Gungu                0  null        Gungu             13826  ADM3     Gungu          13826  COD2475313826   2019  274410      46650   96044    126229  Unknown (under LF MDA)                  0       0         0     0.0         4      0       0      1         1     0.0        0          0         1            1  Not delivered              5       0.0\n",
       "  11 │ Africa     Middle Africa  AFRO        Democratic Republic of the Congo        14  CG          CD          COD         Kwilu             24753  Idiofa               0  null        Idiofa            13827  ADM3     Idiofa         13827  COD2475313827   2019  322941      54900  113029    148553  Unknown (under LF MDA)                  0       0         0     0.0         4      0       0      1         1     0.0        0          0         1            1  Not delivered              5       0.0\n",
       "  ⋮  │     ⋮            ⋮            ⋮                      ⋮                     ⋮          ⋮           ⋮           ⋮             ⋮           ⋮           ⋮           ⋮          ⋮             ⋮           ⋮         ⋮           ⋮          ⋮          ⋮          ⋮      ⋮         ⋮        ⋮        ⋮                      ⋮                    ⋮       ⋮        ⋮         ⋮        ⋮       ⋮      ⋮       ⋮       ⋮         ⋮       ⋮         ⋮         ⋮           ⋮             ⋮              ⋮              ⋮\n",
       " 510 │ Africa     Middle Africa  AFRO        Democratic Republic of the Congo        14  CG          CD          COD         Sud-Kivu          24781  Walungu              0  null        Walungu           14328  ADM3     Walungu        14328  COD2478114328   2019  271407      46139   94992    124847  Unknown (consider Oncho Eliminat…       0       0         0     0.0         0      0       0      0         0     0.0        0          0         0            0  Not delivered              4       0.0\n",
       " 511 │ Africa     Middle Africa  AFRO        Democratic Republic of the Congo        14  CG          CD          COD         Mai-Ndombe        24754  Inongo               0  null        Banzow Moke       14329  ADM3     Banjow Moke    14329  COD2475414329   2019  141299      24021   49455     64998  Unknown (consider Oncho Eliminat…       0       0         0     0.0         0      0       0      0         0     0.0        0          0         0            0  Not delivered              4       0.0\n",
       " 512 │ Africa     Middle Africa  AFRO        Democratic Republic of the Congo        14  CG          CD          COD         Haut-Uele         24778  Wamba                0  null        Boma-Mangbetu     14330  ADM3     Boma-Mangbetu  14330  COD2477814330   2019  112694      19158   39443     51839  Endemic (under MDA)                112694   91282     82308    90.17        9      1       1      6         4    73.04       1          0         6            0  IVM                        2       1.04467e6\n",
       " 513 │ Africa     Middle Africa  AFRO        Democratic Republic of the Congo        14  CG          CD          COD         Kasai-Central     24765  Kazumba              0  null        Kalomba           14332  ADM3     Kalomba        14332  COD2476514332   2019  172880      29390   60508     79525  Endemic (under MDA)                172880  140033    143688   102.61       21      1       1      6         6    83.11       1          1         6            5  ALB+IVM                    2       1.6026e6\n",
       " 514 │ Africa     Middle Africa  AFRO        Democratic Republic of the Congo        14  CG          CD          COD         Sankuru           24767  Lusambo              0  null        Ototo             14334  ADM3     Ototo          14334  COD2476714334   2019  161798      27506   56629     74427  Endemic (under MDA)                161798  131056    130671    99.71       18      1       1      6         6    80.76       1          1         6            6  ALB+IVM                    2       1.49987e6\n",
       " 515 │ Africa     Middle Africa  AFRO        Democratic Republic of the Congo        14  CG          CD          COD         Kwilu             24753  Masi-Manimba         0  null        Bongayassa        14335  ADM3     Yasa-Bonga     14335  COD2475314335   2019  235782      40083   82524    108460  Endemic (under MDA)                235782  190984    192070   100.57       16      1       1      5         5    81.46       1          1         5            2  IVM                        2       2.1857e6\n",
       " 516 │ Africa     Middle Africa  AFRO        Democratic Republic of the Congo        14  CG          CD          COD         Sankuru           24767  Lubefu               0  null        Dikungu           14336  ADM3     Dikungu        14336  COD2476714336   2019  181491      30853   63522     83486  Endemic (under MDA)                181491  147008    147755   100.51       18      1       1      6         6    81.41       1          1         6            5  IVM                        2       1.68242e6\n",
       " 517 │ Africa     Middle Africa  AFRO        Democratic Republic of the Congo        14  CG          CD          COD         Haut-Katanga      26059  Kasenga              0  null        Kashobwe          14337  ADM3     Kashobwe       14337  COD2605914337   2019  168007      28561   58802     77283  Unknown (consider Oncho Eliminat…       0       0         0     0.0         0      0       0      0         0     0.0        0          0         0            0  Not delivered              4       0.0\n",
       " 518 │ Africa     Middle Africa  AFRO        Democratic Republic of the Congo        14  CG          CD          COD         Kasai-Central     24765  Dibaya               0  null        Bunkonde          14338  ADM3     Bunkonde       14338  COD2476514338   2019  119592      20331   41857     55012  Endemic (under MDA)                119592   96869     97429   100.58       21      1       1      6         5    81.47       1          1         6            5  IVM                        2       1.10862e6\n",
       " 519 │ Africa     Middle Africa  AFRO        Democratic Republic of the Congo        14  CG          CD          COD         Kasai             24764  Kamonia              0  null        Kamonia           14340  ADM3     Kamonia        14340  COD2476414340   2019  461270      78416  161445    212184  Endemic (under MDA)                461270  373629    374197   100.15       21      1       1      6         6    81.12       1          1         6            6  ALB+IVM                    2       4.27597e6\n",
       "\u001b[36m                                                                                                                                                                                                                                                                                                                                                                                                                                                                                                            498 rows omitted\u001b[0m"
      ]
     },
     "execution_count": 4,
     "metadata": {},
     "output_type": "execute_result"
    }
   ],
   "source": [
    "drc_data = CSV.read(\"data-CD-Oncho-iu.csv\", DataFrame)\n",
    "drc_data = filter(row -> row.\"Year\" == 2019, drc_data)\n",
    "drc_data[!, :\"ivermectin_amt\"] = drc_data.\"PopReq\" .* 9.27\n",
    "\n",
    "drc_data"
   ]
  },
  {
   "cell_type": "code",
   "execution_count": 5,
   "id": "9efaf2dc",
   "metadata": {
    "collapsed": true
   },
   "outputs": [
    {
     "data": {
      "text/html": [
       "<div class=\"data-frame\"><p>189 rows × 12 columns</p><table class=\"data-frame\"><thead><tr><th></th><th>geometry</th><th>ADM0_FR</th><th>ADM0_PCODE</th><th>ADM1_FR</th><th>ADM1_PCODE</th><th>ADM2_FR</th><th>ADM2_PCODE</th><th>ADM2_REF</th><th>ADM2ALT1FR</th><th>ADM2ALT2FR</th><th>POINT_X</th><th>POINT_Y</th></tr><tr><th></th><th title=\"Union{Missing, Shapefile.Point}\">Point</th><th title=\"String\">String</th><th title=\"String\">String</th><th title=\"String\">String</th><th title=\"String\">String</th><th title=\"String\">String</th><th title=\"String\">String</th><th title=\"Union{Missing, String}\">String?</th><th title=\"Missing\">Missing</th><th title=\"Missing\">Missing</th><th title=\"Float64\">Float64</th><th title=\"Float64\">Float64</th></tr></thead><tbody><tr><th>1</th><td>Point(30.2382, 3.85842)</td><td>République démocratique du Congo (la)</td><td>CD</td><td>Haut-Uele</td><td>CD53</td><td>Aba</td><td>CD5306</td><td><em>missing</em></td><td><em>missing</em></td><td><em>missing</em></td><td>30.2382</td><td>3.85842</td></tr><tr><th>2</th><td>Point(23.7546, 2.98007)</td><td>République démocratique du Congo (la)</td><td>CD</td><td>Bas-Uele</td><td>CD52</td><td>Aketi</td><td>CD5204</td><td><em>missing</em></td><td><em>missing</em></td><td><em>missing</em></td><td>23.7546</td><td>2.98007</td></tr><tr><th>3</th><td>Point(26.0726, 4.47187)</td><td>République démocratique du Congo (la)</td><td>CD</td><td>Bas-Uele</td><td>CD52</td><td>Ango</td><td>CD5207</td><td><em>missing</em></td><td><em>missing</em></td><td><em>missing</em></td><td>26.0726</td><td>4.47187</td></tr><tr><th>4</th><td>Point(30.707, 3.13686)</td><td>République démocratique du Congo (la)</td><td>CD</td><td>Ituri</td><td>CD54</td><td>Ariwara</td><td>CD5410</td><td><em>missing</em></td><td><em>missing</em></td><td><em>missing</em></td><td>30.707</td><td>3.13686</td></tr><tr><th>5</th><td>Point(30.5333, 3.06645)</td><td>République démocratique du Congo (la)</td><td>CD</td><td>Ituri</td><td>CD54</td><td>Aru</td><td>CD5409</td><td><em>missing</em></td><td><em>missing</em></td><td><em>missing</em></td><td>30.5333</td><td>3.06645</td></tr><tr><th>6</th><td>Point(26.9969, 0.735506)</td><td>République démocratique du Congo (la)</td><td>CD</td><td>Tshopo</td><td>CD51</td><td>Bafwasende</td><td>CD5111</td><td><em>missing</em></td><td><em>missing</em></td><td><em>missing</em></td><td>26.9969</td><td>0.735506</td></tr><tr><th>7</th><td>Point(17.7111, -3.90487)</td><td>République démocratique du Congo (la)</td><td>CD</td><td>Kwilu</td><td>CD32</td><td>Bagata</td><td>CD3202</td><td><em>missing</em></td><td><em>missing</em></td><td><em>missing</em></td><td>17.7111</td><td>-3.90487</td></tr><tr><th>8</th><td>Point(25.9729, 3.09299)</td><td>République démocratique du Congo (la)</td><td>CD</td><td>Bas-Uele</td><td>CD52</td><td>Bambesa</td><td>CD5209</td><td><em>missing</em></td><td><em>missing</em></td><td><em>missing</em></td><td>25.9729</td><td>3.09299</td></tr><tr><th>9</th><td>Point(25.4582, 1.58373)</td><td>République démocratique du Congo (la)</td><td>CD</td><td>Tshopo</td><td>CD51</td><td>Banalia</td><td>CD5110</td><td><em>missing</em></td><td><em>missing</em></td><td><em>missing</em></td><td>25.4582</td><td>1.58373</td></tr><tr><th>10</th><td>Point(17.4452, -3.31634)</td><td>République démocratique du Congo (la)</td><td>CD</td><td>Kwilu</td><td>CD32</td><td>Bandundu</td><td>CD3201</td><td><em>missing</em></td><td><em>missing</em></td><td><em>missing</em></td><td>17.4452</td><td>-3.31634</td></tr><tr><th>11</th><td>Point(14.4524, -5.55387)</td><td>République démocratique du Congo (la)</td><td>CD</td><td>Kongo-Central</td><td>CD20</td><td>Bangu</td><td>CD2012</td><td><em>missing</em></td><td><em>missing</em></td><td><em>missing</em></td><td>14.4524</td><td>-5.55387</td></tr><tr><th>12</th><td>Point(29.0915, -4.08973)</td><td>République démocratique du Congo (la)</td><td>CD</td><td>Sud-Kivu</td><td>CD62</td><td>Baraka</td><td>CD6211</td><td><em>missing</em></td><td><em>missing</em></td><td><em>missing</em></td><td>29.0915</td><td>-4.08973</td></tr><tr><th>13</th><td>Point(20.0009, 1.0873)</td><td>République démocratique du Congo (la)</td><td>CD</td><td>Equateur</td><td>CD41</td><td>Basankusu</td><td>CD4107</td><td><em>missing</em></td><td><em>missing</em></td><td><em>missing</em></td><td>20.0009</td><td>1.0873</td></tr><tr><th>14</th><td>Point(23.9255, 1.5646)</td><td>République démocratique du Congo (la)</td><td>CD</td><td>Tshopo</td><td>CD51</td><td>Basoko</td><td>CD5109</td><td><em>missing</em></td><td><em>missing</em></td><td><em>missing</em></td><td>23.9255</td><td>1.5646</td></tr><tr><th>15</th><td>Point(21.1538, 0.501749)</td><td>République démocratique du Congo (la)</td><td>CD</td><td>Tshuapa</td><td>CD45</td><td>Befale</td><td>CD4503</td><td><em>missing</em></td><td><em>missing</em></td><td><em>missing</em></td><td>21.1538</td><td>0.501749</td></tr><tr><th>16</th><td>Point(22.909, -4.22625)</td><td>République démocratique du Congo (la)</td><td>CD</td><td>Sankuru</td><td>CD83</td><td>Bena-Dibele</td><td>CD8305</td><td><em>missing</em></td><td><em>missing</em></td><td><em>missing</em></td><td>22.909</td><td>-4.22625</td></tr><tr><th>17</th><td>Point(29.4555, 0.474898)</td><td>République démocratique du Congo (la)</td><td>CD</td><td>Nord-Kivu</td><td>CD61</td><td>Beni</td><td>CD6109</td><td><em>missing</em></td><td><em>missing</em></td><td><em>missing</em></td><td>29.4555</td><td>0.474898</td></tr><tr><th>18</th><td>Point(18.1866, -0.810484)</td><td>République démocratique du Congo (la)</td><td>CD</td><td>Equateur</td><td>CD41</td><td>Bikoro</td><td>CD4102</td><td><em>missing</em></td><td><em>missing</em></td><td><em>missing</em></td><td>18.1866</td><td>-0.810484</td></tr><tr><th>19</th><td>Point(20.9994, -0.494641)</td><td>République démocratique du Congo (la)</td><td>CD</td><td>Tshuapa</td><td>CD45</td><td>Boende</td><td>CD4502</td><td><em>missing</em></td><td><em>missing</em></td><td><em>missing</em></td><td>20.9994</td><td>-0.494641</td></tr><tr><th>20</th><td>Point(22.1968, -0.852509)</td><td>République démocratique du Congo (la)</td><td>CD</td><td>Tshuapa</td><td>CD45</td><td>Bokungu</td><td>CD4506</td><td><em>missing</em></td><td><em>missing</em></td><td><em>missing</em></td><td>22.1968</td><td>-0.852509</td></tr><tr><th>21</th><td>Point(16.3808, -2.68258)</td><td>République démocratique du Congo (la)</td><td>CD</td><td>Maï-Ndombe</td><td>CD33</td><td>Bolobo</td><td>CD3308</td><td><em>missing</em></td><td><em>missing</em></td><td><em>missing</em></td><td>16.3808</td><td>-2.68258</td></tr><tr><th>22</th><td>Point(19.2449, 0.402001)</td><td>République démocratique du Congo (la)</td><td>CD</td><td>Equateur</td><td>CD41</td><td>Bolomba</td><td>CD4108</td><td><em>missing</em></td><td><em>missing</em></td><td><em>missing</em></td><td>19.2449</td><td>0.402001</td></tr><tr><th>23</th><td>Point(13.0535, -5.81341)</td><td>République démocratique du Congo (la)</td><td>CD</td><td>Kongo-Central</td><td>CD20</td><td>Boma</td><td>CD2002</td><td><em>missing</em></td><td><em>missing</em></td><td><em>missing</em></td><td>13.0535</td><td>-5.81341</td></tr><tr><th>24</th><td>Point(18.5764, 1.66591)</td><td>République démocratique du Congo (la)</td><td>CD</td><td>Equateur</td><td>CD41</td><td>Bomongo</td><td>CD4104</td><td><em>missing</em></td><td><em>missing</em></td><td><em>missing</em></td><td>18.5764</td><td>1.66591</td></tr><tr><th>25</th><td>Point(24.0986, 4.1946)</td><td>République démocratique du Congo (la)</td><td>CD</td><td>Bas-Uele</td><td>CD52</td><td>Bondo</td><td>CD5206</td><td><em>missing</em></td><td><em>missing</em></td><td><em>missing</em></td><td>24.0986</td><td>4.1946</td></tr><tr><th>26</th><td>Point(21.1966, 1.57792)</td><td>République démocratique du Congo (la)</td><td>CD</td><td>Mongala</td><td>CD44</td><td>Bongandanga</td><td>CD4405</td><td><em>missing</em></td><td><em>missing</em></td><td><em>missing</em></td><td>21.1966</td><td>1.57792</td></tr><tr><th>27</th><td>Point(19.7907, 4.54933)</td><td>République démocratique du Congo (la)</td><td>CD</td><td>Nord-Ubangi</td><td>CD43</td><td>Bosobolo</td><td>CD4306</td><td><em>missing</em></td><td><em>missing</em></td><td><em>missing</em></td><td>19.7907</td><td>4.54933</td></tr><tr><th>28</th><td>Point(19.9603, 2.53344)</td><td>République démocratique du Congo (la)</td><td>CD</td><td>Sud-Ubangi</td><td>CD42</td><td>Budjala</td><td>CD4203</td><td><em>missing</em></td><td><em>missing</em></td><td><em>missing</em></td><td>19.9603</td><td>2.53344</td></tr><tr><th>29</th><td>Point(26.1279, -8.84885)</td><td>République démocratique du Congo (la)</td><td>CD</td><td>Haut-Lomami</td><td>CD73</td><td>Bukama</td><td>CD7306</td><td><em>missing</em></td><td><em>missing</em></td><td><em>missing</em></td><td>26.1279</td><td>-8.84885</td></tr><tr><th>30</th><td>Point(28.8456, -2.50039)</td><td>République démocratique du Congo (la)</td><td>CD</td><td>Sud-Kivu</td><td>CD62</td><td>Bukavu</td><td>CD6201</td><td><em>missing</em></td><td><em>missing</em></td><td><em>missing</em></td><td>28.8456</td><td>-2.50039</td></tr><tr><th>&vellip;</th><td>&vellip;</td><td>&vellip;</td><td>&vellip;</td><td>&vellip;</td><td>&vellip;</td><td>&vellip;</td><td>&vellip;</td><td>&vellip;</td><td>&vellip;</td><td>&vellip;</td><td>&vellip;</td><td>&vellip;</td></tr></tbody></table></div>"
      ],
      "text/latex": [
       "\\begin{tabular}{r|cccccccccccc}\n",
       "\t& geometry & ADM0\\_FR & ADM0\\_PCODE & ADM1\\_FR & ADM1\\_PCODE & ADM2\\_FR & ADM2\\_PCODE & ADM2\\_REF & ADM2ALT1FR & ADM2ALT2FR & POINT\\_X & POINT\\_Y\\\\\n",
       "\t\\hline\n",
       "\t& Point & String & String & String & String & String & String & String? & Missing & Missing & Float64 & Float64\\\\\n",
       "\t\\hline\n",
       "\t1 & Point(30.2382, 3.85842) & République démocratique du Congo (la) & CD & Haut-Uele & CD53 & Aba & CD5306 & \\emph{missing} & \\emph{missing} & \\emph{missing} & 30.2382 & 3.85842 \\\\\n",
       "\t2 & Point(23.7546, 2.98007) & République démocratique du Congo (la) & CD & Bas-Uele & CD52 & Aketi & CD5204 & \\emph{missing} & \\emph{missing} & \\emph{missing} & 23.7546 & 2.98007 \\\\\n",
       "\t3 & Point(26.0726, 4.47187) & République démocratique du Congo (la) & CD & Bas-Uele & CD52 & Ango & CD5207 & \\emph{missing} & \\emph{missing} & \\emph{missing} & 26.0726 & 4.47187 \\\\\n",
       "\t4 & Point(30.707, 3.13686) & République démocratique du Congo (la) & CD & Ituri & CD54 & Ariwara & CD5410 & \\emph{missing} & \\emph{missing} & \\emph{missing} & 30.707 & 3.13686 \\\\\n",
       "\t5 & Point(30.5333, 3.06645) & République démocratique du Congo (la) & CD & Ituri & CD54 & Aru & CD5409 & \\emph{missing} & \\emph{missing} & \\emph{missing} & 30.5333 & 3.06645 \\\\\n",
       "\t6 & Point(26.9969, 0.735506) & République démocratique du Congo (la) & CD & Tshopo & CD51 & Bafwasende & CD5111 & \\emph{missing} & \\emph{missing} & \\emph{missing} & 26.9969 & 0.735506 \\\\\n",
       "\t7 & Point(17.7111, -3.90487) & République démocratique du Congo (la) & CD & Kwilu & CD32 & Bagata & CD3202 & \\emph{missing} & \\emph{missing} & \\emph{missing} & 17.7111 & -3.90487 \\\\\n",
       "\t8 & Point(25.9729, 3.09299) & République démocratique du Congo (la) & CD & Bas-Uele & CD52 & Bambesa & CD5209 & \\emph{missing} & \\emph{missing} & \\emph{missing} & 25.9729 & 3.09299 \\\\\n",
       "\t9 & Point(25.4582, 1.58373) & République démocratique du Congo (la) & CD & Tshopo & CD51 & Banalia & CD5110 & \\emph{missing} & \\emph{missing} & \\emph{missing} & 25.4582 & 1.58373 \\\\\n",
       "\t10 & Point(17.4452, -3.31634) & République démocratique du Congo (la) & CD & Kwilu & CD32 & Bandundu & CD3201 & \\emph{missing} & \\emph{missing} & \\emph{missing} & 17.4452 & -3.31634 \\\\\n",
       "\t11 & Point(14.4524, -5.55387) & République démocratique du Congo (la) & CD & Kongo-Central & CD20 & Bangu & CD2012 & \\emph{missing} & \\emph{missing} & \\emph{missing} & 14.4524 & -5.55387 \\\\\n",
       "\t12 & Point(29.0915, -4.08973) & République démocratique du Congo (la) & CD & Sud-Kivu & CD62 & Baraka & CD6211 & \\emph{missing} & \\emph{missing} & \\emph{missing} & 29.0915 & -4.08973 \\\\\n",
       "\t13 & Point(20.0009, 1.0873) & République démocratique du Congo (la) & CD & Equateur & CD41 & Basankusu & CD4107 & \\emph{missing} & \\emph{missing} & \\emph{missing} & 20.0009 & 1.0873 \\\\\n",
       "\t14 & Point(23.9255, 1.5646) & République démocratique du Congo (la) & CD & Tshopo & CD51 & Basoko & CD5109 & \\emph{missing} & \\emph{missing} & \\emph{missing} & 23.9255 & 1.5646 \\\\\n",
       "\t15 & Point(21.1538, 0.501749) & République démocratique du Congo (la) & CD & Tshuapa & CD45 & Befale & CD4503 & \\emph{missing} & \\emph{missing} & \\emph{missing} & 21.1538 & 0.501749 \\\\\n",
       "\t16 & Point(22.909, -4.22625) & République démocratique du Congo (la) & CD & Sankuru & CD83 & Bena-Dibele & CD8305 & \\emph{missing} & \\emph{missing} & \\emph{missing} & 22.909 & -4.22625 \\\\\n",
       "\t17 & Point(29.4555, 0.474898) & République démocratique du Congo (la) & CD & Nord-Kivu & CD61 & Beni & CD6109 & \\emph{missing} & \\emph{missing} & \\emph{missing} & 29.4555 & 0.474898 \\\\\n",
       "\t18 & Point(18.1866, -0.810484) & République démocratique du Congo (la) & CD & Equateur & CD41 & Bikoro & CD4102 & \\emph{missing} & \\emph{missing} & \\emph{missing} & 18.1866 & -0.810484 \\\\\n",
       "\t19 & Point(20.9994, -0.494641) & République démocratique du Congo (la) & CD & Tshuapa & CD45 & Boende & CD4502 & \\emph{missing} & \\emph{missing} & \\emph{missing} & 20.9994 & -0.494641 \\\\\n",
       "\t20 & Point(22.1968, -0.852509) & République démocratique du Congo (la) & CD & Tshuapa & CD45 & Bokungu & CD4506 & \\emph{missing} & \\emph{missing} & \\emph{missing} & 22.1968 & -0.852509 \\\\\n",
       "\t21 & Point(16.3808, -2.68258) & République démocratique du Congo (la) & CD & Maï-Ndombe & CD33 & Bolobo & CD3308 & \\emph{missing} & \\emph{missing} & \\emph{missing} & 16.3808 & -2.68258 \\\\\n",
       "\t22 & Point(19.2449, 0.402001) & République démocratique du Congo (la) & CD & Equateur & CD41 & Bolomba & CD4108 & \\emph{missing} & \\emph{missing} & \\emph{missing} & 19.2449 & 0.402001 \\\\\n",
       "\t23 & Point(13.0535, -5.81341) & République démocratique du Congo (la) & CD & Kongo-Central & CD20 & Boma & CD2002 & \\emph{missing} & \\emph{missing} & \\emph{missing} & 13.0535 & -5.81341 \\\\\n",
       "\t24 & Point(18.5764, 1.66591) & République démocratique du Congo (la) & CD & Equateur & CD41 & Bomongo & CD4104 & \\emph{missing} & \\emph{missing} & \\emph{missing} & 18.5764 & 1.66591 \\\\\n",
       "\t25 & Point(24.0986, 4.1946) & République démocratique du Congo (la) & CD & Bas-Uele & CD52 & Bondo & CD5206 & \\emph{missing} & \\emph{missing} & \\emph{missing} & 24.0986 & 4.1946 \\\\\n",
       "\t26 & Point(21.1966, 1.57792) & République démocratique du Congo (la) & CD & Mongala & CD44 & Bongandanga & CD4405 & \\emph{missing} & \\emph{missing} & \\emph{missing} & 21.1966 & 1.57792 \\\\\n",
       "\t27 & Point(19.7907, 4.54933) & République démocratique du Congo (la) & CD & Nord-Ubangi & CD43 & Bosobolo & CD4306 & \\emph{missing} & \\emph{missing} & \\emph{missing} & 19.7907 & 4.54933 \\\\\n",
       "\t28 & Point(19.9603, 2.53344) & République démocratique du Congo (la) & CD & Sud-Ubangi & CD42 & Budjala & CD4203 & \\emph{missing} & \\emph{missing} & \\emph{missing} & 19.9603 & 2.53344 \\\\\n",
       "\t29 & Point(26.1279, -8.84885) & République démocratique du Congo (la) & CD & Haut-Lomami & CD73 & Bukama & CD7306 & \\emph{missing} & \\emph{missing} & \\emph{missing} & 26.1279 & -8.84885 \\\\\n",
       "\t30 & Point(28.8456, -2.50039) & République démocratique du Congo (la) & CD & Sud-Kivu & CD62 & Bukavu & CD6201 & \\emph{missing} & \\emph{missing} & \\emph{missing} & 28.8456 & -2.50039 \\\\\n",
       "\t$\\dots$ & $\\dots$ & $\\dots$ & $\\dots$ & $\\dots$ & $\\dots$ & $\\dots$ & $\\dots$ & $\\dots$ & $\\dots$ & $\\dots$ & $\\dots$ & $\\dots$ \\\\\n",
       "\\end{tabular}\n"
      ],
      "text/plain": [
       "\u001b[1m189×12 DataFrame\u001b[0m\n",
       "\u001b[1m Row \u001b[0m│\u001b[1m geometry                  \u001b[0m\u001b[1m ADM0_FR                           \u001b[0m\u001b[1m ADM0_PCODE \u001b[0m\u001b[1m ADM1_FR        \u001b[0m\u001b[1m ADM1_PCODE \u001b[0m\u001b[1m ADM2_FR    \u001b[0m\u001b[1m ADM2_PCODE \u001b[0m\u001b[1m ADM2_REF \u001b[0m\u001b[1m ADM2ALT1FR \u001b[0m\u001b[1m ADM2ALT2FR \u001b[0m\u001b[1m POINT_X \u001b[0m\u001b[1m POINT_Y   \u001b[0m\n",
       "\u001b[1m     \u001b[0m│\u001b[90m Point                     \u001b[0m\u001b[90m String                            \u001b[0m\u001b[90m String     \u001b[0m\u001b[90m String         \u001b[0m\u001b[90m String     \u001b[0m\u001b[90m String     \u001b[0m\u001b[90m String     \u001b[0m\u001b[90m String?  \u001b[0m\u001b[90m Missing    \u001b[0m\u001b[90m Missing    \u001b[0m\u001b[90m Float64 \u001b[0m\u001b[90m Float64   \u001b[0m\n",
       "─────┼────────────────────────────────────────────────────────────────────────────────────────────────────────────────────────────────────────────────────────────────────────────────────\n",
       "   1 │ Point(30.2382, 3.85842)    République démocratique du Congo…  CD          Haut-Uele       CD53        Aba         CD5306     \u001b[90m missing  \u001b[0m\u001b[90m    missing \u001b[0m\u001b[90m    missing \u001b[0m 30.2382   3.85842\n",
       "   2 │ Point(23.7546, 2.98007)    République démocratique du Congo…  CD          Bas-Uele        CD52        Aketi       CD5204     \u001b[90m missing  \u001b[0m\u001b[90m    missing \u001b[0m\u001b[90m    missing \u001b[0m 23.7546   2.98007\n",
       "   3 │ Point(26.0726, 4.47187)    République démocratique du Congo…  CD          Bas-Uele        CD52        Ango        CD5207     \u001b[90m missing  \u001b[0m\u001b[90m    missing \u001b[0m\u001b[90m    missing \u001b[0m 26.0726   4.47187\n",
       "   4 │ Point(30.707, 3.13686)     République démocratique du Congo…  CD          Ituri           CD54        Ariwara     CD5410     \u001b[90m missing  \u001b[0m\u001b[90m    missing \u001b[0m\u001b[90m    missing \u001b[0m 30.707    3.13686\n",
       "   5 │ Point(30.5333, 3.06645)    République démocratique du Congo…  CD          Ituri           CD54        Aru         CD5409     \u001b[90m missing  \u001b[0m\u001b[90m    missing \u001b[0m\u001b[90m    missing \u001b[0m 30.5333   3.06645\n",
       "   6 │ Point(26.9969, 0.735506)   République démocratique du Congo…  CD          Tshopo          CD51        Bafwasende  CD5111     \u001b[90m missing  \u001b[0m\u001b[90m    missing \u001b[0m\u001b[90m    missing \u001b[0m 26.9969   0.735506\n",
       "   7 │ Point(17.7111, -3.90487)   République démocratique du Congo…  CD          Kwilu           CD32        Bagata      CD3202     \u001b[90m missing  \u001b[0m\u001b[90m    missing \u001b[0m\u001b[90m    missing \u001b[0m 17.7111  -3.90487\n",
       "   8 │ Point(25.9729, 3.09299)    République démocratique du Congo…  CD          Bas-Uele        CD52        Bambesa     CD5209     \u001b[90m missing  \u001b[0m\u001b[90m    missing \u001b[0m\u001b[90m    missing \u001b[0m 25.9729   3.09299\n",
       "   9 │ Point(25.4582, 1.58373)    République démocratique du Congo…  CD          Tshopo          CD51        Banalia     CD5110     \u001b[90m missing  \u001b[0m\u001b[90m    missing \u001b[0m\u001b[90m    missing \u001b[0m 25.4582   1.58373\n",
       "  10 │ Point(17.4452, -3.31634)   République démocratique du Congo…  CD          Kwilu           CD32        Bandundu    CD3201     \u001b[90m missing  \u001b[0m\u001b[90m    missing \u001b[0m\u001b[90m    missing \u001b[0m 17.4452  -3.31634\n",
       "  11 │ Point(14.4524, -5.55387)   République démocratique du Congo…  CD          Kongo-Central   CD20        Bangu       CD2012     \u001b[90m missing  \u001b[0m\u001b[90m    missing \u001b[0m\u001b[90m    missing \u001b[0m 14.4524  -5.55387\n",
       "  ⋮  │             ⋮                              ⋮                      ⋮             ⋮             ⋮           ⋮           ⋮          ⋮          ⋮           ⋮          ⋮         ⋮\n",
       " 180 │ Point(29.0146, -3.21468)   République démocratique du Congo…  CD          Sud-Kivu        CD62        Uvira       CD6208     \u001b[90m missing  \u001b[0m\u001b[90m    missing \u001b[0m\u001b[90m    missing \u001b[0m 29.0146  -3.21468\n",
       " 181 │ Point(28.1636, -1.11856)   République démocratique du Congo…  CD          Nord-Kivu       CD61        Walikale    CD6104     \u001b[90m missing  \u001b[0m\u001b[90m    missing \u001b[0m\u001b[90m    missing \u001b[0m 28.1636  -1.11856\n",
       " 182 │ Point(28.6799, -2.72565)   République démocratique du Congo…  CD          Sud-Kivu        CD62        Walungu     CD6207     \u001b[90m missing  \u001b[0m\u001b[90m    missing \u001b[0m\u001b[90m    missing \u001b[0m 28.6799  -2.72565\n",
       " 183 │ Point(27.8389, 2.10723)    République démocratique du Congo…  CD          Haut-Uele       CD53        Wamba       CD5311     \u001b[90m missing  \u001b[0m\u001b[90m    missing \u001b[0m\u001b[90m    missing \u001b[0m 27.8389   2.10723\n",
       " 184 │ Point(29.2529, 2.97478)    République démocratique du Congo…  CD          Haut-Uele       CD53        Watsa       CD5309     \u001b[90m missing  \u001b[0m\u001b[90m    missing \u001b[0m\u001b[90m    missing \u001b[0m 29.2529   2.97478\n",
       " 185 │ Point(23.1432, 0.841036)   République démocratique du Congo…  CD          Tshopo          CD51        Yahuma      CD5107     \u001b[90m missing  \u001b[0m\u001b[90m    missing \u001b[0m\u001b[90m    missing \u001b[0m 23.1432   0.841036\n",
       " 186 │ Point(22.2295, 3.643)      République démocratique du Congo…  CD          Nord-Ubangi     CD43        Yakoma      CD4304     \u001b[90m missing  \u001b[0m\u001b[90m    missing \u001b[0m\u001b[90m    missing \u001b[0m 22.2295   3.643\n",
       " 187 │ Point(24.4817, 0.788154)   République démocratique du Congo…  CD          Tshopo          CD51        Yangambi    CD5106     \u001b[90m missing  \u001b[0m\u001b[90m    missing \u001b[0m\u001b[90m    missing \u001b[0m 24.4817   0.788154\n",
       " 188 │ Point(16.52, -2.10559)     République démocratique du Congo…  CD          Maï-Ndombe      CD33        Yumbi       CD3310     \u001b[90m missing  \u001b[0m\u001b[90m    missing \u001b[0m\u001b[90m    missing \u001b[0m 16.52    -2.10559\n",
       " 189 │ Point(18.6983, 4.21969)    République démocratique du Congo…  CD          Sud-Ubangi      CD42        Zongo       CD4206     \u001b[90m missing  \u001b[0m\u001b[90m    missing \u001b[0m\u001b[90m    missing \u001b[0m 18.6983   4.21969\n",
       "\u001b[36m                                                                                                                                                                          168 rows omitted\u001b[0m"
      ]
     },
     "execution_count": 5,
     "metadata": {},
     "output_type": "execute_result"
    }
   ],
   "source": [
    "drc_loc_T = Shapefile.Table(\"cod_admbnda_rgc_itos_20190911_shp/cod_admbndp_admALL_rgc_itos_20190911.shp\")\n",
    "drc_loc = DataFrame(drc_loc_T)"
   ]
  },
  {
   "cell_type": "code",
   "execution_count": 6,
   "id": "0966d77e",
   "metadata": {
    "collapsed": true
   },
   "outputs": [
    {
     "data": {
      "text/html": [
       "<div class=\"data-frame\"><p>189 rows × 3 columns</p><table class=\"data-frame\"><thead><tr><th></th><th>ADM2_FR</th><th>POINT_X</th><th>POINT_Y</th></tr><tr><th></th><th title=\"String\">String</th><th title=\"Float64\">Float64</th><th title=\"Float64\">Float64</th></tr></thead><tbody><tr><th>1</th><td>Aba</td><td>30.2382</td><td>3.85842</td></tr><tr><th>2</th><td>Aketi</td><td>23.7546</td><td>2.98007</td></tr><tr><th>3</th><td>Ango</td><td>26.0726</td><td>4.47187</td></tr><tr><th>4</th><td>Ariwara</td><td>30.707</td><td>3.13686</td></tr><tr><th>5</th><td>Aru</td><td>30.5333</td><td>3.06645</td></tr><tr><th>6</th><td>Bafwasende</td><td>26.9969</td><td>0.735506</td></tr><tr><th>7</th><td>Bagata</td><td>17.7111</td><td>-3.90487</td></tr><tr><th>8</th><td>Bambesa</td><td>25.9729</td><td>3.09299</td></tr><tr><th>9</th><td>Banalia</td><td>25.4582</td><td>1.58373</td></tr><tr><th>10</th><td>Bandundu</td><td>17.4452</td><td>-3.31634</td></tr><tr><th>11</th><td>Bangu</td><td>14.4524</td><td>-5.55387</td></tr><tr><th>12</th><td>Baraka</td><td>29.0915</td><td>-4.08973</td></tr><tr><th>13</th><td>Basankusu</td><td>20.0009</td><td>1.0873</td></tr><tr><th>14</th><td>Basoko</td><td>23.9255</td><td>1.5646</td></tr><tr><th>15</th><td>Befale</td><td>21.1538</td><td>0.501749</td></tr><tr><th>16</th><td>Bena-Dibele</td><td>22.909</td><td>-4.22625</td></tr><tr><th>17</th><td>Beni</td><td>29.4555</td><td>0.474898</td></tr><tr><th>18</th><td>Bikoro</td><td>18.1866</td><td>-0.810484</td></tr><tr><th>19</th><td>Boende</td><td>20.9994</td><td>-0.494641</td></tr><tr><th>20</th><td>Bokungu</td><td>22.1968</td><td>-0.852509</td></tr><tr><th>21</th><td>Bolobo</td><td>16.3808</td><td>-2.68258</td></tr><tr><th>22</th><td>Bolomba</td><td>19.2449</td><td>0.402001</td></tr><tr><th>23</th><td>Boma</td><td>13.0535</td><td>-5.81341</td></tr><tr><th>24</th><td>Bomongo</td><td>18.5764</td><td>1.66591</td></tr><tr><th>25</th><td>Bondo</td><td>24.0986</td><td>4.1946</td></tr><tr><th>26</th><td>Bongandanga</td><td>21.1966</td><td>1.57792</td></tr><tr><th>27</th><td>Bosobolo</td><td>19.7907</td><td>4.54933</td></tr><tr><th>28</th><td>Budjala</td><td>19.9603</td><td>2.53344</td></tr><tr><th>29</th><td>Bukama</td><td>26.1279</td><td>-8.84885</td></tr><tr><th>30</th><td>Bukavu</td><td>28.8456</td><td>-2.50039</td></tr><tr><th>&vellip;</th><td>&vellip;</td><td>&vellip;</td><td>&vellip;</td></tr></tbody></table></div>"
      ],
      "text/latex": [
       "\\begin{tabular}{r|ccc}\n",
       "\t& ADM2\\_FR & POINT\\_X & POINT\\_Y\\\\\n",
       "\t\\hline\n",
       "\t& String & Float64 & Float64\\\\\n",
       "\t\\hline\n",
       "\t1 & Aba & 30.2382 & 3.85842 \\\\\n",
       "\t2 & Aketi & 23.7546 & 2.98007 \\\\\n",
       "\t3 & Ango & 26.0726 & 4.47187 \\\\\n",
       "\t4 & Ariwara & 30.707 & 3.13686 \\\\\n",
       "\t5 & Aru & 30.5333 & 3.06645 \\\\\n",
       "\t6 & Bafwasende & 26.9969 & 0.735506 \\\\\n",
       "\t7 & Bagata & 17.7111 & -3.90487 \\\\\n",
       "\t8 & Bambesa & 25.9729 & 3.09299 \\\\\n",
       "\t9 & Banalia & 25.4582 & 1.58373 \\\\\n",
       "\t10 & Bandundu & 17.4452 & -3.31634 \\\\\n",
       "\t11 & Bangu & 14.4524 & -5.55387 \\\\\n",
       "\t12 & Baraka & 29.0915 & -4.08973 \\\\\n",
       "\t13 & Basankusu & 20.0009 & 1.0873 \\\\\n",
       "\t14 & Basoko & 23.9255 & 1.5646 \\\\\n",
       "\t15 & Befale & 21.1538 & 0.501749 \\\\\n",
       "\t16 & Bena-Dibele & 22.909 & -4.22625 \\\\\n",
       "\t17 & Beni & 29.4555 & 0.474898 \\\\\n",
       "\t18 & Bikoro & 18.1866 & -0.810484 \\\\\n",
       "\t19 & Boende & 20.9994 & -0.494641 \\\\\n",
       "\t20 & Bokungu & 22.1968 & -0.852509 \\\\\n",
       "\t21 & Bolobo & 16.3808 & -2.68258 \\\\\n",
       "\t22 & Bolomba & 19.2449 & 0.402001 \\\\\n",
       "\t23 & Boma & 13.0535 & -5.81341 \\\\\n",
       "\t24 & Bomongo & 18.5764 & 1.66591 \\\\\n",
       "\t25 & Bondo & 24.0986 & 4.1946 \\\\\n",
       "\t26 & Bongandanga & 21.1966 & 1.57792 \\\\\n",
       "\t27 & Bosobolo & 19.7907 & 4.54933 \\\\\n",
       "\t28 & Budjala & 19.9603 & 2.53344 \\\\\n",
       "\t29 & Bukama & 26.1279 & -8.84885 \\\\\n",
       "\t30 & Bukavu & 28.8456 & -2.50039 \\\\\n",
       "\t$\\dots$ & $\\dots$ & $\\dots$ & $\\dots$ \\\\\n",
       "\\end{tabular}\n"
      ],
      "text/plain": [
       "\u001b[1m189×3 DataFrame\u001b[0m\n",
       "\u001b[1m Row \u001b[0m│\u001b[1m ADM2_FR    \u001b[0m\u001b[1m POINT_X \u001b[0m\u001b[1m POINT_Y   \u001b[0m\n",
       "\u001b[1m     \u001b[0m│\u001b[90m String     \u001b[0m\u001b[90m Float64 \u001b[0m\u001b[90m Float64   \u001b[0m\n",
       "─────┼────────────────────────────────\n",
       "   1 │ Aba         30.2382   3.85842\n",
       "   2 │ Aketi       23.7546   2.98007\n",
       "   3 │ Ango        26.0726   4.47187\n",
       "   4 │ Ariwara     30.707    3.13686\n",
       "   5 │ Aru         30.5333   3.06645\n",
       "   6 │ Bafwasende  26.9969   0.735506\n",
       "   7 │ Bagata      17.7111  -3.90487\n",
       "   8 │ Bambesa     25.9729   3.09299\n",
       "   9 │ Banalia     25.4582   1.58373\n",
       "  10 │ Bandundu    17.4452  -3.31634\n",
       "  11 │ Bangu       14.4524  -5.55387\n",
       "  ⋮  │     ⋮          ⋮         ⋮\n",
       " 180 │ Uvira       29.0146  -3.21468\n",
       " 181 │ Walikale    28.1636  -1.11856\n",
       " 182 │ Walungu     28.6799  -2.72565\n",
       " 183 │ Wamba       27.8389   2.10723\n",
       " 184 │ Watsa       29.2529   2.97478\n",
       " 185 │ Yahuma      23.1432   0.841036\n",
       " 186 │ Yakoma      22.2295   3.643\n",
       " 187 │ Yangambi    24.4817   0.788154\n",
       " 188 │ Yumbi       16.52    -2.10559\n",
       " 189 │ Zongo       18.6983   4.21969\n",
       "\u001b[36m                      168 rows omitted\u001b[0m"
      ]
     },
     "execution_count": 6,
     "metadata": {},
     "output_type": "execute_result"
    }
   ],
   "source": [
    "drc_loc_only = drc_loc[!, [\"ADM2_FR\", \"POINT_X\", \"POINT_Y\"]]"
   ]
  },
  {
   "cell_type": "code",
   "execution_count": 19,
   "id": "dd49927f",
   "metadata": {},
   "outputs": [],
   "source": [
    "# Fix name inconsistencies\n",
    "drc_data[drc_data.ADMIN2 .== \"Katako Kombe\", :ADMIN2] .= \"Katako-Kombe\"\n",
    "drc_data[drc_data.ADMIN2 .== \"Oicha\", :ADMIN2] .= \"Oïcha\"\n",
    ";"
   ]
  },
  {
   "cell_type": "code",
   "execution_count": 8,
   "id": "93d3e435",
   "metadata": {
    "collapsed": true
   },
   "outputs": [
    {
     "data": {
      "text/html": [
       "<div class=\"data-frame\"><p>519 rows × 44 columns</p><table class=\"data-frame\"><thead><tr><th></th><th>CONTINENT</th><th>REGION</th><th>WHO_REGION</th><th>ADMIN0</th><th>ADMIN0ID</th><th>ADMIN0_FIP</th><th>ADMIN0ISO2</th><th>ADMIN0ISO3</th><th>ADMIN1</th><th>ADMIN1ID</th><th>ADMIN2</th><th>ADMIN2ID</th><th>Alt_ADMIN2</th><th>ADMIN3</th><th>ADMIN3ID</th><th>IUs_ADM</th><th>IUs_NAME</th><th>IU_ID</th><th>IU_CODE</th><th>Year</th><th>PopTot</th><th>PopPreSAC</th><th>PopSAC</th><th>PopAdult</th><th>Endemicity</th><th>PopReq</th><th>PopTrg</th><th>PopTreat</th><th>Cov</th><th>Cum_MDA</th><th>MDA</th><th>EffMDA</th><th>MDA_n</th><th>EffMDA_n</th><th>EpiCov</th><th>EpiMDA</th><th>EpiEffMDA</th><th>EpiMDA_n</th><th>EpiEffMDA_n</th><th>MDA_scheme</th><th>Endemicity_ID</th><th>ivermectin_amt</th><th>POINT_X</th><th>POINT_Y</th></tr><tr><th></th><th title=\"String7\">String7</th><th title=\"String15\">String15</th><th title=\"String7\">String7</th><th title=\"String\">String</th><th title=\"Int64\">Int64</th><th title=\"String3\">String3</th><th title=\"String3\">String3</th><th title=\"String3\">String3</th><th title=\"String15\">String15</th><th title=\"Int64\">Int64</th><th title=\"String15\">String15</th><th title=\"Int64\">Int64</th><th title=\"String7\">String7</th><th title=\"String31\">String31</th><th title=\"Int64\">Int64</th><th title=\"String7\">String7</th><th title=\"String31\">String31</th><th title=\"Int64\">Int64</th><th title=\"String15\">String15</th><th title=\"Int64\">Int64</th><th title=\"Int64\">Int64</th><th title=\"Int64\">Int64</th><th title=\"Int64\">Int64</th><th title=\"Int64\">Int64</th><th title=\"String\">String</th><th title=\"Int64\">Int64</th><th title=\"Int64\">Int64</th><th title=\"Int64\">Int64</th><th title=\"Float64\">Float64</th><th title=\"Int64\">Int64</th><th title=\"Int64\">Int64</th><th title=\"Int64\">Int64</th><th title=\"Int64\">Int64</th><th title=\"Int64\">Int64</th><th title=\"Float64\">Float64</th><th title=\"Int64\">Int64</th><th title=\"Int64\">Int64</th><th title=\"Int64\">Int64</th><th title=\"Int64\">Int64</th><th title=\"String15\">String15</th><th title=\"Int64\">Int64</th><th title=\"Float64\">Float64</th><th title=\"Union{Missing, Float64}\">Float64?</th><th title=\"Union{Missing, Float64}\">Float64?</th></tr></thead><tbody><tr><th>1</th><td>Africa</td><td>Middle Africa</td><td>AFRO</td><td>Democratic Republic of the Congo</td><td>14</td><td>CG</td><td>CD</td><td>COD</td><td>Kwilu</td><td>24753</td><td>Bagata</td><td>0</td><td>null</td><td>Bagata</td><td>13816</td><td>ADM3</td><td>Bagata</td><td>13816</td><td>COD2475313816</td><td>2019</td><td>203103</td><td>34528</td><td>71086</td><td>93427</td><td>Unknown (under LF MDA)</td><td>0</td><td>0</td><td>0</td><td>0.0</td><td>4</td><td>0</td><td>0</td><td>1</td><td>1</td><td>0.0</td><td>0</td><td>0</td><td>1</td><td>1</td><td>Not delivered</td><td>5</td><td>0.0</td><td>17.7111</td><td>-3.90487</td></tr><tr><th>2</th><td>Africa</td><td>Middle Africa</td><td>AFRO</td><td>Democratic Republic of the Congo</td><td>14</td><td>CG</td><td>CD</td><td>COD</td><td>Kwilu</td><td>24753</td><td>Bandundu</td><td>0</td><td>null</td><td>Bandundu</td><td>13818</td><td>ADM3</td><td>Bandundu</td><td>13818</td><td>COD2475313818</td><td>2019</td><td>189523</td><td>32219</td><td>66333</td><td>87181</td><td>Unknown (under LF MDA)</td><td>0</td><td>0</td><td>0</td><td>0.0</td><td>4</td><td>0</td><td>0</td><td>1</td><td>1</td><td>0.0</td><td>0</td><td>0</td><td>1</td><td>1</td><td>Not delivered</td><td>5</td><td>0.0</td><td>17.4452</td><td>-3.31634</td></tr><tr><th>3</th><td>Africa</td><td>Middle Africa</td><td>AFRO</td><td>Democratic Republic of the Congo</td><td>14</td><td>CG</td><td>CD</td><td>COD</td><td>Kwango</td><td>24752</td><td>Kenge</td><td>0</td><td>null</td><td>Boko</td><td>13819</td><td>ADM3</td><td>Boko</td><td>13819</td><td>COD2475213819</td><td>2019</td><td>292409</td><td>49710</td><td>102343</td><td>134508</td><td>Endemic (under MDA)</td><td>292409</td><td>236851</td><td>236868</td><td>100.01</td><td>6</td><td>1</td><td>1</td><td>4</td><td>4</td><td>81.01</td><td>1</td><td>1</td><td>4</td><td>3</td><td>IVM</td><td>2</td><td>2.71063e6</td><td>17.0216</td><td>-5.02334</td></tr><tr><th>4</th><td>Africa</td><td>Middle Africa</td><td>AFRO</td><td>Democratic Republic of the Congo</td><td>14</td><td>CG</td><td>CD</td><td>COD</td><td>Mai-Ndombe</td><td>24754</td><td>Kutu</td><td>0</td><td>null</td><td>Bokoro</td><td>13820</td><td>ADM3</td><td>Bokoro</td><td>13820</td><td>COD2475413820</td><td>2019</td><td>259679</td><td>44145</td><td>90888</td><td>119452</td><td>Unknown (consider Oncho Elimination Mapping)</td><td>0</td><td>0</td><td>0</td><td>0.0</td><td>0</td><td>0</td><td>0</td><td>0</td><td>0</td><td>0.0</td><td>0</td><td>0</td><td>0</td><td>0</td><td>Not delivered</td><td>4</td><td>0.0</td><td>18.2339</td><td>-2.98169</td></tr><tr><th>5</th><td>Africa</td><td>Middle Africa</td><td>AFRO</td><td>Democratic Republic of the Congo</td><td>14</td><td>CG</td><td>CD</td><td>COD</td><td>Mai-Ndombe</td><td>24754</td><td>Bolobo</td><td>0</td><td>null</td><td>Bolobo</td><td>13821</td><td>ADM3</td><td>Bolobo</td><td>13821</td><td>COD2475413821</td><td>2019</td><td>149070</td><td>25342</td><td>52175</td><td>68572</td><td>Unknown (consider Oncho Elimination Mapping)</td><td>0</td><td>0</td><td>0</td><td>0.0</td><td>0</td><td>0</td><td>0</td><td>0</td><td>0</td><td>0.0</td><td>0</td><td>0</td><td>0</td><td>0</td><td>Not delivered</td><td>4</td><td>0.0</td><td>16.3808</td><td>-2.68258</td></tr><tr><th>6</th><td>Africa</td><td>Middle Africa</td><td>AFRO</td><td>Democratic Republic of the Congo</td><td>14</td><td>CG</td><td>CD</td><td>COD</td><td>Mai-Ndombe</td><td>24754</td><td>Oshwe</td><td>0</td><td>null</td><td>Bosobe</td><td>13822</td><td>ADM3</td><td>Bosobe</td><td>13822</td><td>COD2475413822</td><td>2019</td><td>133039</td><td>22617</td><td>46564</td><td>61198</td><td>Unknown (consider Oncho Elimination Mapping)</td><td>0</td><td>0</td><td>0</td><td>0.0</td><td>0</td><td>0</td><td>0</td><td>0</td><td>0</td><td>0.0</td><td>0</td><td>0</td><td>0</td><td>0</td><td>Not delivered</td><td>4</td><td>0.0</td><td>19.9664</td><td>-3.10103</td></tr><tr><th>7</th><td>Africa</td><td>Middle Africa</td><td>AFRO</td><td>Democratic Republic of the Congo</td><td>14</td><td>CG</td><td>CD</td><td>COD</td><td>Kwilu</td><td>24753</td><td>Bulungu</td><td>0</td><td>null</td><td>Bulungu</td><td>13823</td><td>ADM3</td><td>Bulungu</td><td>13823</td><td>COD2475313823</td><td>2019</td><td>315311</td><td>53603</td><td>110359</td><td>145043</td><td>Unknown (under LF MDA)</td><td>0</td><td>0</td><td>0</td><td>0.0</td><td>4</td><td>0</td><td>0</td><td>1</td><td>1</td><td>0.0</td><td>0</td><td>0</td><td>1</td><td>1</td><td>Not delivered</td><td>5</td><td>0.0</td><td>18.6919</td><td>-4.66163</td></tr><tr><th>8</th><td>Africa</td><td>Middle Africa</td><td>AFRO</td><td>Democratic Republic of the Congo</td><td>14</td><td>CG</td><td>CD</td><td>COD</td><td>Kwilu</td><td>24753</td><td>Bulungu</td><td>0</td><td>null</td><td>Djuma</td><td>13824</td><td>ADM3</td><td>Djuma</td><td>13824</td><td>COD2475313824</td><td>2019</td><td>248915</td><td>42316</td><td>87120</td><td>114501</td><td>Unknown (under LF MDA)</td><td>0</td><td>0</td><td>0</td><td>0.0</td><td>4</td><td>0</td><td>0</td><td>1</td><td>1</td><td>0.0</td><td>0</td><td>0</td><td>1</td><td>1</td><td>Not delivered</td><td>5</td><td>0.0</td><td>18.6919</td><td>-4.66163</td></tr><tr><th>9</th><td>Africa</td><td>Middle Africa</td><td>AFRO</td><td>Democratic Republic of the Congo</td><td>14</td><td>CG</td><td>CD</td><td>COD</td><td>Kwango</td><td>24752</td><td>Feshi</td><td>0</td><td>null</td><td>Feshi</td><td>13825</td><td>ADM3</td><td>Feshi</td><td>13825</td><td>COD2475213825</td><td>2019</td><td>160401</td><td>27268</td><td>56140</td><td>73784</td><td>Unknown (under LF MDA)</td><td>0</td><td>0</td><td>0</td><td>0.0</td><td>2</td><td>0</td><td>0</td><td>1</td><td>1</td><td>0.0</td><td>0</td><td>0</td><td>1</td><td>1</td><td>Not delivered</td><td>5</td><td>0.0</td><td>18.3199</td><td>-6.29713</td></tr><tr><th>10</th><td>Africa</td><td>Middle Africa</td><td>AFRO</td><td>Democratic Republic of the Congo</td><td>14</td><td>CG</td><td>CD</td><td>COD</td><td>Kwilu</td><td>24753</td><td>Gungu</td><td>0</td><td>null</td><td>Gungu</td><td>13826</td><td>ADM3</td><td>Gungu</td><td>13826</td><td>COD2475313826</td><td>2019</td><td>274410</td><td>46650</td><td>96044</td><td>126229</td><td>Unknown (under LF MDA)</td><td>0</td><td>0</td><td>0</td><td>0.0</td><td>4</td><td>0</td><td>0</td><td>1</td><td>1</td><td>0.0</td><td>0</td><td>0</td><td>1</td><td>1</td><td>Not delivered</td><td>5</td><td>0.0</td><td>19.2752</td><td>-5.7703</td></tr><tr><th>11</th><td>Africa</td><td>Middle Africa</td><td>AFRO</td><td>Democratic Republic of the Congo</td><td>14</td><td>CG</td><td>CD</td><td>COD</td><td>Kwilu</td><td>24753</td><td>Idiofa</td><td>0</td><td>null</td><td>Idiofa</td><td>13827</td><td>ADM3</td><td>Idiofa</td><td>13827</td><td>COD2475313827</td><td>2019</td><td>322941</td><td>54900</td><td>113029</td><td>148553</td><td>Unknown (under LF MDA)</td><td>0</td><td>0</td><td>0</td><td>0.0</td><td>4</td><td>0</td><td>0</td><td>1</td><td>1</td><td>0.0</td><td>0</td><td>0</td><td>1</td><td>1</td><td>Not delivered</td><td>5</td><td>0.0</td><td>19.5274</td><td>-4.67443</td></tr><tr><th>12</th><td>Africa</td><td>Middle Africa</td><td>AFRO</td><td>Democratic Republic of the Congo</td><td>14</td><td>CG</td><td>CD</td><td>COD</td><td>Mai-Ndombe</td><td>24754</td><td>Inongo</td><td>0</td><td>null</td><td>Inongo</td><td>13828</td><td>ADM3</td><td>Inongo</td><td>13828</td><td>COD2475413828</td><td>2019</td><td>218061</td><td>37070</td><td>76321</td><td>100308</td><td>Unknown (consider Oncho Elimination Mapping)</td><td>0</td><td>0</td><td>0</td><td>0.0</td><td>0</td><td>0</td><td>0</td><td>0</td><td>0</td><td>0.0</td><td>0</td><td>0</td><td>0</td><td>0</td><td>Not delivered</td><td>4</td><td>0.0</td><td>18.1582</td><td>-1.92217</td></tr><tr><th>13</th><td>Africa</td><td>Middle Africa</td><td>AFRO</td><td>Democratic Republic of the Congo</td><td>14</td><td>CG</td><td>CD</td><td>COD</td><td>Kwilu</td><td>24753</td><td>Idiofa</td><td>0</td><td>null</td><td>Ipamu</td><td>13829</td><td>ADM3</td><td>Ipamu</td><td>13829</td><td>COD2475313829</td><td>2019</td><td>201483</td><td>34252</td><td>70519</td><td>92682</td><td>Unknown (under LF MDA)</td><td>0</td><td>0</td><td>0</td><td>0.0</td><td>4</td><td>0</td><td>0</td><td>1</td><td>1</td><td>0.0</td><td>0</td><td>0</td><td>1</td><td>1</td><td>Not delivered</td><td>5</td><td>0.0</td><td>19.5274</td><td>-4.67443</td></tr><tr><th>14</th><td>Africa</td><td>Middle Africa</td><td>AFRO</td><td>Democratic Republic of the Congo</td><td>14</td><td>CG</td><td>CD</td><td>COD</td><td>Kwango</td><td>24752</td><td>Kahemba</td><td>0</td><td>null</td><td>Kahemba</td><td>13830</td><td>ADM3</td><td>Kahemba</td><td>13830</td><td>COD2475213830</td><td>2019</td><td>296454</td><td>50397</td><td>103759</td><td>136369</td><td>Unknown (consider Oncho Elimination Mapping)</td><td>0</td><td>0</td><td>0</td><td>0.0</td><td>0</td><td>0</td><td>0</td><td>0</td><td>0</td><td>0.0</td><td>0</td><td>0</td><td>0</td><td>0</td><td>Not delivered</td><td>4</td><td>0.0</td><td>19.0049</td><td>-7.30386</td></tr><tr><th>15</th><td>Africa</td><td>Middle Africa</td><td>AFRO</td><td>Democratic Republic of the Congo</td><td>14</td><td>CG</td><td>CD</td><td>COD</td><td>Kwango</td><td>24752</td><td>Kahemba</td><td>0</td><td>null</td><td>Kajiji</td><td>13831</td><td>ADM3</td><td>Kajiji</td><td>13831</td><td>COD2475213831</td><td>2019</td><td>174542</td><td>29672</td><td>61090</td><td>80289</td><td>Unknown (consider Oncho Elimination Mapping)</td><td>0</td><td>0</td><td>0</td><td>0.0</td><td>0</td><td>0</td><td>0</td><td>0</td><td>0</td><td>0.0</td><td>0</td><td>0</td><td>0</td><td>0</td><td>Not delivered</td><td>4</td><td>0.0</td><td>19.0049</td><td>-7.30386</td></tr><tr><th>16</th><td>Africa</td><td>Middle Africa</td><td>AFRO</td><td>Democratic Republic of the Congo</td><td>14</td><td>CG</td><td>CD</td><td>COD</td><td>Kwango</td><td>24752</td><td>Kasongo-Lunda</td><td>0</td><td>null</td><td>Kasongo Lunda</td><td>13832</td><td>ADM3</td><td>Kasongo Lunda</td><td>13832</td><td>COD2475213832</td><td>2019</td><td>181972</td><td>30935</td><td>63690</td><td>83707</td><td>Unknown (under LF MDA)</td><td>147397</td><td>147397</td><td>148057</td><td>100.45</td><td>7</td><td>1</td><td>1</td><td>4</td><td>4</td><td>100.45</td><td>1</td><td>1</td><td>4</td><td>4</td><td>ALB+IVM</td><td>5</td><td>1.36637e6</td><td>17.589</td><td>-7.04828</td></tr><tr><th>17</th><td>Africa</td><td>Middle Africa</td><td>AFRO</td><td>Democratic Republic of the Congo</td><td>14</td><td>CG</td><td>CD</td><td>COD</td><td>Kwango</td><td>24752</td><td>Kenge</td><td>0</td><td>null</td><td>Kenge</td><td>13833</td><td>ADM3</td><td>Kenge</td><td>13833</td><td>COD2475213833</td><td>2019</td><td>282017</td><td>47943</td><td>98706</td><td>129728</td><td>Endemic (under MDA)</td><td>282017</td><td>228434</td><td>228102</td><td>99.85</td><td>6</td><td>1</td><td>1</td><td>4</td><td>4</td><td>80.88</td><td>1</td><td>1</td><td>4</td><td>2</td><td>IVM</td><td>2</td><td>2.6143e6</td><td>17.0216</td><td>-5.02334</td></tr><tr><th>18</th><td>Africa</td><td>Middle Africa</td><td>AFRO</td><td>Democratic Republic of the Congo</td><td>14</td><td>CG</td><td>CD</td><td>COD</td><td>Kwango</td><td>24752</td><td>Kasongo-Lunda</td><td>0</td><td>null</td><td>Kitenda</td><td>13834</td><td>ADM3</td><td>Kitenda</td><td>13834</td><td>COD2475213834</td><td>2019</td><td>159646</td><td>27140</td><td>55876</td><td>73437</td><td>Endemic (under MDA)</td><td>159646</td><td>129313</td><td>129618</td><td>100.24</td><td>4</td><td>1</td><td>1</td><td>3</td><td>3</td><td>81.19</td><td>1</td><td>1</td><td>3</td><td>3</td><td>ALB+IVM</td><td>2</td><td>1.47992e6</td><td>17.589</td><td>-7.04828</td></tr><tr><th>19</th><td>Africa</td><td>Middle Africa</td><td>AFRO</td><td>Democratic Republic of the Congo</td><td>14</td><td>CG</td><td>CD</td><td>COD</td><td>Kwilu</td><td>24753</td><td>Bagata</td><td>0</td><td>null</td><td>Kikongo</td><td>13835</td><td>ADM3</td><td>Kikongo</td><td>13835</td><td>COD2475313835</td><td>2019</td><td>197412</td><td>33560</td><td>69094</td><td>90810</td><td>Unknown (under LF MDA)</td><td>0</td><td>0</td><td>0</td><td>0.0</td><td>4</td><td>0</td><td>0</td><td>1</td><td>1</td><td>0.0</td><td>0</td><td>0</td><td>1</td><td>1</td><td>Not delivered</td><td>5</td><td>0.0</td><td>17.7111</td><td>-3.90487</td></tr><tr><th>20</th><td>Africa</td><td>Middle Africa</td><td>AFRO</td><td>Democratic Republic of the Congo</td><td>14</td><td>CG</td><td>CD</td><td>COD</td><td>Kwilu</td><td>24753</td><td>Kikwit</td><td>0</td><td>null</td><td>Kikwit-Nord</td><td>13836</td><td>ADM3</td><td>Kikwit-Nord</td><td>13836</td><td>COD2475313836</td><td>2019</td><td>245718</td><td>41772</td><td>86001</td><td>113030</td><td>Unknown (consider Oncho Elimination Mapping)</td><td>0</td><td>0</td><td>0</td><td>0.0</td><td>0</td><td>0</td><td>0</td><td>0</td><td>0</td><td>0.0</td><td>0</td><td>0</td><td>0</td><td>0</td><td>Not delivered</td><td>4</td><td>0.0</td><td>18.8029</td><td>-5.05785</td></tr><tr><th>21</th><td>Africa</td><td>Middle Africa</td><td>AFRO</td><td>Democratic Republic of the Congo</td><td>14</td><td>CG</td><td>CD</td><td>COD</td><td>Kwilu</td><td>24753</td><td>Kikwit</td><td>0</td><td>null</td><td>Kikwit-Sud</td><td>13837</td><td>ADM3</td><td>Kikwit-Sud</td><td>13837</td><td>COD2475313837</td><td>2019</td><td>268993</td><td>45729</td><td>94148</td><td>123737</td><td>Unknown (consider Oncho Elimination Mapping)</td><td>0</td><td>0</td><td>0</td><td>0.0</td><td>0</td><td>0</td><td>0</td><td>0</td><td>0</td><td>0.0</td><td>0</td><td>0</td><td>0</td><td>0</td><td>Not delivered</td><td>4</td><td>0.0</td><td>18.8029</td><td>-5.05785</td></tr><tr><th>22</th><td>Africa</td><td>Middle Africa</td><td>AFRO</td><td>Democratic Republic of the Congo</td><td>14</td><td>CG</td><td>CD</td><td>COD</td><td>Kwango</td><td>24752</td><td>Kenge</td><td>0</td><td>null</td><td>Kimbau</td><td>13838</td><td>ADM3</td><td>Kimbau</td><td>13838</td><td>COD2475213838</td><td>2019</td><td>226029</td><td>38425</td><td>79110</td><td>103973</td><td>Endemic (under MDA)</td><td>226029</td><td>183083</td><td>181510</td><td>99.14</td><td>18</td><td>1</td><td>1</td><td>6</td><td>6</td><td>80.3</td><td>1</td><td>1</td><td>6</td><td>2</td><td>IVM</td><td>2</td><td>2.09529e6</td><td>17.0216</td><td>-5.02334</td></tr><tr><th>23</th><td>Africa</td><td>Middle Africa</td><td>AFRO</td><td>Democratic Republic of the Congo</td><td>14</td><td>CG</td><td>CD</td><td>COD</td><td>Kwilu</td><td>24753</td><td>Idiofa</td><td>0</td><td>null</td><td>Kimputu</td><td>13839</td><td>ADM3</td><td>Kimputu</td><td>13839</td><td>COD2475313839</td><td>2019</td><td>218931</td><td>37218</td><td>76626</td><td>100708</td><td>Endemic (under MDA)</td><td>218931</td><td>177334</td><td>178506</td><td>100.66</td><td>3</td><td>1</td><td>1</td><td>2</td><td>2</td><td>81.54</td><td>1</td><td>1</td><td>2</td><td>2</td><td>IVM</td><td>2</td><td>2.02949e6</td><td>19.5274</td><td>-4.67443</td></tr><tr><th>24</th><td>Africa</td><td>Middle Africa</td><td>AFRO</td><td>Democratic Republic of the Congo</td><td>14</td><td>CG</td><td>CD</td><td>COD</td><td>Kwilu</td><td>24753</td><td>Gungu</td><td>0</td><td>null</td><td>Kingandu</td><td>13840</td><td>ADM3</td><td>Kingandu</td><td>13840</td><td>COD2475313840</td><td>2019</td><td>117489</td><td>19973</td><td>41121</td><td>54045</td><td>Unknown (consider Oncho Elimination Mapping)</td><td>0</td><td>0</td><td>0</td><td>0.0</td><td>0</td><td>0</td><td>0</td><td>0</td><td>0</td><td>0.0</td><td>0</td><td>0</td><td>0</td><td>0</td><td>Not delivered</td><td>4</td><td>0.0</td><td>19.2752</td><td>-5.7703</td></tr><tr><th>25</th><td>Africa</td><td>Middle Africa</td><td>AFRO</td><td>Democratic Republic of the Congo</td><td>14</td><td>CG</td><td>CD</td><td>COD</td><td>Mai-Ndombe</td><td>24754</td><td>Kiri</td><td>0</td><td>null</td><td>Kiri</td><td>13841</td><td>ADM3</td><td>Kiri</td><td>13841</td><td>COD2475413841</td><td>2019</td><td>146007</td><td>24821</td><td>51102</td><td>67163</td><td>Endemic (under MDA)</td><td>146007</td><td>118265</td><td>118625</td><td>100.3</td><td>15</td><td>1</td><td>1</td><td>5</td><td>5</td><td>81.25</td><td>1</td><td>1</td><td>5</td><td>4</td><td>ALB+IVM</td><td>2</td><td>1.35348e6</td><td>19.2074</td><td>-1.61623</td></tr><tr><th>26</th><td>Africa</td><td>Middle Africa</td><td>AFRO</td><td>Democratic Republic of the Congo</td><td>14</td><td>CG</td><td>CD</td><td>COD</td><td>Kwango</td><td>24752</td><td>Feshi</td><td>0</td><td>null</td><td>Kisanji</td><td>13842</td><td>ADM3</td><td>Kisanji</td><td>13842</td><td>COD2475213842</td><td>2019</td><td>127905</td><td>21744</td><td>44767</td><td>58836</td><td>Unknown (under LF MDA)</td><td>0</td><td>0</td><td>0</td><td>0.0</td><td>2</td><td>0</td><td>0</td><td>1</td><td>1</td><td>0.0</td><td>0</td><td>0</td><td>1</td><td>1</td><td>Not delivered</td><td>5</td><td>0.0</td><td>18.3199</td><td>-6.29713</td></tr><tr><th>27</th><td>Africa</td><td>Middle Africa</td><td>AFRO</td><td>Democratic Republic of the Congo</td><td>14</td><td>CG</td><td>CD</td><td>COD</td><td>Kwilu</td><td>24753</td><td>Idiofa</td><td>0</td><td>null</td><td>Koshibanda</td><td>13843</td><td>ADM3</td><td>Koshibanda</td><td>13843</td><td>COD2475313843</td><td>2019</td><td>229851</td><td>39075</td><td>80448</td><td>105731</td><td>Endemic (under MDA)</td><td>229851</td><td>186179</td><td>188438</td><td>101.21</td><td>17</td><td>1</td><td>1</td><td>5</td><td>5</td><td>81.98</td><td>1</td><td>1</td><td>5</td><td>4</td><td>IVM</td><td>2</td><td>2.13072e6</td><td>19.5274</td><td>-4.67443</td></tr><tr><th>28</th><td>Africa</td><td>Middle Africa</td><td>AFRO</td><td>Democratic Republic of the Congo</td><td>14</td><td>CG</td><td>CD</td><td>COD</td><td>Mai-Ndombe</td><td>24754</td><td>Kwamouth</td><td>0</td><td>null</td><td>Kwamouth</td><td>13844</td><td>ADM3</td><td>Kwamouth</td><td>13844</td><td>COD2475413844</td><td>2019</td><td>181613</td><td>30874</td><td>63565</td><td>83542</td><td>Unknown (consider Oncho Elimination Mapping)</td><td>0</td><td>0</td><td>0</td><td>0.0</td><td>0</td><td>0</td><td>0</td><td>0</td><td>0</td><td>0.0</td><td>0</td><td>0</td><td>0</td><td>0</td><td>Not delivered</td><td>4</td><td>0.0</td><td>16.678</td><td>-3.57943</td></tr><tr><th>29</th><td>Africa</td><td>Middle Africa</td><td>AFRO</td><td>Democratic Republic of the Congo</td><td>14</td><td>CG</td><td>CD</td><td>COD</td><td>Kwango</td><td>24752</td><td>Kasongo-Lunda</td><td>0</td><td>null</td><td>Tembo</td><td>13845</td><td>ADM3</td><td>Tembo</td><td>13845</td><td>COD2475213845</td><td>2019</td><td>109649</td><td>18640</td><td>38377</td><td>50439</td><td>Unknown (consider Oncho Elimination Mapping)</td><td>0</td><td>0</td><td>0</td><td>0.0</td><td>0</td><td>0</td><td>0</td><td>0</td><td>0</td><td>0.0</td><td>0</td><td>0</td><td>0</td><td>0</td><td>Not delivered</td><td>4</td><td>0.0</td><td>17.589</td><td>-7.04828</td></tr><tr><th>30</th><td>Africa</td><td>Middle Africa</td><td>AFRO</td><td>Democratic Republic of the Congo</td><td>14</td><td>CG</td><td>CD</td><td>COD</td><td>Kwilu</td><td>24753</td><td>Bulungu</td><td>0</td><td>null</td><td>Lusanga</td><td>13846</td><td>ADM3</td><td>Lusanga</td><td>13846</td><td>COD2475313846</td><td>2019</td><td>317124</td><td>53911</td><td>110993</td><td>145877</td><td>Endemic (under MDA)</td><td>317124</td><td>256870</td><td>262017</td><td>102.0</td><td>17</td><td>1</td><td>1</td><td>5</td><td>5</td><td>82.62</td><td>1</td><td>1</td><td>5</td><td>3</td><td>IVM</td><td>2</td><td>2.93974e6</td><td>18.6919</td><td>-4.66163</td></tr><tr><th>&vellip;</th><td>&vellip;</td><td>&vellip;</td><td>&vellip;</td><td>&vellip;</td><td>&vellip;</td><td>&vellip;</td><td>&vellip;</td><td>&vellip;</td><td>&vellip;</td><td>&vellip;</td><td>&vellip;</td><td>&vellip;</td><td>&vellip;</td><td>&vellip;</td><td>&vellip;</td><td>&vellip;</td><td>&vellip;</td><td>&vellip;</td><td>&vellip;</td><td>&vellip;</td><td>&vellip;</td><td>&vellip;</td><td>&vellip;</td><td>&vellip;</td><td>&vellip;</td><td>&vellip;</td><td>&vellip;</td><td>&vellip;</td><td>&vellip;</td><td>&vellip;</td><td>&vellip;</td><td>&vellip;</td><td>&vellip;</td><td>&vellip;</td><td>&vellip;</td><td>&vellip;</td><td>&vellip;</td><td>&vellip;</td><td>&vellip;</td><td>&vellip;</td><td>&vellip;</td><td>&vellip;</td><td>&vellip;</td><td>&vellip;</td></tr></tbody></table></div>"
      ],
      "text/latex": [
       "\\begin{tabular}{r|cccccccccccccccccccccccccccccccccccccccccccc}\n",
       "\t& CONTINENT & REGION & WHO\\_REGION & ADMIN0 & ADMIN0ID & ADMIN0\\_FIP & ADMIN0ISO2 & ADMIN0ISO3 & ADMIN1 & ADMIN1ID & ADMIN2 & ADMIN2ID & Alt\\_ADMIN2 & ADMIN3 & ADMIN3ID & IUs\\_ADM & IUs\\_NAME & IU\\_ID & IU\\_CODE & Year & PopTot & PopPreSAC & PopSAC & PopAdult & Endemicity & PopReq & PopTrg & PopTreat & Cov & Cum\\_MDA & MDA & EffMDA & MDA\\_n & EffMDA\\_n & EpiCov & EpiMDA & EpiEffMDA & EpiMDA\\_n & EpiEffMDA\\_n & MDA\\_scheme & Endemicity\\_ID & ivermectin\\_amt & POINT\\_X & POINT\\_Y\\\\\n",
       "\t\\hline\n",
       "\t& String7 & String15 & String7 & String & Int64 & String3 & String3 & String3 & String15 & Int64 & String15 & Int64 & String7 & String31 & Int64 & String7 & String31 & Int64 & String15 & Int64 & Int64 & Int64 & Int64 & Int64 & String & Int64 & Int64 & Int64 & Float64 & Int64 & Int64 & Int64 & Int64 & Int64 & Float64 & Int64 & Int64 & Int64 & Int64 & String15 & Int64 & Float64 & Float64? & Float64?\\\\\n",
       "\t\\hline\n",
       "\t1 & Africa & Middle Africa & AFRO & Democratic Republic of the Congo & 14 & CG & CD & COD & Kwilu & 24753 & Bagata & 0 & null & Bagata & 13816 & ADM3 & Bagata & 13816 & COD2475313816 & 2019 & 203103 & 34528 & 71086 & 93427 & Unknown (under LF MDA) & 0 & 0 & 0 & 0.0 & 4 & 0 & 0 & 1 & 1 & 0.0 & 0 & 0 & 1 & 1 & Not delivered & 5 & 0.0 & 17.7111 & -3.90487 \\\\\n",
       "\t2 & Africa & Middle Africa & AFRO & Democratic Republic of the Congo & 14 & CG & CD & COD & Kwilu & 24753 & Bandundu & 0 & null & Bandundu & 13818 & ADM3 & Bandundu & 13818 & COD2475313818 & 2019 & 189523 & 32219 & 66333 & 87181 & Unknown (under LF MDA) & 0 & 0 & 0 & 0.0 & 4 & 0 & 0 & 1 & 1 & 0.0 & 0 & 0 & 1 & 1 & Not delivered & 5 & 0.0 & 17.4452 & -3.31634 \\\\\n",
       "\t3 & Africa & Middle Africa & AFRO & Democratic Republic of the Congo & 14 & CG & CD & COD & Kwango & 24752 & Kenge & 0 & null & Boko & 13819 & ADM3 & Boko & 13819 & COD2475213819 & 2019 & 292409 & 49710 & 102343 & 134508 & Endemic (under MDA) & 292409 & 236851 & 236868 & 100.01 & 6 & 1 & 1 & 4 & 4 & 81.01 & 1 & 1 & 4 & 3 & IVM & 2 & 2.71063e6 & 17.0216 & -5.02334 \\\\\n",
       "\t4 & Africa & Middle Africa & AFRO & Democratic Republic of the Congo & 14 & CG & CD & COD & Mai-Ndombe & 24754 & Kutu & 0 & null & Bokoro & 13820 & ADM3 & Bokoro & 13820 & COD2475413820 & 2019 & 259679 & 44145 & 90888 & 119452 & Unknown (consider Oncho Elimination Mapping) & 0 & 0 & 0 & 0.0 & 0 & 0 & 0 & 0 & 0 & 0.0 & 0 & 0 & 0 & 0 & Not delivered & 4 & 0.0 & 18.2339 & -2.98169 \\\\\n",
       "\t5 & Africa & Middle Africa & AFRO & Democratic Republic of the Congo & 14 & CG & CD & COD & Mai-Ndombe & 24754 & Bolobo & 0 & null & Bolobo & 13821 & ADM3 & Bolobo & 13821 & COD2475413821 & 2019 & 149070 & 25342 & 52175 & 68572 & Unknown (consider Oncho Elimination Mapping) & 0 & 0 & 0 & 0.0 & 0 & 0 & 0 & 0 & 0 & 0.0 & 0 & 0 & 0 & 0 & Not delivered & 4 & 0.0 & 16.3808 & -2.68258 \\\\\n",
       "\t6 & Africa & Middle Africa & AFRO & Democratic Republic of the Congo & 14 & CG & CD & COD & Mai-Ndombe & 24754 & Oshwe & 0 & null & Bosobe & 13822 & ADM3 & Bosobe & 13822 & COD2475413822 & 2019 & 133039 & 22617 & 46564 & 61198 & Unknown (consider Oncho Elimination Mapping) & 0 & 0 & 0 & 0.0 & 0 & 0 & 0 & 0 & 0 & 0.0 & 0 & 0 & 0 & 0 & Not delivered & 4 & 0.0 & 19.9664 & -3.10103 \\\\\n",
       "\t7 & Africa & Middle Africa & AFRO & Democratic Republic of the Congo & 14 & CG & CD & COD & Kwilu & 24753 & Bulungu & 0 & null & Bulungu & 13823 & ADM3 & Bulungu & 13823 & COD2475313823 & 2019 & 315311 & 53603 & 110359 & 145043 & Unknown (under LF MDA) & 0 & 0 & 0 & 0.0 & 4 & 0 & 0 & 1 & 1 & 0.0 & 0 & 0 & 1 & 1 & Not delivered & 5 & 0.0 & 18.6919 & -4.66163 \\\\\n",
       "\t8 & Africa & Middle Africa & AFRO & Democratic Republic of the Congo & 14 & CG & CD & COD & Kwilu & 24753 & Bulungu & 0 & null & Djuma & 13824 & ADM3 & Djuma & 13824 & COD2475313824 & 2019 & 248915 & 42316 & 87120 & 114501 & Unknown (under LF MDA) & 0 & 0 & 0 & 0.0 & 4 & 0 & 0 & 1 & 1 & 0.0 & 0 & 0 & 1 & 1 & Not delivered & 5 & 0.0 & 18.6919 & -4.66163 \\\\\n",
       "\t9 & Africa & Middle Africa & AFRO & Democratic Republic of the Congo & 14 & CG & CD & COD & Kwango & 24752 & Feshi & 0 & null & Feshi & 13825 & ADM3 & Feshi & 13825 & COD2475213825 & 2019 & 160401 & 27268 & 56140 & 73784 & Unknown (under LF MDA) & 0 & 0 & 0 & 0.0 & 2 & 0 & 0 & 1 & 1 & 0.0 & 0 & 0 & 1 & 1 & Not delivered & 5 & 0.0 & 18.3199 & -6.29713 \\\\\n",
       "\t10 & Africa & Middle Africa & AFRO & Democratic Republic of the Congo & 14 & CG & CD & COD & Kwilu & 24753 & Gungu & 0 & null & Gungu & 13826 & ADM3 & Gungu & 13826 & COD2475313826 & 2019 & 274410 & 46650 & 96044 & 126229 & Unknown (under LF MDA) & 0 & 0 & 0 & 0.0 & 4 & 0 & 0 & 1 & 1 & 0.0 & 0 & 0 & 1 & 1 & Not delivered & 5 & 0.0 & 19.2752 & -5.7703 \\\\\n",
       "\t11 & Africa & Middle Africa & AFRO & Democratic Republic of the Congo & 14 & CG & CD & COD & Kwilu & 24753 & Idiofa & 0 & null & Idiofa & 13827 & ADM3 & Idiofa & 13827 & COD2475313827 & 2019 & 322941 & 54900 & 113029 & 148553 & Unknown (under LF MDA) & 0 & 0 & 0 & 0.0 & 4 & 0 & 0 & 1 & 1 & 0.0 & 0 & 0 & 1 & 1 & Not delivered & 5 & 0.0 & 19.5274 & -4.67443 \\\\\n",
       "\t12 & Africa & Middle Africa & AFRO & Democratic Republic of the Congo & 14 & CG & CD & COD & Mai-Ndombe & 24754 & Inongo & 0 & null & Inongo & 13828 & ADM3 & Inongo & 13828 & COD2475413828 & 2019 & 218061 & 37070 & 76321 & 100308 & Unknown (consider Oncho Elimination Mapping) & 0 & 0 & 0 & 0.0 & 0 & 0 & 0 & 0 & 0 & 0.0 & 0 & 0 & 0 & 0 & Not delivered & 4 & 0.0 & 18.1582 & -1.92217 \\\\\n",
       "\t13 & Africa & Middle Africa & AFRO & Democratic Republic of the Congo & 14 & CG & CD & COD & Kwilu & 24753 & Idiofa & 0 & null & Ipamu & 13829 & ADM3 & Ipamu & 13829 & COD2475313829 & 2019 & 201483 & 34252 & 70519 & 92682 & Unknown (under LF MDA) & 0 & 0 & 0 & 0.0 & 4 & 0 & 0 & 1 & 1 & 0.0 & 0 & 0 & 1 & 1 & Not delivered & 5 & 0.0 & 19.5274 & -4.67443 \\\\\n",
       "\t14 & Africa & Middle Africa & AFRO & Democratic Republic of the Congo & 14 & CG & CD & COD & Kwango & 24752 & Kahemba & 0 & null & Kahemba & 13830 & ADM3 & Kahemba & 13830 & COD2475213830 & 2019 & 296454 & 50397 & 103759 & 136369 & Unknown (consider Oncho Elimination Mapping) & 0 & 0 & 0 & 0.0 & 0 & 0 & 0 & 0 & 0 & 0.0 & 0 & 0 & 0 & 0 & Not delivered & 4 & 0.0 & 19.0049 & -7.30386 \\\\\n",
       "\t15 & Africa & Middle Africa & AFRO & Democratic Republic of the Congo & 14 & CG & CD & COD & Kwango & 24752 & Kahemba & 0 & null & Kajiji & 13831 & ADM3 & Kajiji & 13831 & COD2475213831 & 2019 & 174542 & 29672 & 61090 & 80289 & Unknown (consider Oncho Elimination Mapping) & 0 & 0 & 0 & 0.0 & 0 & 0 & 0 & 0 & 0 & 0.0 & 0 & 0 & 0 & 0 & Not delivered & 4 & 0.0 & 19.0049 & -7.30386 \\\\\n",
       "\t16 & Africa & Middle Africa & AFRO & Democratic Republic of the Congo & 14 & CG & CD & COD & Kwango & 24752 & Kasongo-Lunda & 0 & null & Kasongo Lunda & 13832 & ADM3 & Kasongo Lunda & 13832 & COD2475213832 & 2019 & 181972 & 30935 & 63690 & 83707 & Unknown (under LF MDA) & 147397 & 147397 & 148057 & 100.45 & 7 & 1 & 1 & 4 & 4 & 100.45 & 1 & 1 & 4 & 4 & ALB+IVM & 5 & 1.36637e6 & 17.589 & -7.04828 \\\\\n",
       "\t17 & Africa & Middle Africa & AFRO & Democratic Republic of the Congo & 14 & CG & CD & COD & Kwango & 24752 & Kenge & 0 & null & Kenge & 13833 & ADM3 & Kenge & 13833 & COD2475213833 & 2019 & 282017 & 47943 & 98706 & 129728 & Endemic (under MDA) & 282017 & 228434 & 228102 & 99.85 & 6 & 1 & 1 & 4 & 4 & 80.88 & 1 & 1 & 4 & 2 & IVM & 2 & 2.6143e6 & 17.0216 & -5.02334 \\\\\n",
       "\t18 & Africa & Middle Africa & AFRO & Democratic Republic of the Congo & 14 & CG & CD & COD & Kwango & 24752 & Kasongo-Lunda & 0 & null & Kitenda & 13834 & ADM3 & Kitenda & 13834 & COD2475213834 & 2019 & 159646 & 27140 & 55876 & 73437 & Endemic (under MDA) & 159646 & 129313 & 129618 & 100.24 & 4 & 1 & 1 & 3 & 3 & 81.19 & 1 & 1 & 3 & 3 & ALB+IVM & 2 & 1.47992e6 & 17.589 & -7.04828 \\\\\n",
       "\t19 & Africa & Middle Africa & AFRO & Democratic Republic of the Congo & 14 & CG & CD & COD & Kwilu & 24753 & Bagata & 0 & null & Kikongo & 13835 & ADM3 & Kikongo & 13835 & COD2475313835 & 2019 & 197412 & 33560 & 69094 & 90810 & Unknown (under LF MDA) & 0 & 0 & 0 & 0.0 & 4 & 0 & 0 & 1 & 1 & 0.0 & 0 & 0 & 1 & 1 & Not delivered & 5 & 0.0 & 17.7111 & -3.90487 \\\\\n",
       "\t20 & Africa & Middle Africa & AFRO & Democratic Republic of the Congo & 14 & CG & CD & COD & Kwilu & 24753 & Kikwit & 0 & null & Kikwit-Nord & 13836 & ADM3 & Kikwit-Nord & 13836 & COD2475313836 & 2019 & 245718 & 41772 & 86001 & 113030 & Unknown (consider Oncho Elimination Mapping) & 0 & 0 & 0 & 0.0 & 0 & 0 & 0 & 0 & 0 & 0.0 & 0 & 0 & 0 & 0 & Not delivered & 4 & 0.0 & 18.8029 & -5.05785 \\\\\n",
       "\t21 & Africa & Middle Africa & AFRO & Democratic Republic of the Congo & 14 & CG & CD & COD & Kwilu & 24753 & Kikwit & 0 & null & Kikwit-Sud & 13837 & ADM3 & Kikwit-Sud & 13837 & COD2475313837 & 2019 & 268993 & 45729 & 94148 & 123737 & Unknown (consider Oncho Elimination Mapping) & 0 & 0 & 0 & 0.0 & 0 & 0 & 0 & 0 & 0 & 0.0 & 0 & 0 & 0 & 0 & Not delivered & 4 & 0.0 & 18.8029 & -5.05785 \\\\\n",
       "\t22 & Africa & Middle Africa & AFRO & Democratic Republic of the Congo & 14 & CG & CD & COD & Kwango & 24752 & Kenge & 0 & null & Kimbau & 13838 & ADM3 & Kimbau & 13838 & COD2475213838 & 2019 & 226029 & 38425 & 79110 & 103973 & Endemic (under MDA) & 226029 & 183083 & 181510 & 99.14 & 18 & 1 & 1 & 6 & 6 & 80.3 & 1 & 1 & 6 & 2 & IVM & 2 & 2.09529e6 & 17.0216 & -5.02334 \\\\\n",
       "\t23 & Africa & Middle Africa & AFRO & Democratic Republic of the Congo & 14 & CG & CD & COD & Kwilu & 24753 & Idiofa & 0 & null & Kimputu & 13839 & ADM3 & Kimputu & 13839 & COD2475313839 & 2019 & 218931 & 37218 & 76626 & 100708 & Endemic (under MDA) & 218931 & 177334 & 178506 & 100.66 & 3 & 1 & 1 & 2 & 2 & 81.54 & 1 & 1 & 2 & 2 & IVM & 2 & 2.02949e6 & 19.5274 & -4.67443 \\\\\n",
       "\t24 & Africa & Middle Africa & AFRO & Democratic Republic of the Congo & 14 & CG & CD & COD & Kwilu & 24753 & Gungu & 0 & null & Kingandu & 13840 & ADM3 & Kingandu & 13840 & COD2475313840 & 2019 & 117489 & 19973 & 41121 & 54045 & Unknown (consider Oncho Elimination Mapping) & 0 & 0 & 0 & 0.0 & 0 & 0 & 0 & 0 & 0 & 0.0 & 0 & 0 & 0 & 0 & Not delivered & 4 & 0.0 & 19.2752 & -5.7703 \\\\\n",
       "\t25 & Africa & Middle Africa & AFRO & Democratic Republic of the Congo & 14 & CG & CD & COD & Mai-Ndombe & 24754 & Kiri & 0 & null & Kiri & 13841 & ADM3 & Kiri & 13841 & COD2475413841 & 2019 & 146007 & 24821 & 51102 & 67163 & Endemic (under MDA) & 146007 & 118265 & 118625 & 100.3 & 15 & 1 & 1 & 5 & 5 & 81.25 & 1 & 1 & 5 & 4 & ALB+IVM & 2 & 1.35348e6 & 19.2074 & -1.61623 \\\\\n",
       "\t26 & Africa & Middle Africa & AFRO & Democratic Republic of the Congo & 14 & CG & CD & COD & Kwango & 24752 & Feshi & 0 & null & Kisanji & 13842 & ADM3 & Kisanji & 13842 & COD2475213842 & 2019 & 127905 & 21744 & 44767 & 58836 & Unknown (under LF MDA) & 0 & 0 & 0 & 0.0 & 2 & 0 & 0 & 1 & 1 & 0.0 & 0 & 0 & 1 & 1 & Not delivered & 5 & 0.0 & 18.3199 & -6.29713 \\\\\n",
       "\t27 & Africa & Middle Africa & AFRO & Democratic Republic of the Congo & 14 & CG & CD & COD & Kwilu & 24753 & Idiofa & 0 & null & Koshibanda & 13843 & ADM3 & Koshibanda & 13843 & COD2475313843 & 2019 & 229851 & 39075 & 80448 & 105731 & Endemic (under MDA) & 229851 & 186179 & 188438 & 101.21 & 17 & 1 & 1 & 5 & 5 & 81.98 & 1 & 1 & 5 & 4 & IVM & 2 & 2.13072e6 & 19.5274 & -4.67443 \\\\\n",
       "\t28 & Africa & Middle Africa & AFRO & Democratic Republic of the Congo & 14 & CG & CD & COD & Mai-Ndombe & 24754 & Kwamouth & 0 & null & Kwamouth & 13844 & ADM3 & Kwamouth & 13844 & COD2475413844 & 2019 & 181613 & 30874 & 63565 & 83542 & Unknown (consider Oncho Elimination Mapping) & 0 & 0 & 0 & 0.0 & 0 & 0 & 0 & 0 & 0 & 0.0 & 0 & 0 & 0 & 0 & Not delivered & 4 & 0.0 & 16.678 & -3.57943 \\\\\n",
       "\t29 & Africa & Middle Africa & AFRO & Democratic Republic of the Congo & 14 & CG & CD & COD & Kwango & 24752 & Kasongo-Lunda & 0 & null & Tembo & 13845 & ADM3 & Tembo & 13845 & COD2475213845 & 2019 & 109649 & 18640 & 38377 & 50439 & Unknown (consider Oncho Elimination Mapping) & 0 & 0 & 0 & 0.0 & 0 & 0 & 0 & 0 & 0 & 0.0 & 0 & 0 & 0 & 0 & Not delivered & 4 & 0.0 & 17.589 & -7.04828 \\\\\n",
       "\t30 & Africa & Middle Africa & AFRO & Democratic Republic of the Congo & 14 & CG & CD & COD & Kwilu & 24753 & Bulungu & 0 & null & Lusanga & 13846 & ADM3 & Lusanga & 13846 & COD2475313846 & 2019 & 317124 & 53911 & 110993 & 145877 & Endemic (under MDA) & 317124 & 256870 & 262017 & 102.0 & 17 & 1 & 1 & 5 & 5 & 82.62 & 1 & 1 & 5 & 3 & IVM & 2 & 2.93974e6 & 18.6919 & -4.66163 \\\\\n",
       "\t$\\dots$ & $\\dots$ & $\\dots$ & $\\dots$ & $\\dots$ & $\\dots$ & $\\dots$ & $\\dots$ & $\\dots$ & $\\dots$ & $\\dots$ & $\\dots$ & $\\dots$ & $\\dots$ & $\\dots$ & $\\dots$ & $\\dots$ & $\\dots$ & $\\dots$ & $\\dots$ & $\\dots$ & $\\dots$ & $\\dots$ & $\\dots$ & $\\dots$ & $\\dots$ & $\\dots$ & $\\dots$ & $\\dots$ & $\\dots$ & $\\dots$ & $\\dots$ & $\\dots$ & $\\dots$ & $\\dots$ & $\\dots$ & $\\dots$ & $\\dots$ & $\\dots$ & $\\dots$ & $\\dots$ & $\\dots$ & $\\dots$ & $\\dots$ & $\\dots$ \\\\\n",
       "\\end{tabular}\n"
      ],
      "text/plain": [
       "\u001b[1m519×44 DataFrame\u001b[0m\n",
       "\u001b[1m Row \u001b[0m│\u001b[1m CONTINENT \u001b[0m\u001b[1m REGION        \u001b[0m\u001b[1m WHO_REGION \u001b[0m\u001b[1m ADMIN0                           \u001b[0m\u001b[1m ADMIN0ID \u001b[0m\u001b[1m ADMIN0_FIP \u001b[0m\u001b[1m ADMIN0ISO2 \u001b[0m\u001b[1m ADMIN0ISO3 \u001b[0m\u001b[1m ADMIN1        \u001b[0m\u001b[1m ADMIN1ID \u001b[0m\u001b[1m ADMIN2       \u001b[0m\u001b[1m ADMIN2ID \u001b[0m\u001b[1m Alt_ADMIN2 \u001b[0m\u001b[1m ADMIN3        \u001b[0m\u001b[1m ADMIN3ID \u001b[0m\u001b[1m IUs_ADM \u001b[0m\u001b[1m IUs_NAME      \u001b[0m\u001b[1m IU_ID \u001b[0m\u001b[1m IU_CODE       \u001b[0m\u001b[1m Year  \u001b[0m\u001b[1m PopTot \u001b[0m\u001b[1m PopPreSAC \u001b[0m\u001b[1m PopSAC \u001b[0m\u001b[1m PopAdult \u001b[0m\u001b[1m Endemicity                        \u001b[0m\u001b[1m PopReq \u001b[0m\u001b[1m PopTrg \u001b[0m\u001b[1m PopTreat \u001b[0m\u001b[1m Cov     \u001b[0m\u001b[1m Cum_MDA \u001b[0m\u001b[1m MDA   \u001b[0m\u001b[1m EffMDA \u001b[0m\u001b[1m MDA_n \u001b[0m\u001b[1m EffMDA_n \u001b[0m\u001b[1m EpiCov  \u001b[0m\u001b[1m EpiMDA \u001b[0m\u001b[1m EpiEffMDA \u001b[0m\u001b[1m EpiMDA_n \u001b[0m\u001b[1m EpiEffMDA_n \u001b[0m\u001b[1m MDA_scheme    \u001b[0m\u001b[1m Endemicity_ID \u001b[0m\u001b[1m ivermectin_amt \u001b[0m\u001b[1m POINT_X  \u001b[0m\u001b[1m POINT_Y   \u001b[0m\n",
       "\u001b[1m     \u001b[0m│\u001b[90m String7   \u001b[0m\u001b[90m String15      \u001b[0m\u001b[90m String7    \u001b[0m\u001b[90m String                           \u001b[0m\u001b[90m Int64    \u001b[0m\u001b[90m String3    \u001b[0m\u001b[90m String3    \u001b[0m\u001b[90m String3    \u001b[0m\u001b[90m String15      \u001b[0m\u001b[90m Int64    \u001b[0m\u001b[90m String15     \u001b[0m\u001b[90m Int64    \u001b[0m\u001b[90m String7    \u001b[0m\u001b[90m String31      \u001b[0m\u001b[90m Int64    \u001b[0m\u001b[90m String7 \u001b[0m\u001b[90m String31      \u001b[0m\u001b[90m Int64 \u001b[0m\u001b[90m String15      \u001b[0m\u001b[90m Int64 \u001b[0m\u001b[90m Int64  \u001b[0m\u001b[90m Int64     \u001b[0m\u001b[90m Int64  \u001b[0m\u001b[90m Int64    \u001b[0m\u001b[90m String                            \u001b[0m\u001b[90m Int64  \u001b[0m\u001b[90m Int64  \u001b[0m\u001b[90m Int64    \u001b[0m\u001b[90m Float64 \u001b[0m\u001b[90m Int64   \u001b[0m\u001b[90m Int64 \u001b[0m\u001b[90m Int64  \u001b[0m\u001b[90m Int64 \u001b[0m\u001b[90m Int64    \u001b[0m\u001b[90m Float64 \u001b[0m\u001b[90m Int64  \u001b[0m\u001b[90m Int64     \u001b[0m\u001b[90m Int64    \u001b[0m\u001b[90m Int64       \u001b[0m\u001b[90m String15      \u001b[0m\u001b[90m Int64         \u001b[0m\u001b[90m Float64        \u001b[0m\u001b[90m Float64? \u001b[0m\u001b[90m Float64?  \u001b[0m\n",
       "─────┼───────────────────────────────────────────────────────────────────────────────────────────────────────────────────────────────────────────────────────────────────────────────────────────────────────────────────────────────────────────────────────────────────────────────────────────────────────────────────────────────────────────────────────────────────────────────────────────────────────────────────────────────────────────────────────────────────────────────────────────────────────────────────────────────────────────\n",
       "   1 │ Africa     Middle Africa  AFRO        Democratic Republic of the Congo        14  CG          CD          COD         Kwilu             24753  Bagata               0  null        Bagata            13816  ADM3     Bagata         13816  COD2475313816   2019  203103      34528   71086     93427  Unknown (under LF MDA)                  0       0         0     0.0         4      0       0      1         1     0.0        0          0         1            1  Not delivered              5       0.0         17.7111   -3.90487\n",
       "   2 │ Africa     Middle Africa  AFRO        Democratic Republic of the Congo        14  CG          CD          COD         Kwilu             24753  Bandundu             0  null        Bandundu          13818  ADM3     Bandundu       13818  COD2475313818   2019  189523      32219   66333     87181  Unknown (under LF MDA)                  0       0         0     0.0         4      0       0      1         1     0.0        0          0         1            1  Not delivered              5       0.0         17.4452   -3.31634\n",
       "   3 │ Africa     Middle Africa  AFRO        Democratic Republic of the Congo        14  CG          CD          COD         Kwango            24752  Kenge                0  null        Boko              13819  ADM3     Boko           13819  COD2475213819   2019  292409      49710  102343    134508  Endemic (under MDA)                292409  236851    236868   100.01        6      1       1      4         4    81.01       1          1         4            3  IVM                        2       2.71063e6   17.0216   -5.02334\n",
       "   4 │ Africa     Middle Africa  AFRO        Democratic Republic of the Congo        14  CG          CD          COD         Mai-Ndombe        24754  Kutu                 0  null        Bokoro            13820  ADM3     Bokoro         13820  COD2475413820   2019  259679      44145   90888    119452  Unknown (consider Oncho Eliminat…       0       0         0     0.0         0      0       0      0         0     0.0        0          0         0            0  Not delivered              4       0.0         18.2339   -2.98169\n",
       "   5 │ Africa     Middle Africa  AFRO        Democratic Republic of the Congo        14  CG          CD          COD         Mai-Ndombe        24754  Bolobo               0  null        Bolobo            13821  ADM3     Bolobo         13821  COD2475413821   2019  149070      25342   52175     68572  Unknown (consider Oncho Eliminat…       0       0         0     0.0         0      0       0      0         0     0.0        0          0         0            0  Not delivered              4       0.0         16.3808   -2.68258\n",
       "   6 │ Africa     Middle Africa  AFRO        Democratic Republic of the Congo        14  CG          CD          COD         Mai-Ndombe        24754  Oshwe                0  null        Bosobe            13822  ADM3     Bosobe         13822  COD2475413822   2019  133039      22617   46564     61198  Unknown (consider Oncho Eliminat…       0       0         0     0.0         0      0       0      0         0     0.0        0          0         0            0  Not delivered              4       0.0         19.9664   -3.10103\n",
       "   7 │ Africa     Middle Africa  AFRO        Democratic Republic of the Congo        14  CG          CD          COD         Kwilu             24753  Bulungu              0  null        Bulungu           13823  ADM3     Bulungu        13823  COD2475313823   2019  315311      53603  110359    145043  Unknown (under LF MDA)                  0       0         0     0.0         4      0       0      1         1     0.0        0          0         1            1  Not delivered              5       0.0         18.6919   -4.66163\n",
       "   8 │ Africa     Middle Africa  AFRO        Democratic Republic of the Congo        14  CG          CD          COD         Kwilu             24753  Bulungu              0  null        Djuma             13824  ADM3     Djuma          13824  COD2475313824   2019  248915      42316   87120    114501  Unknown (under LF MDA)                  0       0         0     0.0         4      0       0      1         1     0.0        0          0         1            1  Not delivered              5       0.0         18.6919   -4.66163\n",
       "   9 │ Africa     Middle Africa  AFRO        Democratic Republic of the Congo        14  CG          CD          COD         Kwango            24752  Feshi                0  null        Feshi             13825  ADM3     Feshi          13825  COD2475213825   2019  160401      27268   56140     73784  Unknown (under LF MDA)                  0       0         0     0.0         2      0       0      1         1     0.0        0          0         1            1  Not delivered              5       0.0         18.3199   -6.29713\n",
       "  10 │ Africa     Middle Africa  AFRO        Democratic Republic of the Congo        14  CG          CD          COD         Kwilu             24753  Gungu                0  null        Gungu             13826  ADM3     Gungu          13826  COD2475313826   2019  274410      46650   96044    126229  Unknown (under LF MDA)                  0       0         0     0.0         4      0       0      1         1     0.0        0          0         1            1  Not delivered              5       0.0         19.2752   -5.7703\n",
       "  11 │ Africa     Middle Africa  AFRO        Democratic Republic of the Congo        14  CG          CD          COD         Kwilu             24753  Idiofa               0  null        Idiofa            13827  ADM3     Idiofa         13827  COD2475313827   2019  322941      54900  113029    148553  Unknown (under LF MDA)                  0       0         0     0.0         4      0       0      1         1     0.0        0          0         1            1  Not delivered              5       0.0         19.5274   -4.67443\n",
       "  ⋮  │     ⋮            ⋮            ⋮                      ⋮                     ⋮          ⋮           ⋮           ⋮             ⋮           ⋮           ⋮           ⋮          ⋮             ⋮           ⋮         ⋮           ⋮          ⋮          ⋮          ⋮      ⋮         ⋮        ⋮        ⋮                      ⋮                    ⋮       ⋮        ⋮         ⋮        ⋮       ⋮      ⋮       ⋮       ⋮         ⋮       ⋮         ⋮         ⋮           ⋮             ⋮              ⋮              ⋮            ⋮          ⋮\n",
       " 510 │ Africa     Middle Africa  AFRO        Democratic Republic of the Congo        14  CG          CD          COD         Sud-Kivu          24781  Walungu              0  null        Walungu           14328  ADM3     Walungu        14328  COD2478114328   2019  271407      46139   94992    124847  Unknown (consider Oncho Eliminat…       0       0         0     0.0         0      0       0      0         0     0.0        0          0         0            0  Not delivered              4       0.0         28.6799   -2.72565\n",
       " 511 │ Africa     Middle Africa  AFRO        Democratic Republic of the Congo        14  CG          CD          COD         Mai-Ndombe        24754  Inongo               0  null        Banzow Moke       14329  ADM3     Banjow Moke    14329  COD2475414329   2019  141299      24021   49455     64998  Unknown (consider Oncho Eliminat…       0       0         0     0.0         0      0       0      0         0     0.0        0          0         0            0  Not delivered              4       0.0         18.1582   -1.92217\n",
       " 512 │ Africa     Middle Africa  AFRO        Democratic Republic of the Congo        14  CG          CD          COD         Haut-Uele         24778  Wamba                0  null        Boma-Mangbetu     14330  ADM3     Boma-Mangbetu  14330  COD2477814330   2019  112694      19158   39443     51839  Endemic (under MDA)                112694   91282     82308    90.17        9      1       1      6         4    73.04       1          0         6            0  IVM                        2       1.04467e6   27.8389    2.10723\n",
       " 513 │ Africa     Middle Africa  AFRO        Democratic Republic of the Congo        14  CG          CD          COD         Kasai-Central     24765  Kazumba              0  null        Kalomba           14332  ADM3     Kalomba        14332  COD2476514332   2019  172880      29390   60508     79525  Endemic (under MDA)                172880  140033    143688   102.61       21      1       1      6         6    83.11       1          1         6            5  ALB+IVM                    2       1.6026e6    21.9796   -6.43377\n",
       " 514 │ Africa     Middle Africa  AFRO        Democratic Republic of the Congo        14  CG          CD          COD         Sankuru           24767  Lusambo              0  null        Ototo             14334  ADM3     Ototo          14334  COD2476714334   2019  161798      27506   56629     74427  Endemic (under MDA)                161798  131056    130671    99.71       18      1       1      6         6    80.76       1          1         6            6  ALB+IVM                    2       1.49987e6   23.5784   -5.00298\n",
       " 515 │ Africa     Middle Africa  AFRO        Democratic Republic of the Congo        14  CG          CD          COD         Kwilu             24753  Masi-Manimba         0  null        Bongayassa        14335  ADM3     Yasa-Bonga     14335  COD2475314335   2019  235782      40083   82524    108460  Endemic (under MDA)                235782  190984    192070   100.57       16      1       1      5         5    81.46       1          1         5            2  IVM                        2       2.1857e6    17.9801   -5.10707\n",
       " 516 │ Africa     Middle Africa  AFRO        Democratic Republic of the Congo        14  CG          CD          COD         Sankuru           24767  Lubefu               0  null        Dikungu           14336  ADM3     Dikungu        14336  COD2476714336   2019  181491      30853   63522     83486  Endemic (under MDA)                181491  147008    147755   100.51       18      1       1      6         6    81.41       1          1         6            5  IVM                        2       1.68242e6   24.3228   -4.68606\n",
       " 517 │ Africa     Middle Africa  AFRO        Democratic Republic of the Congo        14  CG          CD          COD         Haut-Katanga      26059  Kasenga              0  null        Kashobwe          14337  ADM3     Kashobwe       14337  COD2605914337   2019  168007      28561   58802     77283  Unknown (consider Oncho Eliminat…       0       0         0     0.0         0      0       0      0         0     0.0        0          0         0            0  Not delivered              4       0.0         27.971   -10.4477\n",
       " 518 │ Africa     Middle Africa  AFRO        Democratic Republic of the Congo        14  CG          CD          COD         Kasai-Central     24765  Dibaya               0  null        Bunkonde          14338  ADM3     Bunkonde       14338  COD2476514338   2019  119592      20331   41857     55012  Endemic (under MDA)                119592   96869     97429   100.58       21      1       1      6         5    81.47       1          1         6            5  IVM                        2       1.10862e6   22.6158   -6.31581\n",
       " 519 │ Africa     Middle Africa  AFRO        Democratic Republic of the Congo        14  CG          CD          COD         Kasai             24764  Kamonia              0  null        Kamonia           14340  ADM3     Kamonia        14340  COD2476414340   2019  461270      78416  161445    212184  Endemic (under MDA)                461270  373629    374197   100.15       21      1       1      6         6    81.12       1          1         6            6  ALB+IVM                    2       4.27597e6   20.207    -6.41136\n",
       "\u001b[36m                                                                                                                                                                                                                                                                                                                                                                                                                                                                                                                                 498 rows omitted\u001b[0m"
      ]
     },
     "execution_count": 8,
     "metadata": {},
     "output_type": "execute_result"
    }
   ],
   "source": [
    "# Data join!\n",
    "drc_data_combined = leftjoin(drc_data, drc_loc_only, on = \"ADMIN2\" => \"ADM2_FR\")"
   ]
  },
  {
   "cell_type": "code",
   "execution_count": 9,
   "id": "415bf250",
   "metadata": {},
   "outputs": [
    {
     "data": {
      "text/html": [
       "<div class=\"data-frame\"><p>0 rows × 44 columns</p><table class=\"data-frame\"><thead><tr><th></th><th>CONTINENT</th><th>REGION</th><th>WHO_REGION</th><th>ADMIN0</th><th>ADMIN0ID</th><th>ADMIN0_FIP</th><th>ADMIN0ISO2</th><th>ADMIN0ISO3</th><th>ADMIN1</th><th>ADMIN1ID</th><th>ADMIN2</th><th>ADMIN2ID</th><th>Alt_ADMIN2</th><th>ADMIN3</th><th>ADMIN3ID</th><th>IUs_ADM</th><th>IUs_NAME</th><th>IU_ID</th><th>IU_CODE</th><th>Year</th><th>PopTot</th><th>PopPreSAC</th><th>PopSAC</th><th>PopAdult</th><th>Endemicity</th><th>PopReq</th><th>PopTrg</th><th>PopTreat</th><th>Cov</th><th>Cum_MDA</th><th>MDA</th><th>EffMDA</th><th>MDA_n</th><th>EffMDA_n</th><th>EpiCov</th><th>EpiMDA</th><th>EpiEffMDA</th><th>EpiMDA_n</th><th>EpiEffMDA_n</th><th>MDA_scheme</th><th>Endemicity_ID</th><th>ivermectin_amt</th><th>POINT_X</th><th>POINT_Y</th></tr><tr><th></th><th title=\"String7\">String7</th><th title=\"String15\">String15</th><th title=\"String7\">String7</th><th title=\"String\">String</th><th title=\"Int64\">Int64</th><th title=\"String3\">String3</th><th title=\"String3\">String3</th><th title=\"String3\">String3</th><th title=\"String15\">String15</th><th title=\"Int64\">Int64</th><th title=\"String15\">String15</th><th title=\"Int64\">Int64</th><th title=\"String7\">String7</th><th title=\"String31\">String31</th><th title=\"Int64\">Int64</th><th title=\"String7\">String7</th><th title=\"String31\">String31</th><th title=\"Int64\">Int64</th><th title=\"String15\">String15</th><th title=\"Int64\">Int64</th><th title=\"Int64\">Int64</th><th title=\"Int64\">Int64</th><th title=\"Int64\">Int64</th><th title=\"Int64\">Int64</th><th title=\"String\">String</th><th title=\"Int64\">Int64</th><th title=\"Int64\">Int64</th><th title=\"Int64\">Int64</th><th title=\"Float64\">Float64</th><th title=\"Int64\">Int64</th><th title=\"Int64\">Int64</th><th title=\"Int64\">Int64</th><th title=\"Int64\">Int64</th><th title=\"Int64\">Int64</th><th title=\"Float64\">Float64</th><th title=\"Int64\">Int64</th><th title=\"Int64\">Int64</th><th title=\"Int64\">Int64</th><th title=\"Int64\">Int64</th><th title=\"String15\">String15</th><th title=\"Int64\">Int64</th><th title=\"Float64\">Float64</th><th title=\"Union{Missing, Float64}\">Float64?</th><th title=\"Union{Missing, Float64}\">Float64?</th></tr></thead><tbody></tbody></table></div>"
      ],
      "text/latex": [
       "\\begin{tabular}{r|cccccccccccccccccccccccccccccccccccccccccccc}\n",
       "\t& CONTINENT & REGION & WHO\\_REGION & ADMIN0 & ADMIN0ID & ADMIN0\\_FIP & ADMIN0ISO2 & ADMIN0ISO3 & ADMIN1 & ADMIN1ID & ADMIN2 & ADMIN2ID & Alt\\_ADMIN2 & ADMIN3 & ADMIN3ID & IUs\\_ADM & IUs\\_NAME & IU\\_ID & IU\\_CODE & Year & PopTot & PopPreSAC & PopSAC & PopAdult & Endemicity & PopReq & PopTrg & PopTreat & Cov & Cum\\_MDA & MDA & EffMDA & MDA\\_n & EffMDA\\_n & EpiCov & EpiMDA & EpiEffMDA & EpiMDA\\_n & EpiEffMDA\\_n & MDA\\_scheme & Endemicity\\_ID & ivermectin\\_amt & POINT\\_X & POINT\\_Y\\\\\n",
       "\t\\hline\n",
       "\t& String7 & String15 & String7 & String & Int64 & String3 & String3 & String3 & String15 & Int64 & String15 & Int64 & String7 & String31 & Int64 & String7 & String31 & Int64 & String15 & Int64 & Int64 & Int64 & Int64 & Int64 & String & Int64 & Int64 & Int64 & Float64 & Int64 & Int64 & Int64 & Int64 & Int64 & Float64 & Int64 & Int64 & Int64 & Int64 & String15 & Int64 & Float64 & Float64? & Float64?\\\\\n",
       "\t\\hline\n",
       "\\end{tabular}\n"
      ],
      "text/plain": [
       "\u001b[1m0×44 DataFrame\u001b[0m"
      ]
     },
     "execution_count": 9,
     "metadata": {},
     "output_type": "execute_result"
    }
   ],
   "source": [
    "# Look for missing data\n",
    "filter(row -> ismissing(row.\"POINT_X\"), drc_data_combined)"
   ]
  },
  {
   "cell_type": "code",
   "execution_count": 10,
   "id": "12d62706",
   "metadata": {},
   "outputs": [],
   "source": [
    "# Used this to find some naming inconsistencies between the two dataframes\n",
    "# filter(name -> startswith(name, \"O\"), drc_loc_only.\"ADM2_FR\")"
   ]
  },
  {
   "cell_type": "code",
   "execution_count": 11,
   "id": "a0c2c8d4",
   "metadata": {},
   "outputs": [
    {
     "data": {
      "text/plain": [
       "80"
      ]
     },
     "execution_count": 11,
     "metadata": {},
     "output_type": "execute_result"
    }
   ],
   "source": [
    "# Back to regular column width\n",
    "ENV[\"COLUMNS\"] = 80"
   ]
  },
  {
   "cell_type": "code",
   "execution_count": 12,
   "id": "e4b48c22",
   "metadata": {},
   "outputs": [
    {
     "data": {
      "text/plain": [
       "distance (generic function with 1 method)"
      ]
     },
     "execution_count": 12,
     "metadata": {},
     "output_type": "execute_result"
    }
   ],
   "source": [
    "# May consider changing to great circle distance\n",
    "function distance(x1, y1, x2, y2)\n",
    "    sqrt((x1 - x2)^2 + (y1 - y2)^2)\n",
    "end"
   ]
  },
  {
   "cell_type": "code",
   "execution_count": 20,
   "id": "2acacaba",
   "metadata": {},
   "outputs": [],
   "source": [
    "drc_data_combined = drc_data_combined[1:20, :]\n",
    ";"
   ]
  },
  {
   "cell_type": "code",
   "execution_count": 14,
   "id": "e268b69c",
   "metadata": {},
   "outputs": [],
   "source": [
    "num_counties = length(drc_data_combined.\"ADMIN2\")\n",
    "num_vehicles = 5\n",
    "max_capacity = 1e8 # some viable constraint on the max number of mg that one vehicle can carry\n",
    "batch_amt = 5e8\n",
    "\n",
    "drc_loc_x = drc_data_combined[!, \"POINT_X\"]\n",
    "drc_loc_y = drc_data_combined[!, \"POINT_Y\"]\n",
    "drc_dists = [distance(drc_loc_x[i], drc_loc_y[i], drc_loc_x[j], drc_loc_y[j])\n",
    "    for i=1:num_counties, j=1:num_counties]\n",
    "\n",
    "drc_dosage = drc_data_combined[!, \"ivermectin_amt\"]\n",
    ";"
   ]
  },
  {
   "cell_type": "code",
   "execution_count": 25,
   "id": "6d7181fe",
   "metadata": {},
   "outputs": [],
   "source": [
    "m = Model(() -> Gurobi.Optimizer(GRB_ENV))\n",
    "\n",
    "# variables\n",
    "\n",
    "# path from i->j in service for vehicle n\n",
    "@variable(m, s_ij[i=1:num_counties, j=1:num_counties], Bin)\n",
    "\n",
    "# vehicle n services location i\n",
    "@variable(m, v_in[i=1:num_counties, n=1:num_vehicles], Bin)\n",
    "\n",
    "# location i is our chosen central hub\n",
    "@variable(m, c_i[i=1:num_counties], Bin)\n",
    "\n",
    "# amount of ivermectin delivered to location i by vehicle n\n",
    "@variable(m, d_in[i=1:num_counties, n=1:num_vehicles] >= 0)\n",
    ";"
   ]
  },
  {
   "cell_type": "code",
   "execution_count": 26,
   "id": "cd1a3a28",
   "metadata": {},
   "outputs": [],
   "source": [
    "# constraints\n",
    "\n",
    "# vehicle doesn't explode\n",
    "@constraint(m, [n=1:num_vehicles], sum(v_in[:, n] .* drc_dosage) <= max_capacity)\n",
    "\n",
    "# nodes in service graph have outdegree <= indegree, except for central hub\n",
    "@constraint(m, [i=1:num_counties], sum(s_ij[i, :]) - sum(s_ij[:, i]) <= c_i[i] * num_vehicles)\n",
    "\n",
    "# if i->j and vehicle n serviced location j, then vehicle n serviced location i\n",
    "@constraint(m, [i=1:num_counties, j=1:num_counties, n=1:num_vehicles],\n",
    "    v_in[i, n] >= s_ij[i, j] * v_in[j, n])\n",
    "\n",
    "# all vehicles visit the central hub\n",
    "@constraint(m, [i=1:num_counties, n=1:num_vehicles], v_in[i, n] >= c_i[i])\n",
    "\n",
    "# no two vehicles visit the same location\n",
    "@constraint(m, [i=1:num_counties, n=1:num_vehicles, n2=1:num_vehicles; n2 != n],\n",
    "    v_in[i, n] + v_in[i, n2] <= 1)\n",
    "\n",
    "# ivermectin is only delivered to location i if vehicle n visits it\n",
    "@constraint(m, [i=1:num_counties, n=1:num_vehicles], d_in[i, n] <= v_in[i, n] * max_capacity)\n",
    "\n",
    "# total ivermectin delivered to any location is at most the amount required\n",
    "@constraint(m, [i=1:num_counties], sum(d_in[i, :]) <= drc_dosage[i])\n",
    "\n",
    "# all ivermectin should be delivered\n",
    "@constraint(m, sum(d_in) == batch_amt)\n",
    ";"
   ]
  },
  {
   "cell_type": "code",
   "execution_count": 27,
   "id": "36d1191c",
   "metadata": {},
   "outputs": [],
   "source": [
    "# objective\n",
    "\n",
    "# minimize total travel distance\n",
    "@objective(m, Min, sum(s_ij[:, :] .* drc_dists))\n",
    ";"
   ]
  },
  {
   "cell_type": "code",
   "execution_count": 28,
   "id": "08ea9875",
   "metadata": {},
   "outputs": [
    {
     "name": "stdout",
     "output_type": "stream",
     "text": [
      "Gurobi Optimizer version 9.5.0 build v9.5.0rc5 (mac64[arm])\n",
      "Thread count: 8 physical cores, 8 logical processors, using up to 8 threads\n",
      "Optimize a model with 646 rows, 620 columns and 2200 nonzeros\n",
      "Model fingerprint: 0x35e698f0\n",
      "Model has 2000 quadratic constraints\n",
      "Variable types: 100 continuous, 520 integer (520 binary)\n",
      "Coefficient statistics:\n",
      "  Matrix range     [1e+00, 1e+08]\n",
      "  QMatrix range    [1e+00, 1e+00]\n",
      "  QLMatrix range   [1e+00, 1e+00]\n",
      "  Objective range  [4e-01, 5e+00]\n",
      "  Bounds range     [0e+00, 0e+00]\n",
      "  RHS range        [1e+00, 5e+08]\n",
      "Presolve removed 5 rows and 80 columns\n",
      "Presolve time: 0.00s\n",
      "\n",
      "Explored 0 nodes (0 simplex iterations) in 0.00 seconds (0.00 work units)\n",
      "Thread count was 1 (of 8 available processors)\n",
      "\n",
      "Solution count 0\n",
      "\n",
      "Model is infeasible or unbounded\n",
      "Best objective -, best bound -, gap -\n",
      "\n",
      "User-callback calls 47, time in user-callback 0.00 sec\n"
     ]
    }
   ],
   "source": [
    "optimize!(m)"
   ]
  }
 ],
 "metadata": {
  "kernelspec": {
   "display_name": "Julia 1.7.2",
   "language": "julia",
   "name": "julia-1.7"
  },
  "language_info": {
   "file_extension": ".jl",
   "mimetype": "application/julia",
   "name": "julia",
   "version": "1.7.2"
  }
 },
 "nbformat": 4,
 "nbformat_minor": 5
}
