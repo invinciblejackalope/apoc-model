{
 "cells": [
  {
   "cell_type": "code",
   "execution_count": 3,
   "id": "dea91657",
   "metadata": {},
   "outputs": [
    {
     "name": "stdout",
     "output_type": "stream",
     "text": [
      "Set parameter Username\n",
      "Academic license - for non-commercial use only - expires 2023-02-06\n"
     ]
    },
    {
     "data": {
      "text/plain": [
       "Gurobi.Env(Ptr{Nothing} @0x0000000135016c00, false, 0)"
      ]
     },
     "execution_count": 3,
     "metadata": {},
     "output_type": "execute_result"
    }
   ],
   "source": [
    "using JuMP, Gurobi, DataFrames, CSV\n",
    "const GRB_ENV = Gurobi.Env()"
   ]
  },
  {
   "cell_type": "code",
   "execution_count": 21,
   "id": "fc30f99d",
   "metadata": {},
   "outputs": [
    {
     "name": "stderr",
     "output_type": "stream",
     "text": [
      "\u001b[32m\u001b[1m    Updating\u001b[22m\u001b[39m registry at `~/.julia/registries/General.toml`\n",
      "\u001b[32m\u001b[1m   Resolving\u001b[22m\u001b[39m package versions...\n",
      "\u001b[32m\u001b[1m   Installed\u001b[22m\u001b[39m DBFTables ──── v1.0.0\n",
      "\u001b[32m\u001b[1m   Installed\u001b[22m\u001b[39m Qt5Base_jll ── v5.15.3+1\n",
      "\u001b[32m\u001b[1m   Installed\u001b[22m\u001b[39m Shapefile ──── v0.7.4\n",
      "\u001b[32m\u001b[1m   Installed\u001b[22m\u001b[39m GeoInterface ─ v0.5.7\n",
      "\u001b[32m\u001b[1m    Updating\u001b[22m\u001b[39m `~/.julia/environments/v1.7/Project.toml`\n",
      " \u001b[90m [8e980c4a] \u001b[39m\u001b[92m+ Shapefile v0.7.4\u001b[39m\n",
      "\u001b[32m\u001b[1m    Updating\u001b[22m\u001b[39m `~/.julia/environments/v1.7/Manifest.toml`\n",
      " \u001b[90m [75c7ada1] \u001b[39m\u001b[92m+ DBFTables v1.0.0\u001b[39m\n",
      " \u001b[90m [cf35fbd7] \u001b[39m\u001b[92m+ GeoInterface v0.5.7\u001b[39m\n",
      " \u001b[90m [8e980c4a] \u001b[39m\u001b[92m+ Shapefile v0.7.4\u001b[39m\n",
      " \u001b[90m [ea2cea3b] \u001b[39m\u001b[93m↑ Qt5Base_jll v5.15.3+0 ⇒ v5.15.3+1\u001b[39m\n",
      "\u001b[32m\u001b[1mPrecompiling\u001b[22m\u001b[39m project...\n",
      "\u001b[32m  ✓ \u001b[39m\u001b[90mGeoInterface\u001b[39m\n",
      "\u001b[32m  ✓ \u001b[39m\u001b[90mDBFTables\u001b[39m\n",
      "\u001b[32m  ✓ \u001b[39mShapefile\n",
      "\u001b[32m  ✓ \u001b[39m\u001b[90mQt5Base_jll\u001b[39m\n",
      "\u001b[32m  ✓ \u001b[39m\u001b[90mGR_jll\u001b[39m\n",
      "\u001b[32m  ✓ \u001b[39m\u001b[90mGR\u001b[39m\n",
      "\u001b[32m  ✓ \u001b[39mPlots\n",
      "  7 dependencies successfully precompiled in 43 seconds (174 already precompiled)\n"
     ]
    }
   ],
   "source": [
    "import Pkg; Pkg.add(\"Shapefile\")\n",
    "using Shapefile"
   ]
  },
  {
   "cell_type": "code",
   "execution_count": 19,
   "id": "595e779e",
   "metadata": {},
   "outputs": [
    {
     "ename": "LoadError",
     "evalue": "InterruptException:",
     "output_type": "error",
     "traceback": [
      "InterruptException:",
      "",
      "Stacktrace:",
      "  [1] _string_n",
      "    @ ./strings/string.jl:74 [inlined]",
      "  [2] string(::String, ::String, ::String, ::String, ::Vararg{String})",
      "    @ Base ./strings/substring.jl:217",
      "  [3] (::var\"#33#34\")(i::Int64, j::Int64)",
      "    @ Main ~/.julia/packages/JuMP/zn6NT/src/Containers/macro.jl:309",
      "  [4] #37",
      "    @ ~/.julia/packages/JuMP/zn6NT/src/Containers/container.jl:72 [inlined]",
      "  [5] iterate",
      "    @ ./generator.jl:47 [inlined]",
      "  [6] collect_to!",
      "    @ ./array.jl:782 [inlined]",
      "  [7] collect_to_with_first!",
      "    @ ./array.jl:760 [inlined]",
      "  [8] collect(itr::Base.Generator{JuMP.Containers.VectorizedProductIterator{Tuple{Base.OneTo{Int64}, Base.OneTo{Int64}}}, JuMP.Containers.var\"#37#38\"{var\"#33#34\"}})",
      "    @ Base ./array.jl:734",
      "  [9] map(f::Function, A::JuMP.Containers.VectorizedProductIterator{Tuple{Base.OneTo{Int64}, Base.OneTo{Int64}}})",
      "    @ Base ./abstractarray.jl:2878",
      " [10] container",
      "    @ ~/.julia/packages/JuMP/zn6NT/src/Containers/container.jl:72 [inlined]",
      " [11] container(f::Function, indices::JuMP.Containers.VectorizedProductIterator{Tuple{Base.OneTo{Int64}, Base.OneTo{Int64}}})",
      "    @ JuMP.Containers ~/.julia/packages/JuMP/zn6NT/src/Containers/container.jl:66",
      " [12] eval",
      "    @ ./boot.jl:373 [inlined]",
      " [13] include_string(mapexpr::typeof(REPL.softscope), mod::Module, code::String, filename::String)",
      "    @ Base ./loading.jl:1196"
     ]
    }
   ],
   "source": [
    "m = Model(() -> Gurobi.Optimizer(GRB_ENV))\n",
    "\n",
    "drc_data = CSV.read(\"data-CD-Oncho-iu.csv\", DataFrame)\n",
    "drc_data[!, :\"ivermectin_amt\"] = drc_data.\"PopReq\" .* 9.27\n",
    "\n",
    "drc_loc_T = Shapefile.Table(\"cod_admbnda_rgc_itos_20190911_shp/cod_admbndp_admALL_rgc_itos_20190911.shp\")\n",
    "drc_loc = DataFrame(drc_loc_T)\n",
    "\n",
    "num_counties = length(drc_data.\"ADMIN2\")\n",
    "num_vehicles = 5\n",
    "max_capacity = 10 #some viable constraint on the max number of mg that one vehicle can carry\n",
    "\n",
    "drc_loc_x = drc_loc[!, \"POINT_X\"]\n",
    "drc_loc_y = drc_loc[!, \"POINT_Y\"]\n",
    "drc_dists = [sqrt((drc_loc_x[i] - drc_loc_x[j])^2 + (drc_loc_y[i] - drc_loc_y[j])^2) for i = 1:num_counties, j = 1:num_counties]\n",
    "\n",
    "# variables\n",
    "@variable(m, s_ij[i = 1:num_counties, j = 1:num_counties], Bin)   # path from i->j in service\n",
    "\n",
    "@variable(m, v_in[i = 1:num_counties, n = 1:num_vehicles], Bin)   # vehicle n services location i\n",
    "\n",
    "# constraints\n",
    "@constraint(m, [n=1:max_capacity], sum(v_in[:, n]) <= max_capacity)   # vehicle doesn't explode\n",
    "\n",
    "\n",
    "# objective"
   ]
  }
 ],
 "metadata": {
  "kernelspec": {
   "display_name": "Julia 1.7.2",
   "language": "julia",
   "name": "julia-1.7"
  },
  "language_info": {
   "file_extension": ".jl",
   "mimetype": "application/julia",
   "name": "julia",
   "version": "1.7.2"
  }
 },
 "nbformat": 4,
 "nbformat_minor": 5
}
