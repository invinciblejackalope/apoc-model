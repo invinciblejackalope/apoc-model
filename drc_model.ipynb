{
 "cells": [
  {
   "cell_type": "markdown",
   "id": "9dde46ef",
   "metadata": {},
   "source": [
    "This notebook uses Julia 1.7.2 and is self-contained (does not rely on other notebooks)."
   ]
  },
  {
   "cell_type": "code",
   "execution_count": 76,
   "id": "b23c5833",
   "metadata": {
    "collapsed": true
   },
   "outputs": [
    {
     "name": "stderr",
     "output_type": "stream",
     "text": [
      "\u001b[32m\u001b[1m    Updating\u001b[22m\u001b[39m registry at `~/.julia/registries/General`\n",
      "\u001b[32m\u001b[1m    Updating\u001b[22m\u001b[39m git-repo `https://github.com/JuliaRegistries/General.git`\n",
      "\u001b[32m\u001b[1m   Resolving\u001b[22m\u001b[39m package versions...\n",
      "\u001b[32m\u001b[1m   Installed\u001b[22m\u001b[39m Ratios ─────────── v0.4.3\n",
      "\u001b[32m\u001b[1m   Installed\u001b[22m\u001b[39m NaNMath ────────── v0.3.7\n",
      "\u001b[32m\u001b[1m   Installed\u001b[22m\u001b[39m NetworkLayout ──── v0.4.4\n",
      "\u001b[32m\u001b[1m   Installed\u001b[22m\u001b[39m OffsetArrays ───── v1.10.8\n",
      "\u001b[32m\u001b[1m   Installed\u001b[22m\u001b[39m GraphRecipes ───── v0.5.9\n",
      "\u001b[32m\u001b[1m   Installed\u001b[22m\u001b[39m GeometryTypes ──── v0.8.5\n",
      "\u001b[32m\u001b[1m   Installed\u001b[22m\u001b[39m ArnoldiMethod ──── v0.2.0\n",
      "\u001b[32m\u001b[1m   Installed\u001b[22m\u001b[39m Graphs ─────────── v1.6.0\n",
      "\u001b[32m\u001b[1m   Installed\u001b[22m\u001b[39m Inflate ────────── v0.1.2\n",
      "\u001b[32m\u001b[1m   Installed\u001b[22m\u001b[39m SimpleTraits ───── v0.9.4\n",
      "\u001b[32m\u001b[1m   Installed\u001b[22m\u001b[39m WoodburyMatrices ─ v0.5.5\n",
      "\u001b[32m\u001b[1m   Installed\u001b[22m\u001b[39m AxisAlgorithms ─── v1.0.1\n",
      "\u001b[32m\u001b[1m   Installed\u001b[22m\u001b[39m AbstractTrees ──── v0.3.4\n",
      "\u001b[32m\u001b[1m   Installed\u001b[22m\u001b[39m Interpolations ─── v0.13.6\n",
      "\u001b[32m\u001b[1m    Updating\u001b[22m\u001b[39m `~/.julia/environments/v1.7/Project.toml`\n",
      " \u001b[90m [bd48cda9] \u001b[39m\u001b[92m+ GraphRecipes v0.5.9\u001b[39m\n",
      "\u001b[32m\u001b[1m    Updating\u001b[22m\u001b[39m `~/.julia/environments/v1.7/Manifest.toml`\n",
      " \u001b[90m [1520ce14] \u001b[39m\u001b[92m+ AbstractTrees v0.3.4\u001b[39m\n",
      " \u001b[90m [ec485272] \u001b[39m\u001b[92m+ ArnoldiMethod v0.2.0\u001b[39m\n",
      " \u001b[90m [13072b0f] \u001b[39m\u001b[92m+ AxisAlgorithms v1.0.1\u001b[39m\n",
      " \u001b[90m [4d00f742] \u001b[39m\u001b[92m+ GeometryTypes v0.8.5\u001b[39m\n",
      " \u001b[90m [bd48cda9] \u001b[39m\u001b[92m+ GraphRecipes v0.5.9\u001b[39m\n",
      " \u001b[90m [86223c79] \u001b[39m\u001b[92m+ Graphs v1.6.0\u001b[39m\n",
      " \u001b[90m [d25df0c9] \u001b[39m\u001b[92m+ Inflate v0.1.2\u001b[39m\n",
      " \u001b[90m [a98d9a8b] \u001b[39m\u001b[92m+ Interpolations v0.13.6\u001b[39m\n",
      " \u001b[90m [77ba4419] \u001b[39m\u001b[95m↓ NaNMath v1.0.0 ⇒ v0.3.7\u001b[39m\n",
      " \u001b[90m [46757867] \u001b[39m\u001b[92m+ NetworkLayout v0.4.4\u001b[39m\n",
      " \u001b[90m [6fe1bfb0] \u001b[39m\u001b[92m+ OffsetArrays v1.10.8\u001b[39m\n",
      " \u001b[90m [c84ed2f1] \u001b[39m\u001b[92m+ Ratios v0.4.3\u001b[39m\n",
      " \u001b[90m [699a6c99] \u001b[39m\u001b[92m+ SimpleTraits v0.9.4\u001b[39m\n",
      " \u001b[90m [efce3f68] \u001b[39m\u001b[92m+ WoodburyMatrices v0.5.5\u001b[39m\n",
      "\u001b[32m\u001b[1mPrecompiling\u001b[22m\u001b[39m project...\n",
      "\u001b[32m  ✓ \u001b[39m\u001b[90mRatios\u001b[39m\n",
      "\u001b[33m  ✓ \u001b[39m\u001b[90mNaNMath\u001b[39m\n",
      "\u001b[32m  ✓ \u001b[39m\u001b[90mWoodburyMatrices\u001b[39m\n",
      "\u001b[32m  ✓ \u001b[39m\u001b[90mInflate\u001b[39m\n",
      "\u001b[32m  ✓ \u001b[39m\u001b[90mAbstractTrees\u001b[39m\n",
      "\u001b[32m  ✓ \u001b[39m\u001b[90mAxisAlgorithms\u001b[39m\n",
      "\u001b[32m  ✓ \u001b[39m\u001b[90mSimpleTraits\u001b[39m\n",
      "\u001b[33m  ✓ \u001b[39m\u001b[90mDiffRules\u001b[39m\n",
      "\u001b[32m  ✓ \u001b[39m\u001b[90mOffsetArrays\u001b[39m\n",
      "\u001b[32m  ✓ \u001b[39m\u001b[90mArnoldiMethod\u001b[39m\n",
      "\u001b[32m  ✓ \u001b[39m\u001b[90mNetworkLayout\u001b[39m\n",
      "\u001b[32m  ✓ \u001b[39m\u001b[90mGeometryTypes\u001b[39m\n",
      "\u001b[33m  ✓ \u001b[39m\u001b[90mRecipesPipeline\u001b[39m\n",
      "\u001b[32m  ✓ \u001b[39m\u001b[90mInterpolations\u001b[39m\n",
      "\u001b[33m  ✓ \u001b[39m\u001b[90mForwardDiff\u001b[39m\n",
      "\u001b[32m  ✓ \u001b[39m\u001b[90mGraphs\u001b[39m\n",
      "\u001b[32m  ✓ \u001b[39mGraphRecipes\n",
      "\u001b[33m  ✓ \u001b[39mJuMP\n",
      "\u001b[33m  ✓ \u001b[39mPlots\n",
      "  19 dependencies successfully precompiled in 24 seconds (160 already precompiled)\n",
      "  \u001b[33m6\u001b[39m dependencies precompiled but different versions are currently loaded. Restart julia to access the new versions\n"
     ]
    }
   ],
   "source": [
    "import Pkg\n",
    "Pkg.add(\"GraphRecipes\")"
   ]
  },
  {
   "cell_type": "code",
   "execution_count": 78,
   "id": "dea91657",
   "metadata": {},
   "outputs": [],
   "source": [
    "using CSV, DataFrames, Shapefile, JuMP, Gurobi, Plots, GraphRecipes"
   ]
  },
  {
   "cell_type": "code",
   "execution_count": 2,
   "id": "e1a20463",
   "metadata": {},
   "outputs": [
    {
     "name": "stdout",
     "output_type": "stream",
     "text": [
      "Set parameter Username\n",
      "Academic license - for non-commercial use only - expires 2023-02-04\n"
     ]
    },
    {
     "data": {
      "text/plain": [
       "Gurobi.Env(Ptr{Nothing} @0x0000000159f82400, false, 0)"
      ]
     },
     "execution_count": 2,
     "metadata": {},
     "output_type": "execute_result"
    }
   ],
   "source": [
    "const GRB_ENV = Gurobi.Env()"
   ]
  },
  {
   "cell_type": "code",
   "execution_count": 230,
   "id": "f96b5a5a",
   "metadata": {},
   "outputs": [
    {
     "data": {
      "text/plain": [
       "1000"
      ]
     },
     "execution_count": 230,
     "metadata": {},
     "output_type": "execute_result"
    }
   ],
   "source": [
    "# Display all columns by default\n",
    "ENV[\"COLUMNS\"] = 1000"
   ]
  },
  {
   "cell_type": "markdown",
   "id": "1f3ab37b",
   "metadata": {},
   "source": [
    "Average ivermectin/person: 9.27"
   ]
  },
  {
   "cell_type": "code",
   "execution_count": 4,
   "id": "595e779e",
   "metadata": {
    "collapsed": true
   },
   "outputs": [
    {
     "data": {
      "text/html": [
       "<div class=\"data-frame\"><p>519 rows × 42 columns</p><table class=\"data-frame\"><thead><tr><th></th><th>CONTINENT</th><th>REGION</th><th>WHO_REGION</th><th>ADMIN0</th><th>ADMIN0ID</th><th>ADMIN0_FIP</th><th>ADMIN0ISO2</th><th>ADMIN0ISO3</th><th>ADMIN1</th><th>ADMIN1ID</th><th>ADMIN2</th><th>ADMIN2ID</th><th>Alt_ADMIN2</th><th>ADMIN3</th><th>ADMIN3ID</th><th>IUs_ADM</th><th>IUs_NAME</th><th>IU_ID</th><th>IU_CODE</th><th>Year</th><th>PopTot</th><th>PopPreSAC</th><th>PopSAC</th><th>PopAdult</th><th>Endemicity</th><th>PopReq</th><th>PopTrg</th><th>PopTreat</th><th>Cov</th><th>Cum_MDA</th><th>MDA</th><th>EffMDA</th><th>MDA_n</th><th>EffMDA_n</th><th>EpiCov</th><th>EpiMDA</th><th>EpiEffMDA</th><th>EpiMDA_n</th><th>EpiEffMDA_n</th><th>MDA_scheme</th><th>Endemicity_ID</th><th>ivermectin_amt</th></tr><tr><th></th><th title=\"String7\">String7</th><th title=\"String15\">String15</th><th title=\"String7\">String7</th><th title=\"String\">String</th><th title=\"Int64\">Int64</th><th title=\"String3\">String3</th><th title=\"String3\">String3</th><th title=\"String3\">String3</th><th title=\"String15\">String15</th><th title=\"Int64\">Int64</th><th title=\"String15\">String15</th><th title=\"Int64\">Int64</th><th title=\"String7\">String7</th><th title=\"String31\">String31</th><th title=\"Int64\">Int64</th><th title=\"String7\">String7</th><th title=\"String31\">String31</th><th title=\"Int64\">Int64</th><th title=\"String15\">String15</th><th title=\"Int64\">Int64</th><th title=\"Int64\">Int64</th><th title=\"Int64\">Int64</th><th title=\"Int64\">Int64</th><th title=\"Int64\">Int64</th><th title=\"String\">String</th><th title=\"Int64\">Int64</th><th title=\"Int64\">Int64</th><th title=\"Int64\">Int64</th><th title=\"Float64\">Float64</th><th title=\"Int64\">Int64</th><th title=\"Int64\">Int64</th><th title=\"Int64\">Int64</th><th title=\"Int64\">Int64</th><th title=\"Int64\">Int64</th><th title=\"Float64\">Float64</th><th title=\"Int64\">Int64</th><th title=\"Int64\">Int64</th><th title=\"Int64\">Int64</th><th title=\"Int64\">Int64</th><th title=\"String15\">String15</th><th title=\"Int64\">Int64</th><th title=\"Float64\">Float64</th></tr></thead><tbody><tr><th>1</th><td>Africa</td><td>Middle Africa</td><td>AFRO</td><td>Democratic Republic of the Congo</td><td>14</td><td>CG</td><td>CD</td><td>COD</td><td>Kwilu</td><td>24753</td><td>Bagata</td><td>0</td><td>null</td><td>Bagata</td><td>13816</td><td>ADM3</td><td>Bagata</td><td>13816</td><td>COD2475313816</td><td>2019</td><td>203103</td><td>34528</td><td>71086</td><td>93427</td><td>Unknown (under LF MDA)</td><td>0</td><td>0</td><td>0</td><td>0.0</td><td>4</td><td>0</td><td>0</td><td>1</td><td>1</td><td>0.0</td><td>0</td><td>0</td><td>1</td><td>1</td><td>Not delivered</td><td>5</td><td>0.0</td></tr><tr><th>2</th><td>Africa</td><td>Middle Africa</td><td>AFRO</td><td>Democratic Republic of the Congo</td><td>14</td><td>CG</td><td>CD</td><td>COD</td><td>Kwilu</td><td>24753</td><td>Bandundu</td><td>0</td><td>null</td><td>Bandundu</td><td>13818</td><td>ADM3</td><td>Bandundu</td><td>13818</td><td>COD2475313818</td><td>2019</td><td>189523</td><td>32219</td><td>66333</td><td>87181</td><td>Unknown (under LF MDA)</td><td>0</td><td>0</td><td>0</td><td>0.0</td><td>4</td><td>0</td><td>0</td><td>1</td><td>1</td><td>0.0</td><td>0</td><td>0</td><td>1</td><td>1</td><td>Not delivered</td><td>5</td><td>0.0</td></tr><tr><th>3</th><td>Africa</td><td>Middle Africa</td><td>AFRO</td><td>Democratic Republic of the Congo</td><td>14</td><td>CG</td><td>CD</td><td>COD</td><td>Kwango</td><td>24752</td><td>Kenge</td><td>0</td><td>null</td><td>Boko</td><td>13819</td><td>ADM3</td><td>Boko</td><td>13819</td><td>COD2475213819</td><td>2019</td><td>292409</td><td>49710</td><td>102343</td><td>134508</td><td>Endemic (under MDA)</td><td>292409</td><td>236851</td><td>236868</td><td>100.01</td><td>6</td><td>1</td><td>1</td><td>4</td><td>4</td><td>81.01</td><td>1</td><td>1</td><td>4</td><td>3</td><td>IVM</td><td>2</td><td>2.71063e6</td></tr><tr><th>4</th><td>Africa</td><td>Middle Africa</td><td>AFRO</td><td>Democratic Republic of the Congo</td><td>14</td><td>CG</td><td>CD</td><td>COD</td><td>Mai-Ndombe</td><td>24754</td><td>Kutu</td><td>0</td><td>null</td><td>Bokoro</td><td>13820</td><td>ADM3</td><td>Bokoro</td><td>13820</td><td>COD2475413820</td><td>2019</td><td>259679</td><td>44145</td><td>90888</td><td>119452</td><td>Unknown (consider Oncho Elimination Mapping)</td><td>0</td><td>0</td><td>0</td><td>0.0</td><td>0</td><td>0</td><td>0</td><td>0</td><td>0</td><td>0.0</td><td>0</td><td>0</td><td>0</td><td>0</td><td>Not delivered</td><td>4</td><td>0.0</td></tr><tr><th>5</th><td>Africa</td><td>Middle Africa</td><td>AFRO</td><td>Democratic Republic of the Congo</td><td>14</td><td>CG</td><td>CD</td><td>COD</td><td>Mai-Ndombe</td><td>24754</td><td>Bolobo</td><td>0</td><td>null</td><td>Bolobo</td><td>13821</td><td>ADM3</td><td>Bolobo</td><td>13821</td><td>COD2475413821</td><td>2019</td><td>149070</td><td>25342</td><td>52175</td><td>68572</td><td>Unknown (consider Oncho Elimination Mapping)</td><td>0</td><td>0</td><td>0</td><td>0.0</td><td>0</td><td>0</td><td>0</td><td>0</td><td>0</td><td>0.0</td><td>0</td><td>0</td><td>0</td><td>0</td><td>Not delivered</td><td>4</td><td>0.0</td></tr><tr><th>6</th><td>Africa</td><td>Middle Africa</td><td>AFRO</td><td>Democratic Republic of the Congo</td><td>14</td><td>CG</td><td>CD</td><td>COD</td><td>Mai-Ndombe</td><td>24754</td><td>Oshwe</td><td>0</td><td>null</td><td>Bosobe</td><td>13822</td><td>ADM3</td><td>Bosobe</td><td>13822</td><td>COD2475413822</td><td>2019</td><td>133039</td><td>22617</td><td>46564</td><td>61198</td><td>Unknown (consider Oncho Elimination Mapping)</td><td>0</td><td>0</td><td>0</td><td>0.0</td><td>0</td><td>0</td><td>0</td><td>0</td><td>0</td><td>0.0</td><td>0</td><td>0</td><td>0</td><td>0</td><td>Not delivered</td><td>4</td><td>0.0</td></tr><tr><th>7</th><td>Africa</td><td>Middle Africa</td><td>AFRO</td><td>Democratic Republic of the Congo</td><td>14</td><td>CG</td><td>CD</td><td>COD</td><td>Kwilu</td><td>24753</td><td>Bulungu</td><td>0</td><td>null</td><td>Bulungu</td><td>13823</td><td>ADM3</td><td>Bulungu</td><td>13823</td><td>COD2475313823</td><td>2019</td><td>315311</td><td>53603</td><td>110359</td><td>145043</td><td>Unknown (under LF MDA)</td><td>0</td><td>0</td><td>0</td><td>0.0</td><td>4</td><td>0</td><td>0</td><td>1</td><td>1</td><td>0.0</td><td>0</td><td>0</td><td>1</td><td>1</td><td>Not delivered</td><td>5</td><td>0.0</td></tr><tr><th>8</th><td>Africa</td><td>Middle Africa</td><td>AFRO</td><td>Democratic Republic of the Congo</td><td>14</td><td>CG</td><td>CD</td><td>COD</td><td>Kwilu</td><td>24753</td><td>Bulungu</td><td>0</td><td>null</td><td>Djuma</td><td>13824</td><td>ADM3</td><td>Djuma</td><td>13824</td><td>COD2475313824</td><td>2019</td><td>248915</td><td>42316</td><td>87120</td><td>114501</td><td>Unknown (under LF MDA)</td><td>0</td><td>0</td><td>0</td><td>0.0</td><td>4</td><td>0</td><td>0</td><td>1</td><td>1</td><td>0.0</td><td>0</td><td>0</td><td>1</td><td>1</td><td>Not delivered</td><td>5</td><td>0.0</td></tr><tr><th>9</th><td>Africa</td><td>Middle Africa</td><td>AFRO</td><td>Democratic Republic of the Congo</td><td>14</td><td>CG</td><td>CD</td><td>COD</td><td>Kwango</td><td>24752</td><td>Feshi</td><td>0</td><td>null</td><td>Feshi</td><td>13825</td><td>ADM3</td><td>Feshi</td><td>13825</td><td>COD2475213825</td><td>2019</td><td>160401</td><td>27268</td><td>56140</td><td>73784</td><td>Unknown (under LF MDA)</td><td>0</td><td>0</td><td>0</td><td>0.0</td><td>2</td><td>0</td><td>0</td><td>1</td><td>1</td><td>0.0</td><td>0</td><td>0</td><td>1</td><td>1</td><td>Not delivered</td><td>5</td><td>0.0</td></tr><tr><th>10</th><td>Africa</td><td>Middle Africa</td><td>AFRO</td><td>Democratic Republic of the Congo</td><td>14</td><td>CG</td><td>CD</td><td>COD</td><td>Kwilu</td><td>24753</td><td>Gungu</td><td>0</td><td>null</td><td>Gungu</td><td>13826</td><td>ADM3</td><td>Gungu</td><td>13826</td><td>COD2475313826</td><td>2019</td><td>274410</td><td>46650</td><td>96044</td><td>126229</td><td>Unknown (under LF MDA)</td><td>0</td><td>0</td><td>0</td><td>0.0</td><td>4</td><td>0</td><td>0</td><td>1</td><td>1</td><td>0.0</td><td>0</td><td>0</td><td>1</td><td>1</td><td>Not delivered</td><td>5</td><td>0.0</td></tr><tr><th>11</th><td>Africa</td><td>Middle Africa</td><td>AFRO</td><td>Democratic Republic of the Congo</td><td>14</td><td>CG</td><td>CD</td><td>COD</td><td>Kwilu</td><td>24753</td><td>Idiofa</td><td>0</td><td>null</td><td>Idiofa</td><td>13827</td><td>ADM3</td><td>Idiofa</td><td>13827</td><td>COD2475313827</td><td>2019</td><td>322941</td><td>54900</td><td>113029</td><td>148553</td><td>Unknown (under LF MDA)</td><td>0</td><td>0</td><td>0</td><td>0.0</td><td>4</td><td>0</td><td>0</td><td>1</td><td>1</td><td>0.0</td><td>0</td><td>0</td><td>1</td><td>1</td><td>Not delivered</td><td>5</td><td>0.0</td></tr><tr><th>12</th><td>Africa</td><td>Middle Africa</td><td>AFRO</td><td>Democratic Republic of the Congo</td><td>14</td><td>CG</td><td>CD</td><td>COD</td><td>Mai-Ndombe</td><td>24754</td><td>Inongo</td><td>0</td><td>null</td><td>Inongo</td><td>13828</td><td>ADM3</td><td>Inongo</td><td>13828</td><td>COD2475413828</td><td>2019</td><td>218061</td><td>37070</td><td>76321</td><td>100308</td><td>Unknown (consider Oncho Elimination Mapping)</td><td>0</td><td>0</td><td>0</td><td>0.0</td><td>0</td><td>0</td><td>0</td><td>0</td><td>0</td><td>0.0</td><td>0</td><td>0</td><td>0</td><td>0</td><td>Not delivered</td><td>4</td><td>0.0</td></tr><tr><th>13</th><td>Africa</td><td>Middle Africa</td><td>AFRO</td><td>Democratic Republic of the Congo</td><td>14</td><td>CG</td><td>CD</td><td>COD</td><td>Kwilu</td><td>24753</td><td>Idiofa</td><td>0</td><td>null</td><td>Ipamu</td><td>13829</td><td>ADM3</td><td>Ipamu</td><td>13829</td><td>COD2475313829</td><td>2019</td><td>201483</td><td>34252</td><td>70519</td><td>92682</td><td>Unknown (under LF MDA)</td><td>0</td><td>0</td><td>0</td><td>0.0</td><td>4</td><td>0</td><td>0</td><td>1</td><td>1</td><td>0.0</td><td>0</td><td>0</td><td>1</td><td>1</td><td>Not delivered</td><td>5</td><td>0.0</td></tr><tr><th>14</th><td>Africa</td><td>Middle Africa</td><td>AFRO</td><td>Democratic Republic of the Congo</td><td>14</td><td>CG</td><td>CD</td><td>COD</td><td>Kwango</td><td>24752</td><td>Kahemba</td><td>0</td><td>null</td><td>Kahemba</td><td>13830</td><td>ADM3</td><td>Kahemba</td><td>13830</td><td>COD2475213830</td><td>2019</td><td>296454</td><td>50397</td><td>103759</td><td>136369</td><td>Unknown (consider Oncho Elimination Mapping)</td><td>0</td><td>0</td><td>0</td><td>0.0</td><td>0</td><td>0</td><td>0</td><td>0</td><td>0</td><td>0.0</td><td>0</td><td>0</td><td>0</td><td>0</td><td>Not delivered</td><td>4</td><td>0.0</td></tr><tr><th>15</th><td>Africa</td><td>Middle Africa</td><td>AFRO</td><td>Democratic Republic of the Congo</td><td>14</td><td>CG</td><td>CD</td><td>COD</td><td>Kwango</td><td>24752</td><td>Kahemba</td><td>0</td><td>null</td><td>Kajiji</td><td>13831</td><td>ADM3</td><td>Kajiji</td><td>13831</td><td>COD2475213831</td><td>2019</td><td>174542</td><td>29672</td><td>61090</td><td>80289</td><td>Unknown (consider Oncho Elimination Mapping)</td><td>0</td><td>0</td><td>0</td><td>0.0</td><td>0</td><td>0</td><td>0</td><td>0</td><td>0</td><td>0.0</td><td>0</td><td>0</td><td>0</td><td>0</td><td>Not delivered</td><td>4</td><td>0.0</td></tr><tr><th>16</th><td>Africa</td><td>Middle Africa</td><td>AFRO</td><td>Democratic Republic of the Congo</td><td>14</td><td>CG</td><td>CD</td><td>COD</td><td>Kwango</td><td>24752</td><td>Kasongo-Lunda</td><td>0</td><td>null</td><td>Kasongo Lunda</td><td>13832</td><td>ADM3</td><td>Kasongo Lunda</td><td>13832</td><td>COD2475213832</td><td>2019</td><td>181972</td><td>30935</td><td>63690</td><td>83707</td><td>Unknown (under LF MDA)</td><td>147397</td><td>147397</td><td>148057</td><td>100.45</td><td>7</td><td>1</td><td>1</td><td>4</td><td>4</td><td>100.45</td><td>1</td><td>1</td><td>4</td><td>4</td><td>ALB+IVM</td><td>5</td><td>1.36637e6</td></tr><tr><th>17</th><td>Africa</td><td>Middle Africa</td><td>AFRO</td><td>Democratic Republic of the Congo</td><td>14</td><td>CG</td><td>CD</td><td>COD</td><td>Kwango</td><td>24752</td><td>Kenge</td><td>0</td><td>null</td><td>Kenge</td><td>13833</td><td>ADM3</td><td>Kenge</td><td>13833</td><td>COD2475213833</td><td>2019</td><td>282017</td><td>47943</td><td>98706</td><td>129728</td><td>Endemic (under MDA)</td><td>282017</td><td>228434</td><td>228102</td><td>99.85</td><td>6</td><td>1</td><td>1</td><td>4</td><td>4</td><td>80.88</td><td>1</td><td>1</td><td>4</td><td>2</td><td>IVM</td><td>2</td><td>2.6143e6</td></tr><tr><th>18</th><td>Africa</td><td>Middle Africa</td><td>AFRO</td><td>Democratic Republic of the Congo</td><td>14</td><td>CG</td><td>CD</td><td>COD</td><td>Kwango</td><td>24752</td><td>Kasongo-Lunda</td><td>0</td><td>null</td><td>Kitenda</td><td>13834</td><td>ADM3</td><td>Kitenda</td><td>13834</td><td>COD2475213834</td><td>2019</td><td>159646</td><td>27140</td><td>55876</td><td>73437</td><td>Endemic (under MDA)</td><td>159646</td><td>129313</td><td>129618</td><td>100.24</td><td>4</td><td>1</td><td>1</td><td>3</td><td>3</td><td>81.19</td><td>1</td><td>1</td><td>3</td><td>3</td><td>ALB+IVM</td><td>2</td><td>1.47992e6</td></tr><tr><th>19</th><td>Africa</td><td>Middle Africa</td><td>AFRO</td><td>Democratic Republic of the Congo</td><td>14</td><td>CG</td><td>CD</td><td>COD</td><td>Kwilu</td><td>24753</td><td>Bagata</td><td>0</td><td>null</td><td>Kikongo</td><td>13835</td><td>ADM3</td><td>Kikongo</td><td>13835</td><td>COD2475313835</td><td>2019</td><td>197412</td><td>33560</td><td>69094</td><td>90810</td><td>Unknown (under LF MDA)</td><td>0</td><td>0</td><td>0</td><td>0.0</td><td>4</td><td>0</td><td>0</td><td>1</td><td>1</td><td>0.0</td><td>0</td><td>0</td><td>1</td><td>1</td><td>Not delivered</td><td>5</td><td>0.0</td></tr><tr><th>20</th><td>Africa</td><td>Middle Africa</td><td>AFRO</td><td>Democratic Republic of the Congo</td><td>14</td><td>CG</td><td>CD</td><td>COD</td><td>Kwilu</td><td>24753</td><td>Kikwit</td><td>0</td><td>null</td><td>Kikwit-Nord</td><td>13836</td><td>ADM3</td><td>Kikwit-Nord</td><td>13836</td><td>COD2475313836</td><td>2019</td><td>245718</td><td>41772</td><td>86001</td><td>113030</td><td>Unknown (consider Oncho Elimination Mapping)</td><td>0</td><td>0</td><td>0</td><td>0.0</td><td>0</td><td>0</td><td>0</td><td>0</td><td>0</td><td>0.0</td><td>0</td><td>0</td><td>0</td><td>0</td><td>Not delivered</td><td>4</td><td>0.0</td></tr><tr><th>21</th><td>Africa</td><td>Middle Africa</td><td>AFRO</td><td>Democratic Republic of the Congo</td><td>14</td><td>CG</td><td>CD</td><td>COD</td><td>Kwilu</td><td>24753</td><td>Kikwit</td><td>0</td><td>null</td><td>Kikwit-Sud</td><td>13837</td><td>ADM3</td><td>Kikwit-Sud</td><td>13837</td><td>COD2475313837</td><td>2019</td><td>268993</td><td>45729</td><td>94148</td><td>123737</td><td>Unknown (consider Oncho Elimination Mapping)</td><td>0</td><td>0</td><td>0</td><td>0.0</td><td>0</td><td>0</td><td>0</td><td>0</td><td>0</td><td>0.0</td><td>0</td><td>0</td><td>0</td><td>0</td><td>Not delivered</td><td>4</td><td>0.0</td></tr><tr><th>22</th><td>Africa</td><td>Middle Africa</td><td>AFRO</td><td>Democratic Republic of the Congo</td><td>14</td><td>CG</td><td>CD</td><td>COD</td><td>Kwango</td><td>24752</td><td>Kenge</td><td>0</td><td>null</td><td>Kimbau</td><td>13838</td><td>ADM3</td><td>Kimbau</td><td>13838</td><td>COD2475213838</td><td>2019</td><td>226029</td><td>38425</td><td>79110</td><td>103973</td><td>Endemic (under MDA)</td><td>226029</td><td>183083</td><td>181510</td><td>99.14</td><td>18</td><td>1</td><td>1</td><td>6</td><td>6</td><td>80.3</td><td>1</td><td>1</td><td>6</td><td>2</td><td>IVM</td><td>2</td><td>2.09529e6</td></tr><tr><th>23</th><td>Africa</td><td>Middle Africa</td><td>AFRO</td><td>Democratic Republic of the Congo</td><td>14</td><td>CG</td><td>CD</td><td>COD</td><td>Kwilu</td><td>24753</td><td>Idiofa</td><td>0</td><td>null</td><td>Kimputu</td><td>13839</td><td>ADM3</td><td>Kimputu</td><td>13839</td><td>COD2475313839</td><td>2019</td><td>218931</td><td>37218</td><td>76626</td><td>100708</td><td>Endemic (under MDA)</td><td>218931</td><td>177334</td><td>178506</td><td>100.66</td><td>3</td><td>1</td><td>1</td><td>2</td><td>2</td><td>81.54</td><td>1</td><td>1</td><td>2</td><td>2</td><td>IVM</td><td>2</td><td>2.02949e6</td></tr><tr><th>24</th><td>Africa</td><td>Middle Africa</td><td>AFRO</td><td>Democratic Republic of the Congo</td><td>14</td><td>CG</td><td>CD</td><td>COD</td><td>Kwilu</td><td>24753</td><td>Gungu</td><td>0</td><td>null</td><td>Kingandu</td><td>13840</td><td>ADM3</td><td>Kingandu</td><td>13840</td><td>COD2475313840</td><td>2019</td><td>117489</td><td>19973</td><td>41121</td><td>54045</td><td>Unknown (consider Oncho Elimination Mapping)</td><td>0</td><td>0</td><td>0</td><td>0.0</td><td>0</td><td>0</td><td>0</td><td>0</td><td>0</td><td>0.0</td><td>0</td><td>0</td><td>0</td><td>0</td><td>Not delivered</td><td>4</td><td>0.0</td></tr><tr><th>25</th><td>Africa</td><td>Middle Africa</td><td>AFRO</td><td>Democratic Republic of the Congo</td><td>14</td><td>CG</td><td>CD</td><td>COD</td><td>Mai-Ndombe</td><td>24754</td><td>Kiri</td><td>0</td><td>null</td><td>Kiri</td><td>13841</td><td>ADM3</td><td>Kiri</td><td>13841</td><td>COD2475413841</td><td>2019</td><td>146007</td><td>24821</td><td>51102</td><td>67163</td><td>Endemic (under MDA)</td><td>146007</td><td>118265</td><td>118625</td><td>100.3</td><td>15</td><td>1</td><td>1</td><td>5</td><td>5</td><td>81.25</td><td>1</td><td>1</td><td>5</td><td>4</td><td>ALB+IVM</td><td>2</td><td>1.35348e6</td></tr><tr><th>26</th><td>Africa</td><td>Middle Africa</td><td>AFRO</td><td>Democratic Republic of the Congo</td><td>14</td><td>CG</td><td>CD</td><td>COD</td><td>Kwango</td><td>24752</td><td>Feshi</td><td>0</td><td>null</td><td>Kisanji</td><td>13842</td><td>ADM3</td><td>Kisanji</td><td>13842</td><td>COD2475213842</td><td>2019</td><td>127905</td><td>21744</td><td>44767</td><td>58836</td><td>Unknown (under LF MDA)</td><td>0</td><td>0</td><td>0</td><td>0.0</td><td>2</td><td>0</td><td>0</td><td>1</td><td>1</td><td>0.0</td><td>0</td><td>0</td><td>1</td><td>1</td><td>Not delivered</td><td>5</td><td>0.0</td></tr><tr><th>27</th><td>Africa</td><td>Middle Africa</td><td>AFRO</td><td>Democratic Republic of the Congo</td><td>14</td><td>CG</td><td>CD</td><td>COD</td><td>Kwilu</td><td>24753</td><td>Idiofa</td><td>0</td><td>null</td><td>Koshibanda</td><td>13843</td><td>ADM3</td><td>Koshibanda</td><td>13843</td><td>COD2475313843</td><td>2019</td><td>229851</td><td>39075</td><td>80448</td><td>105731</td><td>Endemic (under MDA)</td><td>229851</td><td>186179</td><td>188438</td><td>101.21</td><td>17</td><td>1</td><td>1</td><td>5</td><td>5</td><td>81.98</td><td>1</td><td>1</td><td>5</td><td>4</td><td>IVM</td><td>2</td><td>2.13072e6</td></tr><tr><th>28</th><td>Africa</td><td>Middle Africa</td><td>AFRO</td><td>Democratic Republic of the Congo</td><td>14</td><td>CG</td><td>CD</td><td>COD</td><td>Mai-Ndombe</td><td>24754</td><td>Kwamouth</td><td>0</td><td>null</td><td>Kwamouth</td><td>13844</td><td>ADM3</td><td>Kwamouth</td><td>13844</td><td>COD2475413844</td><td>2019</td><td>181613</td><td>30874</td><td>63565</td><td>83542</td><td>Unknown (consider Oncho Elimination Mapping)</td><td>0</td><td>0</td><td>0</td><td>0.0</td><td>0</td><td>0</td><td>0</td><td>0</td><td>0</td><td>0.0</td><td>0</td><td>0</td><td>0</td><td>0</td><td>Not delivered</td><td>4</td><td>0.0</td></tr><tr><th>29</th><td>Africa</td><td>Middle Africa</td><td>AFRO</td><td>Democratic Republic of the Congo</td><td>14</td><td>CG</td><td>CD</td><td>COD</td><td>Kwango</td><td>24752</td><td>Kasongo-Lunda</td><td>0</td><td>null</td><td>Tembo</td><td>13845</td><td>ADM3</td><td>Tembo</td><td>13845</td><td>COD2475213845</td><td>2019</td><td>109649</td><td>18640</td><td>38377</td><td>50439</td><td>Unknown (consider Oncho Elimination Mapping)</td><td>0</td><td>0</td><td>0</td><td>0.0</td><td>0</td><td>0</td><td>0</td><td>0</td><td>0</td><td>0.0</td><td>0</td><td>0</td><td>0</td><td>0</td><td>Not delivered</td><td>4</td><td>0.0</td></tr><tr><th>30</th><td>Africa</td><td>Middle Africa</td><td>AFRO</td><td>Democratic Republic of the Congo</td><td>14</td><td>CG</td><td>CD</td><td>COD</td><td>Kwilu</td><td>24753</td><td>Bulungu</td><td>0</td><td>null</td><td>Lusanga</td><td>13846</td><td>ADM3</td><td>Lusanga</td><td>13846</td><td>COD2475313846</td><td>2019</td><td>317124</td><td>53911</td><td>110993</td><td>145877</td><td>Endemic (under MDA)</td><td>317124</td><td>256870</td><td>262017</td><td>102.0</td><td>17</td><td>1</td><td>1</td><td>5</td><td>5</td><td>82.62</td><td>1</td><td>1</td><td>5</td><td>3</td><td>IVM</td><td>2</td><td>2.93974e6</td></tr><tr><th>&vellip;</th><td>&vellip;</td><td>&vellip;</td><td>&vellip;</td><td>&vellip;</td><td>&vellip;</td><td>&vellip;</td><td>&vellip;</td><td>&vellip;</td><td>&vellip;</td><td>&vellip;</td><td>&vellip;</td><td>&vellip;</td><td>&vellip;</td><td>&vellip;</td><td>&vellip;</td><td>&vellip;</td><td>&vellip;</td><td>&vellip;</td><td>&vellip;</td><td>&vellip;</td><td>&vellip;</td><td>&vellip;</td><td>&vellip;</td><td>&vellip;</td><td>&vellip;</td><td>&vellip;</td><td>&vellip;</td><td>&vellip;</td><td>&vellip;</td><td>&vellip;</td><td>&vellip;</td><td>&vellip;</td><td>&vellip;</td><td>&vellip;</td><td>&vellip;</td><td>&vellip;</td><td>&vellip;</td><td>&vellip;</td><td>&vellip;</td><td>&vellip;</td><td>&vellip;</td><td>&vellip;</td></tr></tbody></table></div>"
      ],
      "text/latex": [
       "\\begin{tabular}{r|cccccccccccccccccccccccccccccccccccccccccc}\n",
       "\t& CONTINENT & REGION & WHO\\_REGION & ADMIN0 & ADMIN0ID & ADMIN0\\_FIP & ADMIN0ISO2 & ADMIN0ISO3 & ADMIN1 & ADMIN1ID & ADMIN2 & ADMIN2ID & Alt\\_ADMIN2 & ADMIN3 & ADMIN3ID & IUs\\_ADM & IUs\\_NAME & IU\\_ID & IU\\_CODE & Year & PopTot & PopPreSAC & PopSAC & PopAdult & Endemicity & PopReq & PopTrg & PopTreat & Cov & Cum\\_MDA & MDA & EffMDA & MDA\\_n & EffMDA\\_n & EpiCov & EpiMDA & EpiEffMDA & EpiMDA\\_n & EpiEffMDA\\_n & MDA\\_scheme & Endemicity\\_ID & ivermectin\\_amt\\\\\n",
       "\t\\hline\n",
       "\t& String7 & String15 & String7 & String & Int64 & String3 & String3 & String3 & String15 & Int64 & String15 & Int64 & String7 & String31 & Int64 & String7 & String31 & Int64 & String15 & Int64 & Int64 & Int64 & Int64 & Int64 & String & Int64 & Int64 & Int64 & Float64 & Int64 & Int64 & Int64 & Int64 & Int64 & Float64 & Int64 & Int64 & Int64 & Int64 & String15 & Int64 & Float64\\\\\n",
       "\t\\hline\n",
       "\t1 & Africa & Middle Africa & AFRO & Democratic Republic of the Congo & 14 & CG & CD & COD & Kwilu & 24753 & Bagata & 0 & null & Bagata & 13816 & ADM3 & Bagata & 13816 & COD2475313816 & 2019 & 203103 & 34528 & 71086 & 93427 & Unknown (under LF MDA) & 0 & 0 & 0 & 0.0 & 4 & 0 & 0 & 1 & 1 & 0.0 & 0 & 0 & 1 & 1 & Not delivered & 5 & 0.0 \\\\\n",
       "\t2 & Africa & Middle Africa & AFRO & Democratic Republic of the Congo & 14 & CG & CD & COD & Kwilu & 24753 & Bandundu & 0 & null & Bandundu & 13818 & ADM3 & Bandundu & 13818 & COD2475313818 & 2019 & 189523 & 32219 & 66333 & 87181 & Unknown (under LF MDA) & 0 & 0 & 0 & 0.0 & 4 & 0 & 0 & 1 & 1 & 0.0 & 0 & 0 & 1 & 1 & Not delivered & 5 & 0.0 \\\\\n",
       "\t3 & Africa & Middle Africa & AFRO & Democratic Republic of the Congo & 14 & CG & CD & COD & Kwango & 24752 & Kenge & 0 & null & Boko & 13819 & ADM3 & Boko & 13819 & COD2475213819 & 2019 & 292409 & 49710 & 102343 & 134508 & Endemic (under MDA) & 292409 & 236851 & 236868 & 100.01 & 6 & 1 & 1 & 4 & 4 & 81.01 & 1 & 1 & 4 & 3 & IVM & 2 & 2.71063e6 \\\\\n",
       "\t4 & Africa & Middle Africa & AFRO & Democratic Republic of the Congo & 14 & CG & CD & COD & Mai-Ndombe & 24754 & Kutu & 0 & null & Bokoro & 13820 & ADM3 & Bokoro & 13820 & COD2475413820 & 2019 & 259679 & 44145 & 90888 & 119452 & Unknown (consider Oncho Elimination Mapping) & 0 & 0 & 0 & 0.0 & 0 & 0 & 0 & 0 & 0 & 0.0 & 0 & 0 & 0 & 0 & Not delivered & 4 & 0.0 \\\\\n",
       "\t5 & Africa & Middle Africa & AFRO & Democratic Republic of the Congo & 14 & CG & CD & COD & Mai-Ndombe & 24754 & Bolobo & 0 & null & Bolobo & 13821 & ADM3 & Bolobo & 13821 & COD2475413821 & 2019 & 149070 & 25342 & 52175 & 68572 & Unknown (consider Oncho Elimination Mapping) & 0 & 0 & 0 & 0.0 & 0 & 0 & 0 & 0 & 0 & 0.0 & 0 & 0 & 0 & 0 & Not delivered & 4 & 0.0 \\\\\n",
       "\t6 & Africa & Middle Africa & AFRO & Democratic Republic of the Congo & 14 & CG & CD & COD & Mai-Ndombe & 24754 & Oshwe & 0 & null & Bosobe & 13822 & ADM3 & Bosobe & 13822 & COD2475413822 & 2019 & 133039 & 22617 & 46564 & 61198 & Unknown (consider Oncho Elimination Mapping) & 0 & 0 & 0 & 0.0 & 0 & 0 & 0 & 0 & 0 & 0.0 & 0 & 0 & 0 & 0 & Not delivered & 4 & 0.0 \\\\\n",
       "\t7 & Africa & Middle Africa & AFRO & Democratic Republic of the Congo & 14 & CG & CD & COD & Kwilu & 24753 & Bulungu & 0 & null & Bulungu & 13823 & ADM3 & Bulungu & 13823 & COD2475313823 & 2019 & 315311 & 53603 & 110359 & 145043 & Unknown (under LF MDA) & 0 & 0 & 0 & 0.0 & 4 & 0 & 0 & 1 & 1 & 0.0 & 0 & 0 & 1 & 1 & Not delivered & 5 & 0.0 \\\\\n",
       "\t8 & Africa & Middle Africa & AFRO & Democratic Republic of the Congo & 14 & CG & CD & COD & Kwilu & 24753 & Bulungu & 0 & null & Djuma & 13824 & ADM3 & Djuma & 13824 & COD2475313824 & 2019 & 248915 & 42316 & 87120 & 114501 & Unknown (under LF MDA) & 0 & 0 & 0 & 0.0 & 4 & 0 & 0 & 1 & 1 & 0.0 & 0 & 0 & 1 & 1 & Not delivered & 5 & 0.0 \\\\\n",
       "\t9 & Africa & Middle Africa & AFRO & Democratic Republic of the Congo & 14 & CG & CD & COD & Kwango & 24752 & Feshi & 0 & null & Feshi & 13825 & ADM3 & Feshi & 13825 & COD2475213825 & 2019 & 160401 & 27268 & 56140 & 73784 & Unknown (under LF MDA) & 0 & 0 & 0 & 0.0 & 2 & 0 & 0 & 1 & 1 & 0.0 & 0 & 0 & 1 & 1 & Not delivered & 5 & 0.0 \\\\\n",
       "\t10 & Africa & Middle Africa & AFRO & Democratic Republic of the Congo & 14 & CG & CD & COD & Kwilu & 24753 & Gungu & 0 & null & Gungu & 13826 & ADM3 & Gungu & 13826 & COD2475313826 & 2019 & 274410 & 46650 & 96044 & 126229 & Unknown (under LF MDA) & 0 & 0 & 0 & 0.0 & 4 & 0 & 0 & 1 & 1 & 0.0 & 0 & 0 & 1 & 1 & Not delivered & 5 & 0.0 \\\\\n",
       "\t11 & Africa & Middle Africa & AFRO & Democratic Republic of the Congo & 14 & CG & CD & COD & Kwilu & 24753 & Idiofa & 0 & null & Idiofa & 13827 & ADM3 & Idiofa & 13827 & COD2475313827 & 2019 & 322941 & 54900 & 113029 & 148553 & Unknown (under LF MDA) & 0 & 0 & 0 & 0.0 & 4 & 0 & 0 & 1 & 1 & 0.0 & 0 & 0 & 1 & 1 & Not delivered & 5 & 0.0 \\\\\n",
       "\t12 & Africa & Middle Africa & AFRO & Democratic Republic of the Congo & 14 & CG & CD & COD & Mai-Ndombe & 24754 & Inongo & 0 & null & Inongo & 13828 & ADM3 & Inongo & 13828 & COD2475413828 & 2019 & 218061 & 37070 & 76321 & 100308 & Unknown (consider Oncho Elimination Mapping) & 0 & 0 & 0 & 0.0 & 0 & 0 & 0 & 0 & 0 & 0.0 & 0 & 0 & 0 & 0 & Not delivered & 4 & 0.0 \\\\\n",
       "\t13 & Africa & Middle Africa & AFRO & Democratic Republic of the Congo & 14 & CG & CD & COD & Kwilu & 24753 & Idiofa & 0 & null & Ipamu & 13829 & ADM3 & Ipamu & 13829 & COD2475313829 & 2019 & 201483 & 34252 & 70519 & 92682 & Unknown (under LF MDA) & 0 & 0 & 0 & 0.0 & 4 & 0 & 0 & 1 & 1 & 0.0 & 0 & 0 & 1 & 1 & Not delivered & 5 & 0.0 \\\\\n",
       "\t14 & Africa & Middle Africa & AFRO & Democratic Republic of the Congo & 14 & CG & CD & COD & Kwango & 24752 & Kahemba & 0 & null & Kahemba & 13830 & ADM3 & Kahemba & 13830 & COD2475213830 & 2019 & 296454 & 50397 & 103759 & 136369 & Unknown (consider Oncho Elimination Mapping) & 0 & 0 & 0 & 0.0 & 0 & 0 & 0 & 0 & 0 & 0.0 & 0 & 0 & 0 & 0 & Not delivered & 4 & 0.0 \\\\\n",
       "\t15 & Africa & Middle Africa & AFRO & Democratic Republic of the Congo & 14 & CG & CD & COD & Kwango & 24752 & Kahemba & 0 & null & Kajiji & 13831 & ADM3 & Kajiji & 13831 & COD2475213831 & 2019 & 174542 & 29672 & 61090 & 80289 & Unknown (consider Oncho Elimination Mapping) & 0 & 0 & 0 & 0.0 & 0 & 0 & 0 & 0 & 0 & 0.0 & 0 & 0 & 0 & 0 & Not delivered & 4 & 0.0 \\\\\n",
       "\t16 & Africa & Middle Africa & AFRO & Democratic Republic of the Congo & 14 & CG & CD & COD & Kwango & 24752 & Kasongo-Lunda & 0 & null & Kasongo Lunda & 13832 & ADM3 & Kasongo Lunda & 13832 & COD2475213832 & 2019 & 181972 & 30935 & 63690 & 83707 & Unknown (under LF MDA) & 147397 & 147397 & 148057 & 100.45 & 7 & 1 & 1 & 4 & 4 & 100.45 & 1 & 1 & 4 & 4 & ALB+IVM & 5 & 1.36637e6 \\\\\n",
       "\t17 & Africa & Middle Africa & AFRO & Democratic Republic of the Congo & 14 & CG & CD & COD & Kwango & 24752 & Kenge & 0 & null & Kenge & 13833 & ADM3 & Kenge & 13833 & COD2475213833 & 2019 & 282017 & 47943 & 98706 & 129728 & Endemic (under MDA) & 282017 & 228434 & 228102 & 99.85 & 6 & 1 & 1 & 4 & 4 & 80.88 & 1 & 1 & 4 & 2 & IVM & 2 & 2.6143e6 \\\\\n",
       "\t18 & Africa & Middle Africa & AFRO & Democratic Republic of the Congo & 14 & CG & CD & COD & Kwango & 24752 & Kasongo-Lunda & 0 & null & Kitenda & 13834 & ADM3 & Kitenda & 13834 & COD2475213834 & 2019 & 159646 & 27140 & 55876 & 73437 & Endemic (under MDA) & 159646 & 129313 & 129618 & 100.24 & 4 & 1 & 1 & 3 & 3 & 81.19 & 1 & 1 & 3 & 3 & ALB+IVM & 2 & 1.47992e6 \\\\\n",
       "\t19 & Africa & Middle Africa & AFRO & Democratic Republic of the Congo & 14 & CG & CD & COD & Kwilu & 24753 & Bagata & 0 & null & Kikongo & 13835 & ADM3 & Kikongo & 13835 & COD2475313835 & 2019 & 197412 & 33560 & 69094 & 90810 & Unknown (under LF MDA) & 0 & 0 & 0 & 0.0 & 4 & 0 & 0 & 1 & 1 & 0.0 & 0 & 0 & 1 & 1 & Not delivered & 5 & 0.0 \\\\\n",
       "\t20 & Africa & Middle Africa & AFRO & Democratic Republic of the Congo & 14 & CG & CD & COD & Kwilu & 24753 & Kikwit & 0 & null & Kikwit-Nord & 13836 & ADM3 & Kikwit-Nord & 13836 & COD2475313836 & 2019 & 245718 & 41772 & 86001 & 113030 & Unknown (consider Oncho Elimination Mapping) & 0 & 0 & 0 & 0.0 & 0 & 0 & 0 & 0 & 0 & 0.0 & 0 & 0 & 0 & 0 & Not delivered & 4 & 0.0 \\\\\n",
       "\t21 & Africa & Middle Africa & AFRO & Democratic Republic of the Congo & 14 & CG & CD & COD & Kwilu & 24753 & Kikwit & 0 & null & Kikwit-Sud & 13837 & ADM3 & Kikwit-Sud & 13837 & COD2475313837 & 2019 & 268993 & 45729 & 94148 & 123737 & Unknown (consider Oncho Elimination Mapping) & 0 & 0 & 0 & 0.0 & 0 & 0 & 0 & 0 & 0 & 0.0 & 0 & 0 & 0 & 0 & Not delivered & 4 & 0.0 \\\\\n",
       "\t22 & Africa & Middle Africa & AFRO & Democratic Republic of the Congo & 14 & CG & CD & COD & Kwango & 24752 & Kenge & 0 & null & Kimbau & 13838 & ADM3 & Kimbau & 13838 & COD2475213838 & 2019 & 226029 & 38425 & 79110 & 103973 & Endemic (under MDA) & 226029 & 183083 & 181510 & 99.14 & 18 & 1 & 1 & 6 & 6 & 80.3 & 1 & 1 & 6 & 2 & IVM & 2 & 2.09529e6 \\\\\n",
       "\t23 & Africa & Middle Africa & AFRO & Democratic Republic of the Congo & 14 & CG & CD & COD & Kwilu & 24753 & Idiofa & 0 & null & Kimputu & 13839 & ADM3 & Kimputu & 13839 & COD2475313839 & 2019 & 218931 & 37218 & 76626 & 100708 & Endemic (under MDA) & 218931 & 177334 & 178506 & 100.66 & 3 & 1 & 1 & 2 & 2 & 81.54 & 1 & 1 & 2 & 2 & IVM & 2 & 2.02949e6 \\\\\n",
       "\t24 & Africa & Middle Africa & AFRO & Democratic Republic of the Congo & 14 & CG & CD & COD & Kwilu & 24753 & Gungu & 0 & null & Kingandu & 13840 & ADM3 & Kingandu & 13840 & COD2475313840 & 2019 & 117489 & 19973 & 41121 & 54045 & Unknown (consider Oncho Elimination Mapping) & 0 & 0 & 0 & 0.0 & 0 & 0 & 0 & 0 & 0 & 0.0 & 0 & 0 & 0 & 0 & Not delivered & 4 & 0.0 \\\\\n",
       "\t25 & Africa & Middle Africa & AFRO & Democratic Republic of the Congo & 14 & CG & CD & COD & Mai-Ndombe & 24754 & Kiri & 0 & null & Kiri & 13841 & ADM3 & Kiri & 13841 & COD2475413841 & 2019 & 146007 & 24821 & 51102 & 67163 & Endemic (under MDA) & 146007 & 118265 & 118625 & 100.3 & 15 & 1 & 1 & 5 & 5 & 81.25 & 1 & 1 & 5 & 4 & ALB+IVM & 2 & 1.35348e6 \\\\\n",
       "\t26 & Africa & Middle Africa & AFRO & Democratic Republic of the Congo & 14 & CG & CD & COD & Kwango & 24752 & Feshi & 0 & null & Kisanji & 13842 & ADM3 & Kisanji & 13842 & COD2475213842 & 2019 & 127905 & 21744 & 44767 & 58836 & Unknown (under LF MDA) & 0 & 0 & 0 & 0.0 & 2 & 0 & 0 & 1 & 1 & 0.0 & 0 & 0 & 1 & 1 & Not delivered & 5 & 0.0 \\\\\n",
       "\t27 & Africa & Middle Africa & AFRO & Democratic Republic of the Congo & 14 & CG & CD & COD & Kwilu & 24753 & Idiofa & 0 & null & Koshibanda & 13843 & ADM3 & Koshibanda & 13843 & COD2475313843 & 2019 & 229851 & 39075 & 80448 & 105731 & Endemic (under MDA) & 229851 & 186179 & 188438 & 101.21 & 17 & 1 & 1 & 5 & 5 & 81.98 & 1 & 1 & 5 & 4 & IVM & 2 & 2.13072e6 \\\\\n",
       "\t28 & Africa & Middle Africa & AFRO & Democratic Republic of the Congo & 14 & CG & CD & COD & Mai-Ndombe & 24754 & Kwamouth & 0 & null & Kwamouth & 13844 & ADM3 & Kwamouth & 13844 & COD2475413844 & 2019 & 181613 & 30874 & 63565 & 83542 & Unknown (consider Oncho Elimination Mapping) & 0 & 0 & 0 & 0.0 & 0 & 0 & 0 & 0 & 0 & 0.0 & 0 & 0 & 0 & 0 & Not delivered & 4 & 0.0 \\\\\n",
       "\t29 & Africa & Middle Africa & AFRO & Democratic Republic of the Congo & 14 & CG & CD & COD & Kwango & 24752 & Kasongo-Lunda & 0 & null & Tembo & 13845 & ADM3 & Tembo & 13845 & COD2475213845 & 2019 & 109649 & 18640 & 38377 & 50439 & Unknown (consider Oncho Elimination Mapping) & 0 & 0 & 0 & 0.0 & 0 & 0 & 0 & 0 & 0 & 0.0 & 0 & 0 & 0 & 0 & Not delivered & 4 & 0.0 \\\\\n",
       "\t30 & Africa & Middle Africa & AFRO & Democratic Republic of the Congo & 14 & CG & CD & COD & Kwilu & 24753 & Bulungu & 0 & null & Lusanga & 13846 & ADM3 & Lusanga & 13846 & COD2475313846 & 2019 & 317124 & 53911 & 110993 & 145877 & Endemic (under MDA) & 317124 & 256870 & 262017 & 102.0 & 17 & 1 & 1 & 5 & 5 & 82.62 & 1 & 1 & 5 & 3 & IVM & 2 & 2.93974e6 \\\\\n",
       "\t$\\dots$ & $\\dots$ & $\\dots$ & $\\dots$ & $\\dots$ & $\\dots$ & $\\dots$ & $\\dots$ & $\\dots$ & $\\dots$ & $\\dots$ & $\\dots$ & $\\dots$ & $\\dots$ & $\\dots$ & $\\dots$ & $\\dots$ & $\\dots$ & $\\dots$ & $\\dots$ & $\\dots$ & $\\dots$ & $\\dots$ & $\\dots$ & $\\dots$ & $\\dots$ & $\\dots$ & $\\dots$ & $\\dots$ & $\\dots$ & $\\dots$ & $\\dots$ & $\\dots$ & $\\dots$ & $\\dots$ & $\\dots$ & $\\dots$ & $\\dots$ & $\\dots$ & $\\dots$ & $\\dots$ & $\\dots$ & $\\dots$ \\\\\n",
       "\\end{tabular}\n"
      ],
      "text/plain": [
       "\u001b[1m519×42 DataFrame\u001b[0m\n",
       "\u001b[1m Row \u001b[0m│\u001b[1m CONTINENT \u001b[0m\u001b[1m REGION        \u001b[0m\u001b[1m WHO_REGION \u001b[0m\u001b[1m ADMIN0                           \u001b[0m\u001b[1m ADMIN0ID \u001b[0m\u001b[1m ADMIN0_FIP \u001b[0m\u001b[1m ADMIN0ISO2 \u001b[0m\u001b[1m ADMIN0ISO3 \u001b[0m\u001b[1m ADMIN1        \u001b[0m\u001b[1m ADMIN1ID \u001b[0m\u001b[1m ADMIN2       \u001b[0m\u001b[1m ADMIN2ID \u001b[0m\u001b[1m Alt_ADMIN2 \u001b[0m\u001b[1m ADMIN3        \u001b[0m\u001b[1m ADMIN3ID \u001b[0m\u001b[1m IUs_ADM \u001b[0m\u001b[1m IUs_NAME      \u001b[0m\u001b[1m IU_ID \u001b[0m\u001b[1m IU_CODE       \u001b[0m\u001b[1m Year  \u001b[0m\u001b[1m PopTot \u001b[0m\u001b[1m PopPreSAC \u001b[0m\u001b[1m PopSAC \u001b[0m\u001b[1m PopAdult \u001b[0m\u001b[1m Endemicity                        \u001b[0m\u001b[1m PopReq \u001b[0m\u001b[1m PopTrg \u001b[0m\u001b[1m PopTreat \u001b[0m\u001b[1m Cov     \u001b[0m\u001b[1m Cum_MDA \u001b[0m\u001b[1m MDA   \u001b[0m\u001b[1m EffMDA \u001b[0m\u001b[1m MDA_n \u001b[0m\u001b[1m EffMDA_n \u001b[0m\u001b[1m EpiCov  \u001b[0m\u001b[1m EpiMDA \u001b[0m\u001b[1m EpiEffMDA \u001b[0m\u001b[1m EpiMDA_n \u001b[0m\u001b[1m EpiEffMDA_n \u001b[0m\u001b[1m MDA_scheme    \u001b[0m\u001b[1m Endemicity_ID \u001b[0m\u001b[1m ivermectin_amt \u001b[0m\n",
       "\u001b[1m     \u001b[0m│\u001b[90m String7   \u001b[0m\u001b[90m String15      \u001b[0m\u001b[90m String7    \u001b[0m\u001b[90m String                           \u001b[0m\u001b[90m Int64    \u001b[0m\u001b[90m String3    \u001b[0m\u001b[90m String3    \u001b[0m\u001b[90m String3    \u001b[0m\u001b[90m String15      \u001b[0m\u001b[90m Int64    \u001b[0m\u001b[90m String15     \u001b[0m\u001b[90m Int64    \u001b[0m\u001b[90m String7    \u001b[0m\u001b[90m String31      \u001b[0m\u001b[90m Int64    \u001b[0m\u001b[90m String7 \u001b[0m\u001b[90m String31      \u001b[0m\u001b[90m Int64 \u001b[0m\u001b[90m String15      \u001b[0m\u001b[90m Int64 \u001b[0m\u001b[90m Int64  \u001b[0m\u001b[90m Int64     \u001b[0m\u001b[90m Int64  \u001b[0m\u001b[90m Int64    \u001b[0m\u001b[90m String                            \u001b[0m\u001b[90m Int64  \u001b[0m\u001b[90m Int64  \u001b[0m\u001b[90m Int64    \u001b[0m\u001b[90m Float64 \u001b[0m\u001b[90m Int64   \u001b[0m\u001b[90m Int64 \u001b[0m\u001b[90m Int64  \u001b[0m\u001b[90m Int64 \u001b[0m\u001b[90m Int64    \u001b[0m\u001b[90m Float64 \u001b[0m\u001b[90m Int64  \u001b[0m\u001b[90m Int64     \u001b[0m\u001b[90m Int64    \u001b[0m\u001b[90m Int64       \u001b[0m\u001b[90m String15      \u001b[0m\u001b[90m Int64         \u001b[0m\u001b[90m Float64        \u001b[0m\n",
       "─────┼──────────────────────────────────────────────────────────────────────────────────────────────────────────────────────────────────────────────────────────────────────────────────────────────────────────────────────────────────────────────────────────────────────────────────────────────────────────────────────────────────────────────────────────────────────────────────────────────────────────────────────────────────────────────────────────────────────────────────────────────────────────────────────\n",
       "   1 │ Africa     Middle Africa  AFRO        Democratic Republic of the Congo        14  CG          CD          COD         Kwilu             24753  Bagata               0  null        Bagata            13816  ADM3     Bagata         13816  COD2475313816   2019  203103      34528   71086     93427  Unknown (under LF MDA)                  0       0         0     0.0         4      0       0      1         1     0.0        0          0         1            1  Not delivered              5       0.0\n",
       "   2 │ Africa     Middle Africa  AFRO        Democratic Republic of the Congo        14  CG          CD          COD         Kwilu             24753  Bandundu             0  null        Bandundu          13818  ADM3     Bandundu       13818  COD2475313818   2019  189523      32219   66333     87181  Unknown (under LF MDA)                  0       0         0     0.0         4      0       0      1         1     0.0        0          0         1            1  Not delivered              5       0.0\n",
       "   3 │ Africa     Middle Africa  AFRO        Democratic Republic of the Congo        14  CG          CD          COD         Kwango            24752  Kenge                0  null        Boko              13819  ADM3     Boko           13819  COD2475213819   2019  292409      49710  102343    134508  Endemic (under MDA)                292409  236851    236868   100.01        6      1       1      4         4    81.01       1          1         4            3  IVM                        2       2.71063e6\n",
       "   4 │ Africa     Middle Africa  AFRO        Democratic Republic of the Congo        14  CG          CD          COD         Mai-Ndombe        24754  Kutu                 0  null        Bokoro            13820  ADM3     Bokoro         13820  COD2475413820   2019  259679      44145   90888    119452  Unknown (consider Oncho Eliminat…       0       0         0     0.0         0      0       0      0         0     0.0        0          0         0            0  Not delivered              4       0.0\n",
       "   5 │ Africa     Middle Africa  AFRO        Democratic Republic of the Congo        14  CG          CD          COD         Mai-Ndombe        24754  Bolobo               0  null        Bolobo            13821  ADM3     Bolobo         13821  COD2475413821   2019  149070      25342   52175     68572  Unknown (consider Oncho Eliminat…       0       0         0     0.0         0      0       0      0         0     0.0        0          0         0            0  Not delivered              4       0.0\n",
       "   6 │ Africa     Middle Africa  AFRO        Democratic Republic of the Congo        14  CG          CD          COD         Mai-Ndombe        24754  Oshwe                0  null        Bosobe            13822  ADM3     Bosobe         13822  COD2475413822   2019  133039      22617   46564     61198  Unknown (consider Oncho Eliminat…       0       0         0     0.0         0      0       0      0         0     0.0        0          0         0            0  Not delivered              4       0.0\n",
       "   7 │ Africa     Middle Africa  AFRO        Democratic Republic of the Congo        14  CG          CD          COD         Kwilu             24753  Bulungu              0  null        Bulungu           13823  ADM3     Bulungu        13823  COD2475313823   2019  315311      53603  110359    145043  Unknown (under LF MDA)                  0       0         0     0.0         4      0       0      1         1     0.0        0          0         1            1  Not delivered              5       0.0\n",
       "   8 │ Africa     Middle Africa  AFRO        Democratic Republic of the Congo        14  CG          CD          COD         Kwilu             24753  Bulungu              0  null        Djuma             13824  ADM3     Djuma          13824  COD2475313824   2019  248915      42316   87120    114501  Unknown (under LF MDA)                  0       0         0     0.0         4      0       0      1         1     0.0        0          0         1            1  Not delivered              5       0.0\n",
       "   9 │ Africa     Middle Africa  AFRO        Democratic Republic of the Congo        14  CG          CD          COD         Kwango            24752  Feshi                0  null        Feshi             13825  ADM3     Feshi          13825  COD2475213825   2019  160401      27268   56140     73784  Unknown (under LF MDA)                  0       0         0     0.0         2      0       0      1         1     0.0        0          0         1            1  Not delivered              5       0.0\n",
       "  10 │ Africa     Middle Africa  AFRO        Democratic Republic of the Congo        14  CG          CD          COD         Kwilu             24753  Gungu                0  null        Gungu             13826  ADM3     Gungu          13826  COD2475313826   2019  274410      46650   96044    126229  Unknown (under LF MDA)                  0       0         0     0.0         4      0       0      1         1     0.0        0          0         1            1  Not delivered              5       0.0\n",
       "  11 │ Africa     Middle Africa  AFRO        Democratic Republic of the Congo        14  CG          CD          COD         Kwilu             24753  Idiofa               0  null        Idiofa            13827  ADM3     Idiofa         13827  COD2475313827   2019  322941      54900  113029    148553  Unknown (under LF MDA)                  0       0         0     0.0         4      0       0      1         1     0.0        0          0         1            1  Not delivered              5       0.0\n",
       "  ⋮  │     ⋮            ⋮            ⋮                      ⋮                     ⋮          ⋮           ⋮           ⋮             ⋮           ⋮           ⋮           ⋮          ⋮             ⋮           ⋮         ⋮           ⋮          ⋮          ⋮          ⋮      ⋮         ⋮        ⋮        ⋮                      ⋮                    ⋮       ⋮        ⋮         ⋮        ⋮       ⋮      ⋮       ⋮       ⋮         ⋮       ⋮         ⋮         ⋮           ⋮             ⋮              ⋮              ⋮\n",
       " 510 │ Africa     Middle Africa  AFRO        Democratic Republic of the Congo        14  CG          CD          COD         Sud-Kivu          24781  Walungu              0  null        Walungu           14328  ADM3     Walungu        14328  COD2478114328   2019  271407      46139   94992    124847  Unknown (consider Oncho Eliminat…       0       0         0     0.0         0      0       0      0         0     0.0        0          0         0            0  Not delivered              4       0.0\n",
       " 511 │ Africa     Middle Africa  AFRO        Democratic Republic of the Congo        14  CG          CD          COD         Mai-Ndombe        24754  Inongo               0  null        Banzow Moke       14329  ADM3     Banjow Moke    14329  COD2475414329   2019  141299      24021   49455     64998  Unknown (consider Oncho Eliminat…       0       0         0     0.0         0      0       0      0         0     0.0        0          0         0            0  Not delivered              4       0.0\n",
       " 512 │ Africa     Middle Africa  AFRO        Democratic Republic of the Congo        14  CG          CD          COD         Haut-Uele         24778  Wamba                0  null        Boma-Mangbetu     14330  ADM3     Boma-Mangbetu  14330  COD2477814330   2019  112694      19158   39443     51839  Endemic (under MDA)                112694   91282     82308    90.17        9      1       1      6         4    73.04       1          0         6            0  IVM                        2       1.04467e6\n",
       " 513 │ Africa     Middle Africa  AFRO        Democratic Republic of the Congo        14  CG          CD          COD         Kasai-Central     24765  Kazumba              0  null        Kalomba           14332  ADM3     Kalomba        14332  COD2476514332   2019  172880      29390   60508     79525  Endemic (under MDA)                172880  140033    143688   102.61       21      1       1      6         6    83.11       1          1         6            5  ALB+IVM                    2       1.6026e6\n",
       " 514 │ Africa     Middle Africa  AFRO        Democratic Republic of the Congo        14  CG          CD          COD         Sankuru           24767  Lusambo              0  null        Ototo             14334  ADM3     Ototo          14334  COD2476714334   2019  161798      27506   56629     74427  Endemic (under MDA)                161798  131056    130671    99.71       18      1       1      6         6    80.76       1          1         6            6  ALB+IVM                    2       1.49987e6\n",
       " 515 │ Africa     Middle Africa  AFRO        Democratic Republic of the Congo        14  CG          CD          COD         Kwilu             24753  Masi-Manimba         0  null        Bongayassa        14335  ADM3     Yasa-Bonga     14335  COD2475314335   2019  235782      40083   82524    108460  Endemic (under MDA)                235782  190984    192070   100.57       16      1       1      5         5    81.46       1          1         5            2  IVM                        2       2.1857e6\n",
       " 516 │ Africa     Middle Africa  AFRO        Democratic Republic of the Congo        14  CG          CD          COD         Sankuru           24767  Lubefu               0  null        Dikungu           14336  ADM3     Dikungu        14336  COD2476714336   2019  181491      30853   63522     83486  Endemic (under MDA)                181491  147008    147755   100.51       18      1       1      6         6    81.41       1          1         6            5  IVM                        2       1.68242e6\n",
       " 517 │ Africa     Middle Africa  AFRO        Democratic Republic of the Congo        14  CG          CD          COD         Haut-Katanga      26059  Kasenga              0  null        Kashobwe          14337  ADM3     Kashobwe       14337  COD2605914337   2019  168007      28561   58802     77283  Unknown (consider Oncho Eliminat…       0       0         0     0.0         0      0       0      0         0     0.0        0          0         0            0  Not delivered              4       0.0\n",
       " 518 │ Africa     Middle Africa  AFRO        Democratic Republic of the Congo        14  CG          CD          COD         Kasai-Central     24765  Dibaya               0  null        Bunkonde          14338  ADM3     Bunkonde       14338  COD2476514338   2019  119592      20331   41857     55012  Endemic (under MDA)                119592   96869     97429   100.58       21      1       1      6         5    81.47       1          1         6            5  IVM                        2       1.10862e6\n",
       " 519 │ Africa     Middle Africa  AFRO        Democratic Republic of the Congo        14  CG          CD          COD         Kasai             24764  Kamonia              0  null        Kamonia           14340  ADM3     Kamonia        14340  COD2476414340   2019  461270      78416  161445    212184  Endemic (under MDA)                461270  373629    374197   100.15       21      1       1      6         6    81.12       1          1         6            6  ALB+IVM                    2       4.27597e6\n",
       "\u001b[36m                                                                                                                                                                                                                                                                                                                                                                                                                                                                                                            498 rows omitted\u001b[0m"
      ]
     },
     "execution_count": 4,
     "metadata": {},
     "output_type": "execute_result"
    }
   ],
   "source": [
    "drc_data = CSV.read(\"data-CD-Oncho-iu.csv\", DataFrame)\n",
    "drc_data = filter(row -> row.\"Year\" == 2019, drc_data)\n",
    "drc_data[!, :\"ivermectin_amt\"] = drc_data.\"PopReq\" .* 9.27\n",
    "\n",
    "drc_data"
   ]
  },
  {
   "cell_type": "code",
   "execution_count": 5,
   "id": "b6cd698b",
   "metadata": {
    "collapsed": true
   },
   "outputs": [
    {
     "data": {
      "text/html": [
       "<div class=\"data-frame\"><p>189 rows × 12 columns</p><table class=\"data-frame\"><thead><tr><th></th><th>geometry</th><th>ADM0_FR</th><th>ADM0_PCODE</th><th>ADM1_FR</th><th>ADM1_PCODE</th><th>ADM2_FR</th><th>ADM2_PCODE</th><th>ADM2_REF</th><th>ADM2ALT1FR</th><th>ADM2ALT2FR</th><th>POINT_X</th><th>POINT_Y</th></tr><tr><th></th><th title=\"Union{Missing, Shapefile.Point}\">Point</th><th title=\"String\">String</th><th title=\"String\">String</th><th title=\"String\">String</th><th title=\"String\">String</th><th title=\"String\">String</th><th title=\"String\">String</th><th title=\"Union{Missing, String}\">String?</th><th title=\"Missing\">Missing</th><th title=\"Missing\">Missing</th><th title=\"Float64\">Float64</th><th title=\"Float64\">Float64</th></tr></thead><tbody><tr><th>1</th><td>Point(30.2382, 3.85842)</td><td>République démocratique du Congo (la)</td><td>CD</td><td>Haut-Uele</td><td>CD53</td><td>Aba</td><td>CD5306</td><td><em>missing</em></td><td><em>missing</em></td><td><em>missing</em></td><td>30.2382</td><td>3.85842</td></tr><tr><th>2</th><td>Point(23.7546, 2.98007)</td><td>République démocratique du Congo (la)</td><td>CD</td><td>Bas-Uele</td><td>CD52</td><td>Aketi</td><td>CD5204</td><td><em>missing</em></td><td><em>missing</em></td><td><em>missing</em></td><td>23.7546</td><td>2.98007</td></tr><tr><th>3</th><td>Point(26.0726, 4.47187)</td><td>République démocratique du Congo (la)</td><td>CD</td><td>Bas-Uele</td><td>CD52</td><td>Ango</td><td>CD5207</td><td><em>missing</em></td><td><em>missing</em></td><td><em>missing</em></td><td>26.0726</td><td>4.47187</td></tr><tr><th>4</th><td>Point(30.707, 3.13686)</td><td>République démocratique du Congo (la)</td><td>CD</td><td>Ituri</td><td>CD54</td><td>Ariwara</td><td>CD5410</td><td><em>missing</em></td><td><em>missing</em></td><td><em>missing</em></td><td>30.707</td><td>3.13686</td></tr><tr><th>5</th><td>Point(30.5333, 3.06645)</td><td>République démocratique du Congo (la)</td><td>CD</td><td>Ituri</td><td>CD54</td><td>Aru</td><td>CD5409</td><td><em>missing</em></td><td><em>missing</em></td><td><em>missing</em></td><td>30.5333</td><td>3.06645</td></tr><tr><th>6</th><td>Point(26.9969, 0.735506)</td><td>République démocratique du Congo (la)</td><td>CD</td><td>Tshopo</td><td>CD51</td><td>Bafwasende</td><td>CD5111</td><td><em>missing</em></td><td><em>missing</em></td><td><em>missing</em></td><td>26.9969</td><td>0.735506</td></tr><tr><th>7</th><td>Point(17.7111, -3.90487)</td><td>République démocratique du Congo (la)</td><td>CD</td><td>Kwilu</td><td>CD32</td><td>Bagata</td><td>CD3202</td><td><em>missing</em></td><td><em>missing</em></td><td><em>missing</em></td><td>17.7111</td><td>-3.90487</td></tr><tr><th>8</th><td>Point(25.9729, 3.09299)</td><td>République démocratique du Congo (la)</td><td>CD</td><td>Bas-Uele</td><td>CD52</td><td>Bambesa</td><td>CD5209</td><td><em>missing</em></td><td><em>missing</em></td><td><em>missing</em></td><td>25.9729</td><td>3.09299</td></tr><tr><th>9</th><td>Point(25.4582, 1.58373)</td><td>République démocratique du Congo (la)</td><td>CD</td><td>Tshopo</td><td>CD51</td><td>Banalia</td><td>CD5110</td><td><em>missing</em></td><td><em>missing</em></td><td><em>missing</em></td><td>25.4582</td><td>1.58373</td></tr><tr><th>10</th><td>Point(17.4452, -3.31634)</td><td>République démocratique du Congo (la)</td><td>CD</td><td>Kwilu</td><td>CD32</td><td>Bandundu</td><td>CD3201</td><td><em>missing</em></td><td><em>missing</em></td><td><em>missing</em></td><td>17.4452</td><td>-3.31634</td></tr><tr><th>11</th><td>Point(14.4524, -5.55387)</td><td>République démocratique du Congo (la)</td><td>CD</td><td>Kongo-Central</td><td>CD20</td><td>Bangu</td><td>CD2012</td><td><em>missing</em></td><td><em>missing</em></td><td><em>missing</em></td><td>14.4524</td><td>-5.55387</td></tr><tr><th>12</th><td>Point(29.0915, -4.08973)</td><td>République démocratique du Congo (la)</td><td>CD</td><td>Sud-Kivu</td><td>CD62</td><td>Baraka</td><td>CD6211</td><td><em>missing</em></td><td><em>missing</em></td><td><em>missing</em></td><td>29.0915</td><td>-4.08973</td></tr><tr><th>13</th><td>Point(20.0009, 1.0873)</td><td>République démocratique du Congo (la)</td><td>CD</td><td>Equateur</td><td>CD41</td><td>Basankusu</td><td>CD4107</td><td><em>missing</em></td><td><em>missing</em></td><td><em>missing</em></td><td>20.0009</td><td>1.0873</td></tr><tr><th>14</th><td>Point(23.9255, 1.5646)</td><td>République démocratique du Congo (la)</td><td>CD</td><td>Tshopo</td><td>CD51</td><td>Basoko</td><td>CD5109</td><td><em>missing</em></td><td><em>missing</em></td><td><em>missing</em></td><td>23.9255</td><td>1.5646</td></tr><tr><th>15</th><td>Point(21.1538, 0.501749)</td><td>République démocratique du Congo (la)</td><td>CD</td><td>Tshuapa</td><td>CD45</td><td>Befale</td><td>CD4503</td><td><em>missing</em></td><td><em>missing</em></td><td><em>missing</em></td><td>21.1538</td><td>0.501749</td></tr><tr><th>16</th><td>Point(22.909, -4.22625)</td><td>République démocratique du Congo (la)</td><td>CD</td><td>Sankuru</td><td>CD83</td><td>Bena-Dibele</td><td>CD8305</td><td><em>missing</em></td><td><em>missing</em></td><td><em>missing</em></td><td>22.909</td><td>-4.22625</td></tr><tr><th>17</th><td>Point(29.4555, 0.474898)</td><td>République démocratique du Congo (la)</td><td>CD</td><td>Nord-Kivu</td><td>CD61</td><td>Beni</td><td>CD6109</td><td><em>missing</em></td><td><em>missing</em></td><td><em>missing</em></td><td>29.4555</td><td>0.474898</td></tr><tr><th>18</th><td>Point(18.1866, -0.810484)</td><td>République démocratique du Congo (la)</td><td>CD</td><td>Equateur</td><td>CD41</td><td>Bikoro</td><td>CD4102</td><td><em>missing</em></td><td><em>missing</em></td><td><em>missing</em></td><td>18.1866</td><td>-0.810484</td></tr><tr><th>19</th><td>Point(20.9994, -0.494641)</td><td>République démocratique du Congo (la)</td><td>CD</td><td>Tshuapa</td><td>CD45</td><td>Boende</td><td>CD4502</td><td><em>missing</em></td><td><em>missing</em></td><td><em>missing</em></td><td>20.9994</td><td>-0.494641</td></tr><tr><th>20</th><td>Point(22.1968, -0.852509)</td><td>République démocratique du Congo (la)</td><td>CD</td><td>Tshuapa</td><td>CD45</td><td>Bokungu</td><td>CD4506</td><td><em>missing</em></td><td><em>missing</em></td><td><em>missing</em></td><td>22.1968</td><td>-0.852509</td></tr><tr><th>21</th><td>Point(16.3808, -2.68258)</td><td>République démocratique du Congo (la)</td><td>CD</td><td>Maï-Ndombe</td><td>CD33</td><td>Bolobo</td><td>CD3308</td><td><em>missing</em></td><td><em>missing</em></td><td><em>missing</em></td><td>16.3808</td><td>-2.68258</td></tr><tr><th>22</th><td>Point(19.2449, 0.402001)</td><td>République démocratique du Congo (la)</td><td>CD</td><td>Equateur</td><td>CD41</td><td>Bolomba</td><td>CD4108</td><td><em>missing</em></td><td><em>missing</em></td><td><em>missing</em></td><td>19.2449</td><td>0.402001</td></tr><tr><th>23</th><td>Point(13.0535, -5.81341)</td><td>République démocratique du Congo (la)</td><td>CD</td><td>Kongo-Central</td><td>CD20</td><td>Boma</td><td>CD2002</td><td><em>missing</em></td><td><em>missing</em></td><td><em>missing</em></td><td>13.0535</td><td>-5.81341</td></tr><tr><th>24</th><td>Point(18.5764, 1.66591)</td><td>République démocratique du Congo (la)</td><td>CD</td><td>Equateur</td><td>CD41</td><td>Bomongo</td><td>CD4104</td><td><em>missing</em></td><td><em>missing</em></td><td><em>missing</em></td><td>18.5764</td><td>1.66591</td></tr><tr><th>25</th><td>Point(24.0986, 4.1946)</td><td>République démocratique du Congo (la)</td><td>CD</td><td>Bas-Uele</td><td>CD52</td><td>Bondo</td><td>CD5206</td><td><em>missing</em></td><td><em>missing</em></td><td><em>missing</em></td><td>24.0986</td><td>4.1946</td></tr><tr><th>26</th><td>Point(21.1966, 1.57792)</td><td>République démocratique du Congo (la)</td><td>CD</td><td>Mongala</td><td>CD44</td><td>Bongandanga</td><td>CD4405</td><td><em>missing</em></td><td><em>missing</em></td><td><em>missing</em></td><td>21.1966</td><td>1.57792</td></tr><tr><th>27</th><td>Point(19.7907, 4.54933)</td><td>République démocratique du Congo (la)</td><td>CD</td><td>Nord-Ubangi</td><td>CD43</td><td>Bosobolo</td><td>CD4306</td><td><em>missing</em></td><td><em>missing</em></td><td><em>missing</em></td><td>19.7907</td><td>4.54933</td></tr><tr><th>28</th><td>Point(19.9603, 2.53344)</td><td>République démocratique du Congo (la)</td><td>CD</td><td>Sud-Ubangi</td><td>CD42</td><td>Budjala</td><td>CD4203</td><td><em>missing</em></td><td><em>missing</em></td><td><em>missing</em></td><td>19.9603</td><td>2.53344</td></tr><tr><th>29</th><td>Point(26.1279, -8.84885)</td><td>République démocratique du Congo (la)</td><td>CD</td><td>Haut-Lomami</td><td>CD73</td><td>Bukama</td><td>CD7306</td><td><em>missing</em></td><td><em>missing</em></td><td><em>missing</em></td><td>26.1279</td><td>-8.84885</td></tr><tr><th>30</th><td>Point(28.8456, -2.50039)</td><td>République démocratique du Congo (la)</td><td>CD</td><td>Sud-Kivu</td><td>CD62</td><td>Bukavu</td><td>CD6201</td><td><em>missing</em></td><td><em>missing</em></td><td><em>missing</em></td><td>28.8456</td><td>-2.50039</td></tr><tr><th>&vellip;</th><td>&vellip;</td><td>&vellip;</td><td>&vellip;</td><td>&vellip;</td><td>&vellip;</td><td>&vellip;</td><td>&vellip;</td><td>&vellip;</td><td>&vellip;</td><td>&vellip;</td><td>&vellip;</td><td>&vellip;</td></tr></tbody></table></div>"
      ],
      "text/latex": [
       "\\begin{tabular}{r|cccccccccccc}\n",
       "\t& geometry & ADM0\\_FR & ADM0\\_PCODE & ADM1\\_FR & ADM1\\_PCODE & ADM2\\_FR & ADM2\\_PCODE & ADM2\\_REF & ADM2ALT1FR & ADM2ALT2FR & POINT\\_X & POINT\\_Y\\\\\n",
       "\t\\hline\n",
       "\t& Point & String & String & String & String & String & String & String? & Missing & Missing & Float64 & Float64\\\\\n",
       "\t\\hline\n",
       "\t1 & Point(30.2382, 3.85842) & République démocratique du Congo (la) & CD & Haut-Uele & CD53 & Aba & CD5306 & \\emph{missing} & \\emph{missing} & \\emph{missing} & 30.2382 & 3.85842 \\\\\n",
       "\t2 & Point(23.7546, 2.98007) & République démocratique du Congo (la) & CD & Bas-Uele & CD52 & Aketi & CD5204 & \\emph{missing} & \\emph{missing} & \\emph{missing} & 23.7546 & 2.98007 \\\\\n",
       "\t3 & Point(26.0726, 4.47187) & République démocratique du Congo (la) & CD & Bas-Uele & CD52 & Ango & CD5207 & \\emph{missing} & \\emph{missing} & \\emph{missing} & 26.0726 & 4.47187 \\\\\n",
       "\t4 & Point(30.707, 3.13686) & République démocratique du Congo (la) & CD & Ituri & CD54 & Ariwara & CD5410 & \\emph{missing} & \\emph{missing} & \\emph{missing} & 30.707 & 3.13686 \\\\\n",
       "\t5 & Point(30.5333, 3.06645) & République démocratique du Congo (la) & CD & Ituri & CD54 & Aru & CD5409 & \\emph{missing} & \\emph{missing} & \\emph{missing} & 30.5333 & 3.06645 \\\\\n",
       "\t6 & Point(26.9969, 0.735506) & République démocratique du Congo (la) & CD & Tshopo & CD51 & Bafwasende & CD5111 & \\emph{missing} & \\emph{missing} & \\emph{missing} & 26.9969 & 0.735506 \\\\\n",
       "\t7 & Point(17.7111, -3.90487) & République démocratique du Congo (la) & CD & Kwilu & CD32 & Bagata & CD3202 & \\emph{missing} & \\emph{missing} & \\emph{missing} & 17.7111 & -3.90487 \\\\\n",
       "\t8 & Point(25.9729, 3.09299) & République démocratique du Congo (la) & CD & Bas-Uele & CD52 & Bambesa & CD5209 & \\emph{missing} & \\emph{missing} & \\emph{missing} & 25.9729 & 3.09299 \\\\\n",
       "\t9 & Point(25.4582, 1.58373) & République démocratique du Congo (la) & CD & Tshopo & CD51 & Banalia & CD5110 & \\emph{missing} & \\emph{missing} & \\emph{missing} & 25.4582 & 1.58373 \\\\\n",
       "\t10 & Point(17.4452, -3.31634) & République démocratique du Congo (la) & CD & Kwilu & CD32 & Bandundu & CD3201 & \\emph{missing} & \\emph{missing} & \\emph{missing} & 17.4452 & -3.31634 \\\\\n",
       "\t11 & Point(14.4524, -5.55387) & République démocratique du Congo (la) & CD & Kongo-Central & CD20 & Bangu & CD2012 & \\emph{missing} & \\emph{missing} & \\emph{missing} & 14.4524 & -5.55387 \\\\\n",
       "\t12 & Point(29.0915, -4.08973) & République démocratique du Congo (la) & CD & Sud-Kivu & CD62 & Baraka & CD6211 & \\emph{missing} & \\emph{missing} & \\emph{missing} & 29.0915 & -4.08973 \\\\\n",
       "\t13 & Point(20.0009, 1.0873) & République démocratique du Congo (la) & CD & Equateur & CD41 & Basankusu & CD4107 & \\emph{missing} & \\emph{missing} & \\emph{missing} & 20.0009 & 1.0873 \\\\\n",
       "\t14 & Point(23.9255, 1.5646) & République démocratique du Congo (la) & CD & Tshopo & CD51 & Basoko & CD5109 & \\emph{missing} & \\emph{missing} & \\emph{missing} & 23.9255 & 1.5646 \\\\\n",
       "\t15 & Point(21.1538, 0.501749) & République démocratique du Congo (la) & CD & Tshuapa & CD45 & Befale & CD4503 & \\emph{missing} & \\emph{missing} & \\emph{missing} & 21.1538 & 0.501749 \\\\\n",
       "\t16 & Point(22.909, -4.22625) & République démocratique du Congo (la) & CD & Sankuru & CD83 & Bena-Dibele & CD8305 & \\emph{missing} & \\emph{missing} & \\emph{missing} & 22.909 & -4.22625 \\\\\n",
       "\t17 & Point(29.4555, 0.474898) & République démocratique du Congo (la) & CD & Nord-Kivu & CD61 & Beni & CD6109 & \\emph{missing} & \\emph{missing} & \\emph{missing} & 29.4555 & 0.474898 \\\\\n",
       "\t18 & Point(18.1866, -0.810484) & République démocratique du Congo (la) & CD & Equateur & CD41 & Bikoro & CD4102 & \\emph{missing} & \\emph{missing} & \\emph{missing} & 18.1866 & -0.810484 \\\\\n",
       "\t19 & Point(20.9994, -0.494641) & République démocratique du Congo (la) & CD & Tshuapa & CD45 & Boende & CD4502 & \\emph{missing} & \\emph{missing} & \\emph{missing} & 20.9994 & -0.494641 \\\\\n",
       "\t20 & Point(22.1968, -0.852509) & République démocratique du Congo (la) & CD & Tshuapa & CD45 & Bokungu & CD4506 & \\emph{missing} & \\emph{missing} & \\emph{missing} & 22.1968 & -0.852509 \\\\\n",
       "\t21 & Point(16.3808, -2.68258) & République démocratique du Congo (la) & CD & Maï-Ndombe & CD33 & Bolobo & CD3308 & \\emph{missing} & \\emph{missing} & \\emph{missing} & 16.3808 & -2.68258 \\\\\n",
       "\t22 & Point(19.2449, 0.402001) & République démocratique du Congo (la) & CD & Equateur & CD41 & Bolomba & CD4108 & \\emph{missing} & \\emph{missing} & \\emph{missing} & 19.2449 & 0.402001 \\\\\n",
       "\t23 & Point(13.0535, -5.81341) & République démocratique du Congo (la) & CD & Kongo-Central & CD20 & Boma & CD2002 & \\emph{missing} & \\emph{missing} & \\emph{missing} & 13.0535 & -5.81341 \\\\\n",
       "\t24 & Point(18.5764, 1.66591) & République démocratique du Congo (la) & CD & Equateur & CD41 & Bomongo & CD4104 & \\emph{missing} & \\emph{missing} & \\emph{missing} & 18.5764 & 1.66591 \\\\\n",
       "\t25 & Point(24.0986, 4.1946) & République démocratique du Congo (la) & CD & Bas-Uele & CD52 & Bondo & CD5206 & \\emph{missing} & \\emph{missing} & \\emph{missing} & 24.0986 & 4.1946 \\\\\n",
       "\t26 & Point(21.1966, 1.57792) & République démocratique du Congo (la) & CD & Mongala & CD44 & Bongandanga & CD4405 & \\emph{missing} & \\emph{missing} & \\emph{missing} & 21.1966 & 1.57792 \\\\\n",
       "\t27 & Point(19.7907, 4.54933) & République démocratique du Congo (la) & CD & Nord-Ubangi & CD43 & Bosobolo & CD4306 & \\emph{missing} & \\emph{missing} & \\emph{missing} & 19.7907 & 4.54933 \\\\\n",
       "\t28 & Point(19.9603, 2.53344) & République démocratique du Congo (la) & CD & Sud-Ubangi & CD42 & Budjala & CD4203 & \\emph{missing} & \\emph{missing} & \\emph{missing} & 19.9603 & 2.53344 \\\\\n",
       "\t29 & Point(26.1279, -8.84885) & République démocratique du Congo (la) & CD & Haut-Lomami & CD73 & Bukama & CD7306 & \\emph{missing} & \\emph{missing} & \\emph{missing} & 26.1279 & -8.84885 \\\\\n",
       "\t30 & Point(28.8456, -2.50039) & République démocratique du Congo (la) & CD & Sud-Kivu & CD62 & Bukavu & CD6201 & \\emph{missing} & \\emph{missing} & \\emph{missing} & 28.8456 & -2.50039 \\\\\n",
       "\t$\\dots$ & $\\dots$ & $\\dots$ & $\\dots$ & $\\dots$ & $\\dots$ & $\\dots$ & $\\dots$ & $\\dots$ & $\\dots$ & $\\dots$ & $\\dots$ & $\\dots$ \\\\\n",
       "\\end{tabular}\n"
      ],
      "text/plain": [
       "\u001b[1m189×12 DataFrame\u001b[0m\n",
       "\u001b[1m Row \u001b[0m│\u001b[1m geometry                  \u001b[0m\u001b[1m ADM0_FR                           \u001b[0m\u001b[1m ADM0_PCODE \u001b[0m\u001b[1m ADM1_FR        \u001b[0m\u001b[1m ADM1_PCODE \u001b[0m\u001b[1m ADM2_FR    \u001b[0m\u001b[1m ADM2_PCODE \u001b[0m\u001b[1m ADM2_REF \u001b[0m\u001b[1m ADM2ALT1FR \u001b[0m\u001b[1m ADM2ALT2FR \u001b[0m\u001b[1m POINT_X \u001b[0m\u001b[1m POINT_Y   \u001b[0m\n",
       "\u001b[1m     \u001b[0m│\u001b[90m Point                     \u001b[0m\u001b[90m String                            \u001b[0m\u001b[90m String     \u001b[0m\u001b[90m String         \u001b[0m\u001b[90m String     \u001b[0m\u001b[90m String     \u001b[0m\u001b[90m String     \u001b[0m\u001b[90m String?  \u001b[0m\u001b[90m Missing    \u001b[0m\u001b[90m Missing    \u001b[0m\u001b[90m Float64 \u001b[0m\u001b[90m Float64   \u001b[0m\n",
       "─────┼────────────────────────────────────────────────────────────────────────────────────────────────────────────────────────────────────────────────────────────────────────────────────\n",
       "   1 │ Point(30.2382, 3.85842)    République démocratique du Congo…  CD          Haut-Uele       CD53        Aba         CD5306     \u001b[90m missing  \u001b[0m\u001b[90m    missing \u001b[0m\u001b[90m    missing \u001b[0m 30.2382   3.85842\n",
       "   2 │ Point(23.7546, 2.98007)    République démocratique du Congo…  CD          Bas-Uele        CD52        Aketi       CD5204     \u001b[90m missing  \u001b[0m\u001b[90m    missing \u001b[0m\u001b[90m    missing \u001b[0m 23.7546   2.98007\n",
       "   3 │ Point(26.0726, 4.47187)    République démocratique du Congo…  CD          Bas-Uele        CD52        Ango        CD5207     \u001b[90m missing  \u001b[0m\u001b[90m    missing \u001b[0m\u001b[90m    missing \u001b[0m 26.0726   4.47187\n",
       "   4 │ Point(30.707, 3.13686)     République démocratique du Congo…  CD          Ituri           CD54        Ariwara     CD5410     \u001b[90m missing  \u001b[0m\u001b[90m    missing \u001b[0m\u001b[90m    missing \u001b[0m 30.707    3.13686\n",
       "   5 │ Point(30.5333, 3.06645)    République démocratique du Congo…  CD          Ituri           CD54        Aru         CD5409     \u001b[90m missing  \u001b[0m\u001b[90m    missing \u001b[0m\u001b[90m    missing \u001b[0m 30.5333   3.06645\n",
       "   6 │ Point(26.9969, 0.735506)   République démocratique du Congo…  CD          Tshopo          CD51        Bafwasende  CD5111     \u001b[90m missing  \u001b[0m\u001b[90m    missing \u001b[0m\u001b[90m    missing \u001b[0m 26.9969   0.735506\n",
       "   7 │ Point(17.7111, -3.90487)   République démocratique du Congo…  CD          Kwilu           CD32        Bagata      CD3202     \u001b[90m missing  \u001b[0m\u001b[90m    missing \u001b[0m\u001b[90m    missing \u001b[0m 17.7111  -3.90487\n",
       "   8 │ Point(25.9729, 3.09299)    République démocratique du Congo…  CD          Bas-Uele        CD52        Bambesa     CD5209     \u001b[90m missing  \u001b[0m\u001b[90m    missing \u001b[0m\u001b[90m    missing \u001b[0m 25.9729   3.09299\n",
       "   9 │ Point(25.4582, 1.58373)    République démocratique du Congo…  CD          Tshopo          CD51        Banalia     CD5110     \u001b[90m missing  \u001b[0m\u001b[90m    missing \u001b[0m\u001b[90m    missing \u001b[0m 25.4582   1.58373\n",
       "  10 │ Point(17.4452, -3.31634)   République démocratique du Congo…  CD          Kwilu           CD32        Bandundu    CD3201     \u001b[90m missing  \u001b[0m\u001b[90m    missing \u001b[0m\u001b[90m    missing \u001b[0m 17.4452  -3.31634\n",
       "  11 │ Point(14.4524, -5.55387)   République démocratique du Congo…  CD          Kongo-Central   CD20        Bangu       CD2012     \u001b[90m missing  \u001b[0m\u001b[90m    missing \u001b[0m\u001b[90m    missing \u001b[0m 14.4524  -5.55387\n",
       "  ⋮  │             ⋮                              ⋮                      ⋮             ⋮             ⋮           ⋮           ⋮          ⋮          ⋮           ⋮          ⋮         ⋮\n",
       " 180 │ Point(29.0146, -3.21468)   République démocratique du Congo…  CD          Sud-Kivu        CD62        Uvira       CD6208     \u001b[90m missing  \u001b[0m\u001b[90m    missing \u001b[0m\u001b[90m    missing \u001b[0m 29.0146  -3.21468\n",
       " 181 │ Point(28.1636, -1.11856)   République démocratique du Congo…  CD          Nord-Kivu       CD61        Walikale    CD6104     \u001b[90m missing  \u001b[0m\u001b[90m    missing \u001b[0m\u001b[90m    missing \u001b[0m 28.1636  -1.11856\n",
       " 182 │ Point(28.6799, -2.72565)   République démocratique du Congo…  CD          Sud-Kivu        CD62        Walungu     CD6207     \u001b[90m missing  \u001b[0m\u001b[90m    missing \u001b[0m\u001b[90m    missing \u001b[0m 28.6799  -2.72565\n",
       " 183 │ Point(27.8389, 2.10723)    République démocratique du Congo…  CD          Haut-Uele       CD53        Wamba       CD5311     \u001b[90m missing  \u001b[0m\u001b[90m    missing \u001b[0m\u001b[90m    missing \u001b[0m 27.8389   2.10723\n",
       " 184 │ Point(29.2529, 2.97478)    République démocratique du Congo…  CD          Haut-Uele       CD53        Watsa       CD5309     \u001b[90m missing  \u001b[0m\u001b[90m    missing \u001b[0m\u001b[90m    missing \u001b[0m 29.2529   2.97478\n",
       " 185 │ Point(23.1432, 0.841036)   République démocratique du Congo…  CD          Tshopo          CD51        Yahuma      CD5107     \u001b[90m missing  \u001b[0m\u001b[90m    missing \u001b[0m\u001b[90m    missing \u001b[0m 23.1432   0.841036\n",
       " 186 │ Point(22.2295, 3.643)      République démocratique du Congo…  CD          Nord-Ubangi     CD43        Yakoma      CD4304     \u001b[90m missing  \u001b[0m\u001b[90m    missing \u001b[0m\u001b[90m    missing \u001b[0m 22.2295   3.643\n",
       " 187 │ Point(24.4817, 0.788154)   République démocratique du Congo…  CD          Tshopo          CD51        Yangambi    CD5106     \u001b[90m missing  \u001b[0m\u001b[90m    missing \u001b[0m\u001b[90m    missing \u001b[0m 24.4817   0.788154\n",
       " 188 │ Point(16.52, -2.10559)     République démocratique du Congo…  CD          Maï-Ndombe      CD33        Yumbi       CD3310     \u001b[90m missing  \u001b[0m\u001b[90m    missing \u001b[0m\u001b[90m    missing \u001b[0m 16.52    -2.10559\n",
       " 189 │ Point(18.6983, 4.21969)    République démocratique du Congo…  CD          Sud-Ubangi      CD42        Zongo       CD4206     \u001b[90m missing  \u001b[0m\u001b[90m    missing \u001b[0m\u001b[90m    missing \u001b[0m 18.6983   4.21969\n",
       "\u001b[36m                                                                                                                                                                          168 rows omitted\u001b[0m"
      ]
     },
     "execution_count": 5,
     "metadata": {},
     "output_type": "execute_result"
    }
   ],
   "source": [
    "drc_loc_T = Shapefile.Table(\"cod_admbnda_rgc_itos_20190911_shp/cod_admbndp_admALL_rgc_itos_20190911.shp\")\n",
    "drc_loc = DataFrame(drc_loc_T)"
   ]
  },
  {
   "cell_type": "code",
   "execution_count": 6,
   "id": "3c014103",
   "metadata": {
    "collapsed": true
   },
   "outputs": [
    {
     "data": {
      "text/html": [
       "<div class=\"data-frame\"><p>189 rows × 3 columns</p><table class=\"data-frame\"><thead><tr><th></th><th>ADM2_FR</th><th>POINT_X</th><th>POINT_Y</th></tr><tr><th></th><th title=\"String\">String</th><th title=\"Float64\">Float64</th><th title=\"Float64\">Float64</th></tr></thead><tbody><tr><th>1</th><td>Aba</td><td>30.2382</td><td>3.85842</td></tr><tr><th>2</th><td>Aketi</td><td>23.7546</td><td>2.98007</td></tr><tr><th>3</th><td>Ango</td><td>26.0726</td><td>4.47187</td></tr><tr><th>4</th><td>Ariwara</td><td>30.707</td><td>3.13686</td></tr><tr><th>5</th><td>Aru</td><td>30.5333</td><td>3.06645</td></tr><tr><th>6</th><td>Bafwasende</td><td>26.9969</td><td>0.735506</td></tr><tr><th>7</th><td>Bagata</td><td>17.7111</td><td>-3.90487</td></tr><tr><th>8</th><td>Bambesa</td><td>25.9729</td><td>3.09299</td></tr><tr><th>9</th><td>Banalia</td><td>25.4582</td><td>1.58373</td></tr><tr><th>10</th><td>Bandundu</td><td>17.4452</td><td>-3.31634</td></tr><tr><th>11</th><td>Bangu</td><td>14.4524</td><td>-5.55387</td></tr><tr><th>12</th><td>Baraka</td><td>29.0915</td><td>-4.08973</td></tr><tr><th>13</th><td>Basankusu</td><td>20.0009</td><td>1.0873</td></tr><tr><th>14</th><td>Basoko</td><td>23.9255</td><td>1.5646</td></tr><tr><th>15</th><td>Befale</td><td>21.1538</td><td>0.501749</td></tr><tr><th>16</th><td>Bena-Dibele</td><td>22.909</td><td>-4.22625</td></tr><tr><th>17</th><td>Beni</td><td>29.4555</td><td>0.474898</td></tr><tr><th>18</th><td>Bikoro</td><td>18.1866</td><td>-0.810484</td></tr><tr><th>19</th><td>Boende</td><td>20.9994</td><td>-0.494641</td></tr><tr><th>20</th><td>Bokungu</td><td>22.1968</td><td>-0.852509</td></tr><tr><th>21</th><td>Bolobo</td><td>16.3808</td><td>-2.68258</td></tr><tr><th>22</th><td>Bolomba</td><td>19.2449</td><td>0.402001</td></tr><tr><th>23</th><td>Boma</td><td>13.0535</td><td>-5.81341</td></tr><tr><th>24</th><td>Bomongo</td><td>18.5764</td><td>1.66591</td></tr><tr><th>25</th><td>Bondo</td><td>24.0986</td><td>4.1946</td></tr><tr><th>26</th><td>Bongandanga</td><td>21.1966</td><td>1.57792</td></tr><tr><th>27</th><td>Bosobolo</td><td>19.7907</td><td>4.54933</td></tr><tr><th>28</th><td>Budjala</td><td>19.9603</td><td>2.53344</td></tr><tr><th>29</th><td>Bukama</td><td>26.1279</td><td>-8.84885</td></tr><tr><th>30</th><td>Bukavu</td><td>28.8456</td><td>-2.50039</td></tr><tr><th>&vellip;</th><td>&vellip;</td><td>&vellip;</td><td>&vellip;</td></tr></tbody></table></div>"
      ],
      "text/latex": [
       "\\begin{tabular}{r|ccc}\n",
       "\t& ADM2\\_FR & POINT\\_X & POINT\\_Y\\\\\n",
       "\t\\hline\n",
       "\t& String & Float64 & Float64\\\\\n",
       "\t\\hline\n",
       "\t1 & Aba & 30.2382 & 3.85842 \\\\\n",
       "\t2 & Aketi & 23.7546 & 2.98007 \\\\\n",
       "\t3 & Ango & 26.0726 & 4.47187 \\\\\n",
       "\t4 & Ariwara & 30.707 & 3.13686 \\\\\n",
       "\t5 & Aru & 30.5333 & 3.06645 \\\\\n",
       "\t6 & Bafwasende & 26.9969 & 0.735506 \\\\\n",
       "\t7 & Bagata & 17.7111 & -3.90487 \\\\\n",
       "\t8 & Bambesa & 25.9729 & 3.09299 \\\\\n",
       "\t9 & Banalia & 25.4582 & 1.58373 \\\\\n",
       "\t10 & Bandundu & 17.4452 & -3.31634 \\\\\n",
       "\t11 & Bangu & 14.4524 & -5.55387 \\\\\n",
       "\t12 & Baraka & 29.0915 & -4.08973 \\\\\n",
       "\t13 & Basankusu & 20.0009 & 1.0873 \\\\\n",
       "\t14 & Basoko & 23.9255 & 1.5646 \\\\\n",
       "\t15 & Befale & 21.1538 & 0.501749 \\\\\n",
       "\t16 & Bena-Dibele & 22.909 & -4.22625 \\\\\n",
       "\t17 & Beni & 29.4555 & 0.474898 \\\\\n",
       "\t18 & Bikoro & 18.1866 & -0.810484 \\\\\n",
       "\t19 & Boende & 20.9994 & -0.494641 \\\\\n",
       "\t20 & Bokungu & 22.1968 & -0.852509 \\\\\n",
       "\t21 & Bolobo & 16.3808 & -2.68258 \\\\\n",
       "\t22 & Bolomba & 19.2449 & 0.402001 \\\\\n",
       "\t23 & Boma & 13.0535 & -5.81341 \\\\\n",
       "\t24 & Bomongo & 18.5764 & 1.66591 \\\\\n",
       "\t25 & Bondo & 24.0986 & 4.1946 \\\\\n",
       "\t26 & Bongandanga & 21.1966 & 1.57792 \\\\\n",
       "\t27 & Bosobolo & 19.7907 & 4.54933 \\\\\n",
       "\t28 & Budjala & 19.9603 & 2.53344 \\\\\n",
       "\t29 & Bukama & 26.1279 & -8.84885 \\\\\n",
       "\t30 & Bukavu & 28.8456 & -2.50039 \\\\\n",
       "\t$\\dots$ & $\\dots$ & $\\dots$ & $\\dots$ \\\\\n",
       "\\end{tabular}\n"
      ],
      "text/plain": [
       "\u001b[1m189×3 DataFrame\u001b[0m\n",
       "\u001b[1m Row \u001b[0m│\u001b[1m ADM2_FR    \u001b[0m\u001b[1m POINT_X \u001b[0m\u001b[1m POINT_Y   \u001b[0m\n",
       "\u001b[1m     \u001b[0m│\u001b[90m String     \u001b[0m\u001b[90m Float64 \u001b[0m\u001b[90m Float64   \u001b[0m\n",
       "─────┼────────────────────────────────\n",
       "   1 │ Aba         30.2382   3.85842\n",
       "   2 │ Aketi       23.7546   2.98007\n",
       "   3 │ Ango        26.0726   4.47187\n",
       "   4 │ Ariwara     30.707    3.13686\n",
       "   5 │ Aru         30.5333   3.06645\n",
       "   6 │ Bafwasende  26.9969   0.735506\n",
       "   7 │ Bagata      17.7111  -3.90487\n",
       "   8 │ Bambesa     25.9729   3.09299\n",
       "   9 │ Banalia     25.4582   1.58373\n",
       "  10 │ Bandundu    17.4452  -3.31634\n",
       "  11 │ Bangu       14.4524  -5.55387\n",
       "  ⋮  │     ⋮          ⋮         ⋮\n",
       " 180 │ Uvira       29.0146  -3.21468\n",
       " 181 │ Walikale    28.1636  -1.11856\n",
       " 182 │ Walungu     28.6799  -2.72565\n",
       " 183 │ Wamba       27.8389   2.10723\n",
       " 184 │ Watsa       29.2529   2.97478\n",
       " 185 │ Yahuma      23.1432   0.841036\n",
       " 186 │ Yakoma      22.2295   3.643\n",
       " 187 │ Yangambi    24.4817   0.788154\n",
       " 188 │ Yumbi       16.52    -2.10559\n",
       " 189 │ Zongo       18.6983   4.21969\n",
       "\u001b[36m                      168 rows omitted\u001b[0m"
      ]
     },
     "execution_count": 6,
     "metadata": {},
     "output_type": "execute_result"
    }
   ],
   "source": [
    "drc_loc_only = drc_loc[!, [\"ADM2_FR\", \"POINT_X\", \"POINT_Y\"]]"
   ]
  },
  {
   "cell_type": "code",
   "execution_count": 19,
   "id": "cf708ae3",
   "metadata": {},
   "outputs": [],
   "source": [
    "# Fix name inconsistencies\n",
    "drc_data[drc_data.ADMIN2 .== \"Katako Kombe\", :ADMIN2] .= \"Katako-Kombe\"\n",
    "drc_data[drc_data.ADMIN2 .== \"Oicha\", :ADMIN2] .= \"Oïcha\"\n",
    ";"
   ]
  },
  {
   "cell_type": "code",
   "execution_count": 217,
   "id": "38931472",
   "metadata": {
    "collapsed": true
   },
   "outputs": [
    {
     "data": {
      "text/html": [
       "<div class=\"data-frame\"><p>165 rows × 2 columns</p><table class=\"data-frame\"><thead><tr><th></th><th>ADMIN2</th><th>ivermectin_amt_sum</th></tr><tr><th></th><th title=\"String15\">String15</th><th title=\"Float64\">Float64</th></tr></thead><tbody><tr><th>1</th><td>Bagata</td><td>0.0</td></tr><tr><th>2</th><td>Bandundu</td><td>0.0</td></tr><tr><th>3</th><td>Kenge</td><td>7.42022e6</td></tr><tr><th>4</th><td>Kutu</td><td>0.0</td></tr><tr><th>5</th><td>Bolobo</td><td>0.0</td></tr><tr><th>6</th><td>Oshwe</td><td>0.0</td></tr><tr><th>7</th><td>Bulungu</td><td>2.93974e6</td></tr><tr><th>8</th><td>Feshi</td><td>1.01745e6</td></tr><tr><th>9</th><td>Gungu</td><td>0.0</td></tr><tr><th>10</th><td>Idiofa</td><td>6.48671e6</td></tr><tr><th>11</th><td>Inongo</td><td>0.0</td></tr><tr><th>12</th><td>Kahemba</td><td>0.0</td></tr><tr><th>13</th><td>Kasongo-Lunda</td><td>5.93847e6</td></tr><tr><th>14</th><td>Kikwit</td><td>0.0</td></tr><tr><th>15</th><td>Kiri</td><td>2.28895e6</td></tr><tr><th>16</th><td>Kwamouth</td><td>0.0</td></tr><tr><th>17</th><td>Masi-Manimba</td><td>6.41249e6</td></tr><tr><th>18</th><td>Mushie</td><td>0.0</td></tr><tr><th>19</th><td>Popokabaka</td><td>1.50723e6</td></tr><tr><th>20</th><td>Yumbi</td><td>0.0</td></tr><tr><th>21</th><td>Mbanza-Ngungu</td><td>9.64358e5</td></tr><tr><th>22</th><td>Boma</td><td>0.0</td></tr><tr><th>23</th><td>Moanda</td><td>0.0</td></tr><tr><th>24</th><td>Seke-Banza</td><td>2.26456e6</td></tr><tr><th>25</th><td>Lukula</td><td>0.0</td></tr><tr><th>26</th><td>Luozi</td><td>2.5999e6</td></tr><tr><th>27</th><td>Songololo</td><td>2.76936e6</td></tr><tr><th>28</th><td>Kimvula</td><td>8.10958e5</td></tr><tr><th>29</th><td>Tshela</td><td>0.0</td></tr><tr><th>30</th><td>Madimba</td><td>4.1818e6</td></tr><tr><th>&vellip;</th><td>&vellip;</td><td>&vellip;</td></tr></tbody></table></div>"
      ],
      "text/latex": [
       "\\begin{tabular}{r|cc}\n",
       "\t& ADMIN2 & ivermectin\\_amt\\_sum\\\\\n",
       "\t\\hline\n",
       "\t& String15 & Float64\\\\\n",
       "\t\\hline\n",
       "\t1 & Bagata & 0.0 \\\\\n",
       "\t2 & Bandundu & 0.0 \\\\\n",
       "\t3 & Kenge & 7.42022e6 \\\\\n",
       "\t4 & Kutu & 0.0 \\\\\n",
       "\t5 & Bolobo & 0.0 \\\\\n",
       "\t6 & Oshwe & 0.0 \\\\\n",
       "\t7 & Bulungu & 2.93974e6 \\\\\n",
       "\t8 & Feshi & 1.01745e6 \\\\\n",
       "\t9 & Gungu & 0.0 \\\\\n",
       "\t10 & Idiofa & 6.48671e6 \\\\\n",
       "\t11 & Inongo & 0.0 \\\\\n",
       "\t12 & Kahemba & 0.0 \\\\\n",
       "\t13 & Kasongo-Lunda & 5.93847e6 \\\\\n",
       "\t14 & Kikwit & 0.0 \\\\\n",
       "\t15 & Kiri & 2.28895e6 \\\\\n",
       "\t16 & Kwamouth & 0.0 \\\\\n",
       "\t17 & Masi-Manimba & 6.41249e6 \\\\\n",
       "\t18 & Mushie & 0.0 \\\\\n",
       "\t19 & Popokabaka & 1.50723e6 \\\\\n",
       "\t20 & Yumbi & 0.0 \\\\\n",
       "\t21 & Mbanza-Ngungu & 9.64358e5 \\\\\n",
       "\t22 & Boma & 0.0 \\\\\n",
       "\t23 & Moanda & 0.0 \\\\\n",
       "\t24 & Seke-Banza & 2.26456e6 \\\\\n",
       "\t25 & Lukula & 0.0 \\\\\n",
       "\t26 & Luozi & 2.5999e6 \\\\\n",
       "\t27 & Songololo & 2.76936e6 \\\\\n",
       "\t28 & Kimvula & 8.10958e5 \\\\\n",
       "\t29 & Tshela & 0.0 \\\\\n",
       "\t30 & Madimba & 4.1818e6 \\\\\n",
       "\t$\\dots$ & $\\dots$ & $\\dots$ \\\\\n",
       "\\end{tabular}\n"
      ],
      "text/plain": [
       "\u001b[1m165×2 DataFrame\u001b[0m\n",
       "\u001b[1m Row \u001b[0m│\u001b[1m ADMIN2        \u001b[0m\u001b[1m ivermectin_amt_sum \u001b[0m\n",
       "\u001b[1m     \u001b[0m│\u001b[90m String15      \u001b[0m\u001b[90m Float64            \u001b[0m\n",
       "─────┼───────────────────────────────────\n",
       "   1 │ Bagata                  0.0\n",
       "   2 │ Bandundu                0.0\n",
       "   3 │ Kenge                   7.42022e6\n",
       "   4 │ Kutu                    0.0\n",
       "   5 │ Bolobo                  0.0\n",
       "   6 │ Oshwe                   0.0\n",
       "   7 │ Bulungu                 2.93974e6\n",
       "   8 │ Feshi                   1.01745e6\n",
       "   9 │ Gungu                   0.0\n",
       "  10 │ Idiofa                  6.48671e6\n",
       "  11 │ Inongo                  0.0\n",
       "  ⋮  │       ⋮                ⋮\n",
       " 156 │ Kalehe                  2.7683e6\n",
       " 157 │ Fizi                    0.0\n",
       " 158 │ Uvira                   0.0\n",
       " 159 │ Idjwi                   2.1947e6\n",
       " 160 │ Mwenga                  0.0\n",
       " 161 │ Kabare                  0.0\n",
       " 162 │ Shabunda                0.0\n",
       " 163 │ Walungu                 0.0\n",
       " 164 │ Katako-Kombe            1.12244e6\n",
       " 165 │ Oïcha                   6.81e6\n",
       "\u001b[36m                         144 rows omitted\u001b[0m"
      ]
     },
     "execution_count": 217,
     "metadata": {},
     "output_type": "execute_result"
    }
   ],
   "source": [
    "# Combine locations with same ADMIN2 (district)\n",
    "drc_data_collapsed = combine(groupby(drc_data, :ADMIN2), :ivermectin_amt => sum)"
   ]
  },
  {
   "cell_type": "code",
   "execution_count": 237,
   "id": "8d7cf959",
   "metadata": {
    "collapsed": true
   },
   "outputs": [
    {
     "data": {
      "text/html": [
       "<div class=\"data-frame\"><p>165 rows × 4 columns</p><table class=\"data-frame\"><thead><tr><th></th><th>ADMIN2</th><th>ivermectin_amt_sum</th><th>POINT_X</th><th>POINT_Y</th></tr><tr><th></th><th title=\"String15\">String15</th><th title=\"Float64\">Float64</th><th title=\"Union{Missing, Float64}\">Float64?</th><th title=\"Union{Missing, Float64}\">Float64?</th></tr></thead><tbody><tr><th>1</th><td>Aketi</td><td>2.15457e6</td><td>23.7546</td><td>2.98007</td></tr><tr><th>2</th><td>Ango</td><td>1.69368e6</td><td>26.0726</td><td>4.47187</td></tr><tr><th>3</th><td>Aru</td><td>7.75812e6</td><td>30.5333</td><td>3.06645</td></tr><tr><th>4</th><td>Bafwasende</td><td>2.17604e6</td><td>26.9969</td><td>0.735506</td></tr><tr><th>5</th><td>Bagata</td><td>0.0</td><td>17.7111</td><td>-3.90487</td></tr><tr><th>6</th><td>Bambesa</td><td>1.32259e6</td><td>25.9729</td><td>3.09299</td></tr><tr><th>7</th><td>Banalia</td><td>2.77995e6</td><td>25.4582</td><td>1.58373</td></tr><tr><th>8</th><td>Bandundu</td><td>0.0</td><td>17.4452</td><td>-3.31634</td></tr><tr><th>9</th><td>Basankusu</td><td>3.80677e6</td><td>20.0009</td><td>1.0873</td></tr><tr><th>10</th><td>Basoko</td><td>4.16699e6</td><td>23.9255</td><td>1.5646</td></tr><tr><th>11</th><td>Befale</td><td>2.43585e6</td><td>21.1538</td><td>0.501749</td></tr><tr><th>12</th><td>Beni</td><td>2.09184e6</td><td>29.4555</td><td>0.474898</td></tr><tr><th>13</th><td>Bikoro</td><td>0.0</td><td>18.1866</td><td>-0.810484</td></tr><tr><th>14</th><td>Boende</td><td>3.81074e6</td><td>20.9994</td><td>-0.494641</td></tr><tr><th>15</th><td>Bokungu</td><td>4.77376e6</td><td>22.1968</td><td>-0.852509</td></tr><tr><th>16</th><td>Bolobo</td><td>0.0</td><td>16.3808</td><td>-2.68258</td></tr><tr><th>17</th><td>Bolomba</td><td>4.88789e6</td><td>19.2449</td><td>0.402001</td></tr><tr><th>18</th><td>Boma</td><td>0.0</td><td>13.0535</td><td>-5.81341</td></tr><tr><th>19</th><td>Bomongo</td><td>0.0</td><td>18.5764</td><td>1.66591</td></tr><tr><th>20</th><td>Bondo</td><td>4.11339e6</td><td>24.0986</td><td>4.1946</td></tr><tr><th>21</th><td>Bongandanga</td><td>8.48701e6</td><td>21.1966</td><td>1.57792</td></tr><tr><th>22</th><td>Bosobolo</td><td>7.19176e5</td><td>19.7907</td><td>4.54933</td></tr><tr><th>23</th><td>Budjala</td><td>5.06822e6</td><td>19.9603</td><td>2.53344</td></tr><tr><th>24</th><td>Bukama</td><td>0.0</td><td>26.1279</td><td>-8.84885</td></tr><tr><th>25</th><td>Bukavu</td><td>0.0</td><td>28.8456</td><td>-2.50039</td></tr><tr><th>26</th><td>Bulungu</td><td>2.93974e6</td><td>18.6919</td><td>-4.66163</td></tr><tr><th>27</th><td>Bumba</td><td>7.42416e6</td><td>22.5312</td><td>2.54923</td></tr><tr><th>28</th><td>Businga</td><td>2.65727e6</td><td>20.9304</td><td>3.39307</td></tr><tr><th>29</th><td>Buta</td><td>2.88926e6</td><td>25.172</td><td>2.81775</td></tr><tr><th>30</th><td>Butembo</td><td>4.0777e6</td><td>29.2771</td><td>0.15064</td></tr><tr><th>&vellip;</th><td>&vellip;</td><td>&vellip;</td><td>&vellip;</td><td>&vellip;</td></tr></tbody></table></div>"
      ],
      "text/latex": [
       "\\begin{tabular}{r|cccc}\n",
       "\t& ADMIN2 & ivermectin\\_amt\\_sum & POINT\\_X & POINT\\_Y\\\\\n",
       "\t\\hline\n",
       "\t& String15 & Float64 & Float64? & Float64?\\\\\n",
       "\t\\hline\n",
       "\t1 & Aketi & 2.15457e6 & 23.7546 & 2.98007 \\\\\n",
       "\t2 & Ango & 1.69368e6 & 26.0726 & 4.47187 \\\\\n",
       "\t3 & Aru & 7.75812e6 & 30.5333 & 3.06645 \\\\\n",
       "\t4 & Bafwasende & 2.17604e6 & 26.9969 & 0.735506 \\\\\n",
       "\t5 & Bagata & 0.0 & 17.7111 & -3.90487 \\\\\n",
       "\t6 & Bambesa & 1.32259e6 & 25.9729 & 3.09299 \\\\\n",
       "\t7 & Banalia & 2.77995e6 & 25.4582 & 1.58373 \\\\\n",
       "\t8 & Bandundu & 0.0 & 17.4452 & -3.31634 \\\\\n",
       "\t9 & Basankusu & 3.80677e6 & 20.0009 & 1.0873 \\\\\n",
       "\t10 & Basoko & 4.16699e6 & 23.9255 & 1.5646 \\\\\n",
       "\t11 & Befale & 2.43585e6 & 21.1538 & 0.501749 \\\\\n",
       "\t12 & Beni & 2.09184e6 & 29.4555 & 0.474898 \\\\\n",
       "\t13 & Bikoro & 0.0 & 18.1866 & -0.810484 \\\\\n",
       "\t14 & Boende & 3.81074e6 & 20.9994 & -0.494641 \\\\\n",
       "\t15 & Bokungu & 4.77376e6 & 22.1968 & -0.852509 \\\\\n",
       "\t16 & Bolobo & 0.0 & 16.3808 & -2.68258 \\\\\n",
       "\t17 & Bolomba & 4.88789e6 & 19.2449 & 0.402001 \\\\\n",
       "\t18 & Boma & 0.0 & 13.0535 & -5.81341 \\\\\n",
       "\t19 & Bomongo & 0.0 & 18.5764 & 1.66591 \\\\\n",
       "\t20 & Bondo & 4.11339e6 & 24.0986 & 4.1946 \\\\\n",
       "\t21 & Bongandanga & 8.48701e6 & 21.1966 & 1.57792 \\\\\n",
       "\t22 & Bosobolo & 7.19176e5 & 19.7907 & 4.54933 \\\\\n",
       "\t23 & Budjala & 5.06822e6 & 19.9603 & 2.53344 \\\\\n",
       "\t24 & Bukama & 0.0 & 26.1279 & -8.84885 \\\\\n",
       "\t25 & Bukavu & 0.0 & 28.8456 & -2.50039 \\\\\n",
       "\t26 & Bulungu & 2.93974e6 & 18.6919 & -4.66163 \\\\\n",
       "\t27 & Bumba & 7.42416e6 & 22.5312 & 2.54923 \\\\\n",
       "\t28 & Businga & 2.65727e6 & 20.9304 & 3.39307 \\\\\n",
       "\t29 & Buta & 2.88926e6 & 25.172 & 2.81775 \\\\\n",
       "\t30 & Butembo & 4.0777e6 & 29.2771 & 0.15064 \\\\\n",
       "\t$\\dots$ & $\\dots$ & $\\dots$ & $\\dots$ & $\\dots$ \\\\\n",
       "\\end{tabular}\n"
      ],
      "text/plain": [
       "\u001b[1m165×4 DataFrame\u001b[0m\n",
       "\u001b[1m Row \u001b[0m│\u001b[1m ADMIN2     \u001b[0m\u001b[1m ivermectin_amt_sum \u001b[0m\u001b[1m POINT_X  \u001b[0m\u001b[1m POINT_Y   \u001b[0m\n",
       "\u001b[1m     \u001b[0m│\u001b[90m String15   \u001b[0m\u001b[90m Float64            \u001b[0m\u001b[90m Float64? \u001b[0m\u001b[90m Float64?  \u001b[0m\n",
       "─────┼─────────────────────────────────────────────────────\n",
       "   1 │ Aketi                2.15457e6   23.7546   2.98007\n",
       "   2 │ Ango                 1.69368e6   26.0726   4.47187\n",
       "   3 │ Aru                  7.75812e6   30.5333   3.06645\n",
       "   4 │ Bafwasende           2.17604e6   26.9969   0.735506\n",
       "   5 │ Bagata               0.0         17.7111  -3.90487\n",
       "   6 │ Bambesa              1.32259e6   25.9729   3.09299\n",
       "   7 │ Banalia              2.77995e6   25.4582   1.58373\n",
       "   8 │ Bandundu             0.0         17.4452  -3.31634\n",
       "   9 │ Basankusu            3.80677e6   20.0009   1.0873\n",
       "  10 │ Basoko               4.16699e6   23.9255   1.5646\n",
       "  11 │ Befale               2.43585e6   21.1538   0.501749\n",
       "  ⋮  │     ⋮               ⋮              ⋮          ⋮\n",
       " 156 │ Ubundu               3.3568e6    25.5697  -0.548076\n",
       " 157 │ Uvira                0.0         29.0146  -3.21468\n",
       " 158 │ Walikale             6.37066e6   28.1636  -1.11856\n",
       " 159 │ Walungu              0.0         28.6799  -2.72565\n",
       " 160 │ Wamba                4.01174e6   27.8389   2.10723\n",
       " 161 │ Watsa                2.76276e6   29.2529   2.97478\n",
       " 162 │ Yahuma               2.14943e6   23.1432   0.841036\n",
       " 163 │ Yakoma               3.45465e6   22.2295   3.643\n",
       " 164 │ Yumbi                0.0         16.52    -2.10559\n",
       " 165 │ Zongo                8.03329e5   18.6983   4.21969\n",
       "\u001b[36m                                           144 rows omitted\u001b[0m"
      ]
     },
     "execution_count": 237,
     "metadata": {},
     "output_type": "execute_result"
    }
   ],
   "source": [
    "# Data join!\n",
    "drc_data_combined = leftjoin(drc_data_collapsed, drc_loc_only, on = \"ADMIN2\" => \"ADM2_FR\")"
   ]
  },
  {
   "cell_type": "code",
   "execution_count": 219,
   "id": "68ca0694",
   "metadata": {
    "collapsed": true
   },
   "outputs": [
    {
     "data": {
      "text/html": [
       "<div class=\"data-frame\"><p>0 rows × 4 columns</p><table class=\"data-frame\"><thead><tr><th></th><th>ADMIN2</th><th>ivermectin_amt_sum</th><th>POINT_X</th><th>POINT_Y</th></tr><tr><th></th><th title=\"String15\">String15</th><th title=\"Float64\">Float64</th><th title=\"Union{Missing, Float64}\">Float64?</th><th title=\"Union{Missing, Float64}\">Float64?</th></tr></thead><tbody></tbody></table></div>"
      ],
      "text/latex": [
       "\\begin{tabular}{r|cccc}\n",
       "\t& ADMIN2 & ivermectin\\_amt\\_sum & POINT\\_X & POINT\\_Y\\\\\n",
       "\t\\hline\n",
       "\t& String15 & Float64 & Float64? & Float64?\\\\\n",
       "\t\\hline\n",
       "\\end{tabular}\n"
      ],
      "text/plain": [
       "\u001b[1m0×4 DataFrame\u001b[0m"
      ]
     },
     "execution_count": 219,
     "metadata": {},
     "output_type": "execute_result"
    }
   ],
   "source": [
    "# Look for missing data\n",
    "filter(row -> ismissing(row.\"POINT_X\"), drc_data_combined)"
   ]
  },
  {
   "cell_type": "code",
   "execution_count": 10,
   "id": "d6facb61",
   "metadata": {},
   "outputs": [],
   "source": [
    "# Used this to find some naming inconsistencies between the two dataframes\n",
    "# filter(name -> startswith(name, \"O\"), drc_loc_only.\"ADM2_FR\")"
   ]
  },
  {
   "cell_type": "code",
   "execution_count": 238,
   "id": "b6014dcb",
   "metadata": {},
   "outputs": [
    {
     "data": {
      "text/plain": [
       "(128, 4)"
      ]
     },
     "execution_count": 238,
     "metadata": {},
     "output_type": "execute_result"
    }
   ],
   "source": [
    "filter!(row -> row.ivermectin_amt_sum > 0, drc_data_combined)\n",
    "size(drc_data_combined)"
   ]
  },
  {
   "cell_type": "markdown",
   "id": "e97f3569",
   "metadata": {},
   "source": [
    "data processing above\n",
    "\n",
    "---\n",
    "\n",
    "model below"
   ]
  },
  {
   "cell_type": "code",
   "execution_count": 244,
   "id": "b394c76c",
   "metadata": {},
   "outputs": [],
   "source": [
    "drc_data_combined = drc_data_combined[1:20, :];"
   ]
  },
  {
   "cell_type": "code",
   "execution_count": 245,
   "id": "2f722a43",
   "metadata": {},
   "outputs": [
    {
     "data": {
      "text/plain": [
       "80"
      ]
     },
     "execution_count": 245,
     "metadata": {},
     "output_type": "execute_result"
    }
   ],
   "source": [
    "# Back to regular column width\n",
    "ENV[\"COLUMNS\"] = 80"
   ]
  },
  {
   "cell_type": "code",
   "execution_count": 246,
   "id": "e97afb9e",
   "metadata": {},
   "outputs": [
    {
     "data": {
      "text/plain": [
       "distance (generic function with 1 method)"
      ]
     },
     "execution_count": 246,
     "metadata": {},
     "output_type": "execute_result"
    }
   ],
   "source": [
    "# May consider changing to great circle distance\n",
    "function distance(x1, y1, x2, y2)\n",
    "    sqrt((x1 - x2)^2 + (y1 - y2)^2)\n",
    "end"
   ]
  },
  {
   "cell_type": "code",
   "execution_count": 275,
   "id": "c36bae9e",
   "metadata": {},
   "outputs": [],
   "source": [
    "num_counties = length(drc_data_combined.\"ADMIN2\")\n",
    "num_vehicles = 6\n",
    "max_capacity = 2e7 # some viable constraint on the max number of mg that one vehicle can carry\n",
    "batch_amt = 1e8\n",
    "\n",
    "drc_loc_x = drc_data_combined[!, \"POINT_X\"]\n",
    "drc_loc_y = drc_data_combined[!, \"POINT_Y\"]\n",
    "drc_dists = [distance(drc_loc_x[i], drc_loc_y[i], drc_loc_x[j], drc_loc_y[j])\n",
    "    for i=1:num_counties, j=1:num_counties]\n",
    "\n",
    "drc_dosage = drc_data_combined[!, \"ivermectin_amt_sum\"]\n",
    "\n",
    "\n",
    "## MODEL START\n",
    "\n",
    "m = Model(() -> Gurobi.Optimizer(GRB_ENV))\n",
    "\n",
    "# variables\n",
    "\n",
    "# path from i->j in service\n",
    "@variable(m, s_ij[i=1:num_counties, j=1:num_counties], Bin)\n",
    "\n",
    "# vehicle n services location i\n",
    "@variable(m, v_in[i=1:num_counties, n=1:num_vehicles], Bin)\n",
    "\n",
    "# location i is our chosen central hub\n",
    "@variable(m, c_i[i=1:num_counties], Bin)\n",
    "\n",
    "# vehicle n ends up at location i\n",
    "@variable(m, e_in[i=1:num_counties, n=1:num_vehicles], Bin)\n",
    "\n",
    "# amount of ivermectin remaining before vehicle n delivers to location i\n",
    "@variable(m, d_in[i=1:num_counties, n=1:num_vehicles] >= 0)\n",
    "\n",
    "\n",
    "# constraints\n",
    "\n",
    "# vehicle doesn't explode\n",
    "@constraint(m, [n=1:num_vehicles], sum(d_in[:, n] .* c_i) <= max_capacity)\n",
    "\n",
    "# self-loops are not allowed\n",
    "@constraint(m, [i=1:num_counties], s_ij[i, i] == 0)\n",
    "\n",
    "# exactly one central hub\n",
    "@constraint(m, sum(c_i) == 1)\n",
    "\n",
    "# exactly one ending location per vehicle\n",
    "@constraint(m, [n=1:num_vehicles], sum(e_in[:, n]) == 1)\n",
    "\n",
    "# nodes in service graph have outdegree == indegree, except for central hub and\n",
    "# ending locations\n",
    "@constraint(m, [i=1:num_counties],\n",
    "    sum(s_ij[i, :]) - sum(s_ij[:, i]) == c_i[i] * num_vehicles - sum(e_in[i, :]))\n",
    "\n",
    "# additionally force indegree <= 1, except for central hub force indegree <= 0\n",
    "@constraint(m, [i=1:num_counties], sum(s_ij[:, i]) <= 1 - c_i[i])\n",
    "\n",
    "# if vehicle n serviced location i, then there must be some incoming edge from a location\n",
    "# also serviced by vehicle n UNLESS i is central hub\n",
    "@constraint(m, [i=1:num_counties, n=1:num_vehicles],\n",
    "    sum(s_ij[:, i] .* v_in[:, n]) >= v_in[i, n] * (1 - c_i[i]))\n",
    "\n",
    "# # no two vehicles visit the same location UNLESS it's the central hub\n",
    "@constraint(m, [i=1:num_counties, n=1:num_vehicles, n2=1:num_vehicles; n2 != n],\n",
    "    v_in[i, n] + v_in[i, n2] <= 1 + c_i[i])\n",
    "\n",
    "# ivermectin is only delivered to location i if vehicle n services it\n",
    "@constraint(m, [i=1:num_counties, n=1:num_vehicles], d_in[i, n] <= v_in[i, n] * max_capacity)\n",
    "\n",
    "# total ivermectin delivered to any location is at most the amount required\n",
    "@constraint(m, [i=1:num_counties],\n",
    "    0 <= sum(d_in[i, :]) - sum(d_in .* s_ij[i, :]) <= drc_dosage[i])\n",
    "\n",
    "# total ivermectin delivered to END location is at most the amount required\n",
    "@constraint(m, [i=1:num_counties],\n",
    "    sum(d_in[i, :] .* e_in[i, :]) <= drc_dosage[i])\n",
    "\n",
    "# all ivermectin should be delivered\n",
    "@constraint(m, sum(d_in .* c_i) == batch_amt)\n",
    "\n",
    "\n",
    "# objective\n",
    "\n",
    "# minimize total travel distance\n",
    "@objective(m, Min, sum(s_ij .* drc_dists))\n",
    ";"
   ]
  },
  {
   "cell_type": "code",
   "execution_count": null,
   "id": "202808e7",
   "metadata": {},
   "outputs": [],
   "source": [
    "optimize!(m)"
   ]
  },
  {
   "cell_type": "code",
   "execution_count": 274,
   "id": "1ec48abd",
   "metadata": {},
   "outputs": [
    {
     "data": {
      "image/svg+xml": [
       "<?xml version=\"1.0\" encoding=\"utf-8\"?>\n",
       "<svg xmlns=\"http://www.w3.org/2000/svg\" xmlns:xlink=\"http://www.w3.org/1999/xlink\" width=\"600\" height=\"400\" viewBox=\"0 0 2400 1600\">\n",
       "<defs>\n",
       "  <clipPath id=\"clip610\">\n",
       "    <rect x=\"0\" y=\"0\" width=\"2400\" height=\"1600\"/>\n",
       "  </clipPath>\n",
       "</defs>\n",
       "<path clip-path=\"url(#clip610)\" d=\"\n",
       "M0 1600 L2400 1600 L2400 0 L0 0  Z\n",
       "  \" fill=\"#ffffff\" fill-rule=\"evenodd\" fill-opacity=\"1\"/>\n",
       "<defs>\n",
       "  <clipPath id=\"clip611\">\n",
       "    <rect x=\"480\" y=\"0\" width=\"1681\" height=\"1600\"/>\n",
       "  </clipPath>\n",
       "</defs>\n",
       "<path clip-path=\"url(#clip610)\" d=\"\n",
       "M447.244 1552.76 L1952.76 1552.76 L1952.76 47.2441 L447.244 47.2441  Z\n",
       "  \" fill=\"#ffffff\" fill-rule=\"evenodd\" fill-opacity=\"1\"/>\n",
       "<defs>\n",
       "  <clipPath id=\"clip612\">\n",
       "    <rect x=\"447\" y=\"47\" width=\"1507\" height=\"1507\"/>\n",
       "  </clipPath>\n",
       "</defs>\n",
       "<polyline clip-path=\"url(#clip612)\" style=\"stroke:#000000; stroke-linecap:butt; stroke-linejoin:round; stroke-width:4; stroke-opacity:1; fill:none\" points=\"\n",
       "  757.763,965.649 757.909,969.889 758.05,974.121 758.178,978.337 758.289,982.529 758.376,986.688 758.434,990.807 758.456,994.877 758.436,998.89 758.37,1002.84 \n",
       "  758.25,1006.71 758.072,1010.51 757.828,1014.21 757.513,1017.82 757.122,1021.33 756.648,1024.72 756.085,1027.99 755.428,1031.12 754.671,1034.13 753.807,1036.98 \n",
       "  752.831,1039.68 751.736,1042.22 750.518,1044.59 749.17,1046.78 747.686,1048.79 746.06,1050.6 744.293,1052.22 742.39,1053.65 740.357,1054.9 738.2,1055.98 \n",
       "  735.925,1056.91 733.538,1057.67 731.044,1058.29 728.45,1058.78 725.762,1059.13 722.985,1059.36 720.125,1059.48 717.188,1059.5 714.181,1059.42 711.108,1059.24 \n",
       "  707.977,1058.99 704.792,1058.66 701.56,1058.27 698.287,1057.83 694.978,1057.33 691.64,1056.79 688.278,1056.22 684.898,1055.63 681.507,1055.02 678.11,1054.4 \n",
       "  \n",
       "  \"/>\n",
       "<polyline clip-path=\"url(#clip612)\" style=\"stroke:#000000; stroke-linecap:butt; stroke-linejoin:round; stroke-width:4; stroke-opacity:1; fill:none\" points=\"\n",
       "  710.311,1078.55 678.11,1054.4 716.748,1043.13 \n",
       "  \"/>\n",
       "<polyline clip-path=\"url(#clip612)\" style=\"stroke:#000000; stroke-linecap:butt; stroke-linejoin:round; stroke-width:4; stroke-opacity:1; fill:none\" points=\"\n",
       "  678.11,1054.4 681.507,1055.02 \n",
       "  \"/>\n",
       "<polyline clip-path=\"url(#clip612)\" style=\"stroke:#000000; stroke-linecap:butt; stroke-linejoin:round; stroke-width:4; stroke-opacity:1; fill:none\" points=\"\n",
       "  985.649,1019.07 984.772,1023.31 983.902,1027.53 983.047,1031.75 982.215,1035.94 981.412,1040.1 980.646,1044.23 979.925,1048.32 979.256,1052.36 978.646,1056.35 \n",
       "  978.103,1060.27 977.635,1064.13 977.249,1067.91 976.951,1071.61 976.751,1075.22 976.654,1078.73 976.669,1082.14 976.803,1085.44 977.063,1088.63 977.457,1091.69 \n",
       "  977.993,1094.62 978.677,1097.41 979.517,1100.06 980.521,1102.56 981.696,1104.9 983.049,1107.08 984.58,1109.09 986.282,1110.95 988.148,1112.65 990.17,1114.21 \n",
       "  992.34,1115.63 994.652,1116.93 997.098,1118.1 999.67,1119.15 1002.36,1120.09 1005.16,1120.93 1008.07,1121.68 1011.07,1122.33 1014.17,1122.91 1017.34,1123.4 \n",
       "  1020.59,1123.83 1023.9,1124.2 1027.28,1124.51 1030.71,1124.78 1034.18,1125 1037.69,1125.19 1041.23,1125.35 1044.79,1125.49 1048.36,1125.62 1051.95,1125.74 \n",
       "  \n",
       "  \"/>\n",
       "<polyline clip-path=\"url(#clip612)\" style=\"stroke:#000000; stroke-linecap:butt; stroke-linejoin:round; stroke-width:4; stroke-opacity:1; fill:none\" points=\"\n",
       "  1016.57,1106.54 1051.95,1125.74 1015.36,1142.52 \n",
       "  \"/>\n",
       "<polyline clip-path=\"url(#clip612)\" style=\"stroke:#000000; stroke-linecap:butt; stroke-linejoin:round; stroke-width:4; stroke-opacity:1; fill:none\" points=\"\n",
       "  1051.95,1125.74 1048.36,1125.62 \n",
       "  \"/>\n",
       "<polyline clip-path=\"url(#clip612)\" style=\"stroke:#000000; stroke-linecap:butt; stroke-linejoin:round; stroke-width:4; stroke-opacity:1; fill:none\" points=\"\n",
       "  1066.05,1129.74 1063.25,1133.02 1060.46,1136.3 1057.69,1139.57 1054.94,1142.83 1052.24,1146.09 1049.59,1149.33 1046.99,1152.55 1044.46,1155.76 1042.02,1158.95 \n",
       "  1039.66,1162.12 1037.39,1165.27 1035.24,1168.38 1033.2,1171.47 1031.29,1174.53 1029.52,1177.55 1027.9,1180.53 1026.43,1183.48 1025.13,1186.38 1024.01,1189.24 \n",
       "  1023.07,1192.06 1022.33,1194.82 1021.79,1197.53 1021.47,1200.19 1021.38,1202.79 1021.52,1205.34 1021.89,1207.82 1022.49,1210.25 1023.31,1212.63 1024.33,1214.95 \n",
       "  1025.55,1217.23 1026.96,1219.46 1028.54,1221.64 1030.29,1223.78 1032.2,1225.89 1034.25,1227.95 1036.44,1229.99 1038.76,1231.99 1041.19,1233.96 1043.74,1235.9 \n",
       "  1046.38,1237.82 1049.11,1239.72 1051.91,1241.6 1054.79,1243.46 1057.73,1245.31 1060.71,1247.14 1063.74,1248.97 1066.79,1250.79 1069.86,1252.6 1072.94,1254.41 \n",
       "  \n",
       "  \"/>\n",
       "<polyline clip-path=\"url(#clip612)\" style=\"stroke:#000000; stroke-linecap:butt; stroke-linejoin:round; stroke-width:4; stroke-opacity:1; fill:none\" points=\"\n",
       "  1051.01,1220.66 1072.94,1254.41 1032.79,1251.7 \n",
       "  \"/>\n",
       "<polyline clip-path=\"url(#clip612)\" style=\"stroke:#000000; stroke-linecap:butt; stroke-linejoin:round; stroke-width:4; stroke-opacity:1; fill:none\" points=\"\n",
       "  1072.94,1254.41 1069.86,1252.6 \n",
       "  \"/>\n",
       "<polyline clip-path=\"url(#clip612)\" style=\"stroke:#000000; stroke-linecap:butt; stroke-linejoin:round; stroke-width:4; stroke-opacity:1; fill:none\" points=\"\n",
       "  890.044,905.332 885.899,903.714 881.759,902.105 877.631,900.513 873.518,898.946 869.426,897.414 865.362,895.924 861.329,894.485 857.334,893.106 853.382,891.795 \n",
       "  849.478,890.561 845.628,889.413 841.837,888.358 838.109,887.405 834.452,886.564 830.869,885.842 827.367,885.248 823.95,884.79 820.624,884.477 817.395,884.318 \n",
       "  814.267,884.321 811.247,884.494 808.339,884.847 805.549,885.387 802.882,886.124 800.343,887.065 797.932,888.21 795.645,889.551 793.475,891.08 791.418,892.789 \n",
       "  789.468,894.668 787.62,896.708 785.868,898.903 784.207,901.242 782.632,903.718 781.137,906.322 779.717,909.046 778.366,911.88 777.08,914.816 775.853,917.847 \n",
       "  774.679,920.962 773.554,924.155 772.471,927.416 771.426,930.736 770.413,934.108 769.427,937.522 768.462,940.97 767.513,944.444 766.575,947.935 765.642,951.435 \n",
       "  \n",
       "  \"/>\n",
       "<polyline clip-path=\"url(#clip612)\" style=\"stroke:#000000; stroke-linecap:butt; stroke-linejoin:round; stroke-width:4; stroke-opacity:1; fill:none\" points=\"\n",
       "  792.306,921.285 765.642,951.435 757.521,912.013 \n",
       "  \"/>\n",
       "<polyline clip-path=\"url(#clip612)\" style=\"stroke:#000000; stroke-linecap:butt; stroke-linejoin:round; stroke-width:4; stroke-opacity:1; fill:none\" points=\"\n",
       "  765.642,951.435 766.575,947.935 \n",
       "  \"/>\n",
       "<polyline clip-path=\"url(#clip612)\" style=\"stroke:#000000; stroke-linecap:butt; stroke-linejoin:round; stroke-width:4; stroke-opacity:1; fill:none\" points=\"\n",
       "  890.044,905.332 894.524,905.681 898.996,906.036 903.45,906.402 907.88,906.784 912.275,907.19 916.627,907.623 920.929,908.09 925.171,908.596 929.346,909.147 \n",
       "  933.443,909.748 937.456,910.406 941.375,911.125 945.192,911.911 948.899,912.771 952.486,913.709 955.946,914.731 959.27,915.842 962.45,917.049 965.476,918.357 \n",
       "  968.341,919.772 971.036,921.299 973.552,922.943 975.881,924.711 978.015,926.608 979.945,928.639 981.672,930.805 983.202,933.099 984.546,935.517 985.711,938.053 \n",
       "  986.707,940.7 987.54,943.455 988.221,946.31 988.757,949.261 989.157,952.301 989.43,955.425 989.583,958.628 989.627,961.904 989.568,965.247 989.415,968.652 \n",
       "  989.178,972.113 988.863,975.624 988.481,979.181 988.04,982.776 987.547,986.405 987.012,990.062 986.443,993.742 985.849,997.438 985.237,1001.15 984.617,1004.86 \n",
       "  \n",
       "  \"/>\n",
       "<polyline clip-path=\"url(#clip612)\" style=\"stroke:#000000; stroke-linecap:butt; stroke-linejoin:round; stroke-width:4; stroke-opacity:1; fill:none\" points=\"\n",
       "  1008.3,972.316 984.617,1004.86 972.792,966.386 \n",
       "  \"/>\n",
       "<polyline clip-path=\"url(#clip612)\" style=\"stroke:#000000; stroke-linecap:butt; stroke-linejoin:round; stroke-width:4; stroke-opacity:1; fill:none\" points=\"\n",
       "  984.617,1004.86 985.237,1001.15 \n",
       "  \"/>\n",
       "<polyline clip-path=\"url(#clip612)\" style=\"stroke:#000000; stroke-linecap:butt; stroke-linejoin:round; stroke-width:4; stroke-opacity:1; fill:none\" points=\"\n",
       "  890.044,905.332 885.581,904.414 881.127,903.492 876.691,902.56 872.283,901.614 867.911,900.65 863.584,899.663 859.312,898.648 855.104,897.6 850.968,896.516 \n",
       "  846.915,895.389 842.952,894.217 839.089,892.994 835.335,891.715 831.7,890.376 828.192,888.972 824.82,887.499 821.594,885.952 818.522,884.326 815.614,882.617 \n",
       "  812.879,880.82 810.326,878.93 807.963,876.943 805.801,874.854 803.848,872.659 802.112,870.353 800.595,867.937 799.287,865.413 798.178,862.788 797.261,860.066 \n",
       "  796.526,857.252 795.963,854.349 795.564,851.363 795.32,848.298 795.221,845.16 795.258,841.952 795.423,838.679 795.706,835.346 796.098,831.957 796.59,828.518 \n",
       "  797.173,825.032 797.838,821.505 798.576,817.94 799.377,814.344 800.233,810.719 801.135,807.072 802.072,803.405 803.037,799.725 804.021,796.036 805.013,792.342 \n",
       "  \n",
       "  \"/>\n",
       "<polyline clip-path=\"url(#clip612)\" style=\"stroke:#000000; stroke-linecap:butt; stroke-linejoin:round; stroke-width:4; stroke-opacity:1; fill:none\" points=\"\n",
       "  778.29,822.44 805.013,792.342 813.057,831.779 \n",
       "  \"/>\n",
       "<polyline clip-path=\"url(#clip612)\" style=\"stroke:#000000; stroke-linecap:butt; stroke-linejoin:round; stroke-width:4; stroke-opacity:1; fill:none\" points=\"\n",
       "  805.013,792.342 804.021,796.036 \n",
       "  \"/>\n",
       "<polyline clip-path=\"url(#clip612)\" style=\"stroke:#000000; stroke-linecap:butt; stroke-linejoin:round; stroke-width:4; stroke-opacity:1; fill:none\" points=\"\n",
       "  890.044,905.332 894.56,905.307 899.067,905.276 903.559,905.232 908.026,905.17 912.462,905.082 916.857,904.964 921.203,904.808 925.494,904.608 929.72,904.359 \n",
       "  933.873,904.053 937.946,903.685 941.93,903.249 945.818,902.737 949.601,902.145 953.271,901.465 956.821,900.692 960.241,899.819 963.525,898.84 966.664,897.749 \n",
       "  969.65,896.539 972.475,895.205 975.13,893.74 977.609,892.137 979.902,890.392 982.003,888.496 983.91,886.452 985.632,884.264 987.178,881.939 988.554,879.483 \n",
       "  989.769,876.902 990.83,874.203 991.748,871.392 992.528,868.474 993.179,865.457 993.709,862.346 994.127,859.148 994.44,855.869 994.657,852.516 994.785,849.093 \n",
       "  994.832,845.608 994.807,842.067 994.718,838.477 994.572,834.842 994.377,831.171 994.143,827.468 993.876,823.74 993.585,819.993 993.279,816.234 992.964,812.469 \n",
       "  \n",
       "  \"/>\n",
       "<polyline clip-path=\"url(#clip612)\" style=\"stroke:#000000; stroke-linecap:butt; stroke-linejoin:round; stroke-width:4; stroke-opacity:1; fill:none\" points=\"\n",
       "  978.027,849.844 992.964,812.469 1013.9,846.843 \n",
       "  \"/>\n",
       "<polyline clip-path=\"url(#clip612)\" style=\"stroke:#000000; stroke-linecap:butt; stroke-linejoin:round; stroke-width:4; stroke-opacity:1; fill:none\" points=\"\n",
       "  992.964,812.469 993.279,816.234 \n",
       "  \"/>\n",
       "<path clip-path=\"url(#clip612)\" d=\"\n",
       "M1674.75 992.671 L1666.54 978.456 L1650.13 978.456 L1641.92 992.671 L1650.13 1006.89 L1666.54 1006.89 L1674.75 992.671 L1674.75 992.671  Z\n",
       "  \" fill=\"#009af9\" fill-rule=\"evenodd\" fill-opacity=\"1\"/>\n",
       "<polyline clip-path=\"url(#clip612)\" style=\"stroke:#000000; stroke-linecap:butt; stroke-linejoin:round; stroke-width:4; stroke-opacity:1; fill:none\" points=\"\n",
       "  1674.75,992.671 1666.54,978.456 1650.13,978.456 1641.92,992.671 1650.13,1006.89 1666.54,1006.89 1674.75,992.671 \n",
       "  \"/>\n",
       "<path clip-path=\"url(#clip612)\" d=\"\n",
       "M1596.45 1178.15 L1588.25 1163.94 L1571.83 1163.94 L1563.62 1178.15 L1571.83 1192.37 L1588.25 1192.37 L1596.45 1178.15 L1596.45 1178.15  Z\n",
       "  \" fill=\"#009af9\" fill-rule=\"evenodd\" fill-opacity=\"1\"/>\n",
       "<polyline clip-path=\"url(#clip612)\" style=\"stroke:#000000; stroke-linecap:butt; stroke-linejoin:round; stroke-width:4; stroke-opacity:1; fill:none\" points=\"\n",
       "  1596.45,1178.15 1588.25,1163.94 1571.83,1163.94 1563.62,1178.15 1571.83,1192.37 1588.25,1192.37 1596.45,1178.15 \n",
       "  \"/>\n",
       "<path clip-path=\"url(#clip612)\" d=\"\n",
       "M727.41 422.707 L719.203 408.493 L702.79 408.493 L694.583 422.707 L702.79 436.922 L719.203 436.922 L727.41 422.707 L727.41 422.707  Z\n",
       "  \" fill=\"#009af9\" fill-rule=\"evenodd\" fill-opacity=\"1\"/>\n",
       "<polyline clip-path=\"url(#clip612)\" style=\"stroke:#000000; stroke-linecap:butt; stroke-linejoin:round; stroke-width:4; stroke-opacity:1; fill:none\" points=\"\n",
       "  727.41,422.707 719.203,408.493 702.79,408.493 694.583,422.707 702.79,436.922 719.203,436.922 727.41,422.707 \n",
       "  \"/>\n",
       "<path clip-path=\"url(#clip612)\" d=\"\n",
       "M1444.41 634.772 L1436.2 620.557 L1419.79 620.557 L1411.58 634.772 L1419.79 648.986 L1436.2 648.986 L1444.41 634.772 L1444.41 634.772  Z\n",
       "  \" fill=\"#009af9\" fill-rule=\"evenodd\" fill-opacity=\"1\"/>\n",
       "<polyline clip-path=\"url(#clip612)\" style=\"stroke:#000000; stroke-linecap:butt; stroke-linejoin:round; stroke-width:4; stroke-opacity:1; fill:none\" points=\"\n",
       "  1444.41,634.772 1436.2,620.557 1419.79,620.557 1411.58,634.772 1419.79,648.986 1436.2,648.986 1444.41,634.772 \n",
       "  \"/>\n",
       "<path clip-path=\"url(#clip612)\" d=\"\n",
       "M1356.45 276.309 L1348.24 262.095 L1331.83 262.095 L1323.62 276.309 L1331.83 290.524 L1348.24 290.524 L1356.45 276.309 L1356.45 276.309  Z\n",
       "  \" fill=\"#009af9\" fill-rule=\"evenodd\" fill-opacity=\"1\"/>\n",
       "<polyline clip-path=\"url(#clip612)\" style=\"stroke:#000000; stroke-linecap:butt; stroke-linejoin:round; stroke-width:4; stroke-opacity:1; fill:none\" points=\"\n",
       "  1356.45,276.309 1348.24,262.095 1331.83,262.095 1323.62,276.309 1331.83,290.524 1348.24,290.524 1356.45,276.309 \n",
       "  \"/>\n",
       "<path clip-path=\"url(#clip612)\" d=\"\n",
       "M1754.1 804.904 L1745.89 790.69 L1729.48 790.69 L1721.27 804.904 L1729.48 819.119 L1745.89 819.119 L1754.1 804.904 L1754.1 804.904  Z\n",
       "  \" fill=\"#009af9\" fill-rule=\"evenodd\" fill-opacity=\"1\"/>\n",
       "<polyline clip-path=\"url(#clip612)\" style=\"stroke:#000000; stroke-linecap:butt; stroke-linejoin:round; stroke-width:4; stroke-opacity:1; fill:none\" points=\"\n",
       "  1754.1,804.904 1745.89,790.69 1729.48,790.69 1721.27,804.904 1729.48,819.119 1745.89,819.119 1754.1,804.904 \n",
       "  \"/>\n",
       "<path clip-path=\"url(#clip612)\" d=\"\n",
       "M774.177 965.649 L765.97 951.435 L749.557 951.435 L741.35 965.649 L749.557 979.864 L765.97 979.864 L774.177 965.649 L774.177 965.649  Z\n",
       "  \" fill=\"#009af9\" fill-rule=\"evenodd\" fill-opacity=\"1\"/>\n",
       "<polyline clip-path=\"url(#clip612)\" style=\"stroke:#000000; stroke-linecap:butt; stroke-linejoin:round; stroke-width:4; stroke-opacity:1; fill:none\" points=\"\n",
       "  774.177,965.649 765.97,951.435 749.557,951.435 741.35,965.649 749.557,979.864 765.97,979.864 774.177,965.649 \n",
       "  \"/>\n",
       "<path clip-path=\"url(#clip612)\" d=\"\n",
       "M1563.18 368.547 L1554.97 354.332 L1538.56 354.332 L1530.35 368.547 L1538.56 382.761 L1554.97 382.761 L1563.18 368.547 L1563.18 368.547  Z\n",
       "  \" fill=\"#009af9\" fill-rule=\"evenodd\" fill-opacity=\"1\"/>\n",
       "<polyline clip-path=\"url(#clip612)\" style=\"stroke:#000000; stroke-linecap:butt; stroke-linejoin:round; stroke-width:4; stroke-opacity:1; fill:none\" points=\"\n",
       "  1563.18,368.547 1554.97,354.332 1538.56,354.332 1530.35,368.547 1538.56,382.761 1554.97,382.761 1563.18,368.547 \n",
       "  \"/>\n",
       "<path clip-path=\"url(#clip612)\" d=\"\n",
       "M1002.06 1019.07 L993.856 1004.86 L977.443 1004.86 L969.236 1019.07 L977.443 1033.29 L993.856 1033.29 L1002.06 1019.07 L1002.06 1019.07  Z\n",
       "  \" fill=\"#009af9\" fill-rule=\"evenodd\" fill-opacity=\"1\"/>\n",
       "<polyline clip-path=\"url(#clip612)\" style=\"stroke:#000000; stroke-linecap:butt; stroke-linejoin:round; stroke-width:4; stroke-opacity:1; fill:none\" points=\"\n",
       "  1002.06,1019.07 993.856,1004.86 977.443,1004.86 969.236,1019.07 977.443,1033.29 993.856,1033.29 1002.06,1019.07 \n",
       "  \"/>\n",
       "<path clip-path=\"url(#clip612)\" d=\"\n",
       "M1150.95 262.317 L1142.74 248.103 L1126.33 248.103 L1118.12 262.317 L1126.33 276.532 L1142.74 276.532 L1150.95 262.317 L1150.95 262.317  Z\n",
       "  \" fill=\"#009af9\" fill-rule=\"evenodd\" fill-opacity=\"1\"/>\n",
       "<polyline clip-path=\"url(#clip612)\" style=\"stroke:#000000; stroke-linecap:butt; stroke-linejoin:round; stroke-width:4; stroke-opacity:1; fill:none\" points=\"\n",
       "  1150.95,262.317 1142.74,248.103 1126.33,248.103 1118.12,262.317 1126.33,276.532 1142.74,276.532 1150.95,262.317 \n",
       "  \"/>\n",
       "<path clip-path=\"url(#clip612)\" d=\"\n",
       "M1082.46 1129.74 L1074.26 1115.53 L1057.84 1115.53 L1049.64 1129.74 L1057.84 1143.96 L1074.26 1143.96 L1082.46 1129.74 L1082.46 1129.74  Z\n",
       "  \" fill=\"#009af9\" fill-rule=\"evenodd\" fill-opacity=\"1\"/>\n",
       "<polyline clip-path=\"url(#clip612)\" style=\"stroke:#000000; stroke-linecap:butt; stroke-linejoin:round; stroke-width:4; stroke-opacity:1; fill:none\" points=\"\n",
       "  1082.46,1129.74 1074.26,1115.53 1057.84,1115.53 1049.64,1129.74 1057.84,1143.96 1074.26,1143.96 1082.46,1129.74 \n",
       "  \"/>\n",
       "<path clip-path=\"url(#clip612)\" d=\"\n",
       "M1099.85 1264.66 L1091.65 1250.45 L1075.23 1250.45 L1067.03 1264.66 L1075.23 1278.87 L1091.65 1278.87 L1099.85 1264.66 L1099.85 1264.66  Z\n",
       "  \" fill=\"#009af9\" fill-rule=\"evenodd\" fill-opacity=\"1\"/>\n",
       "<polyline clip-path=\"url(#clip612)\" style=\"stroke:#000000; stroke-linecap:butt; stroke-linejoin:round; stroke-width:4; stroke-opacity:1; fill:none\" points=\"\n",
       "  1099.85,1264.66 1091.65,1250.45 1075.23,1250.45 1067.03,1264.66 1075.23,1278.87 1091.65,1278.87 1099.85,1264.66 \n",
       "  \"/>\n",
       "<path clip-path=\"url(#clip612)\" d=\"\n",
       "M678.731 1055.48 L670.524 1041.27 L654.11 1041.27 L645.904 1055.48 L654.11 1069.69 L670.524 1069.69 L678.731 1055.48 L678.731 1055.48  Z\n",
       "  \" fill=\"#009af9\" fill-rule=\"evenodd\" fill-opacity=\"1\"/>\n",
       "<polyline clip-path=\"url(#clip612)\" style=\"stroke:#000000; stroke-linecap:butt; stroke-linejoin:round; stroke-width:4; stroke-opacity:1; fill:none\" points=\"\n",
       "  678.731,1055.48 670.524,1041.27 654.11,1041.27 645.904,1055.48 654.11,1069.69 670.524,1069.69 678.731,1055.48 \n",
       "  \"/>\n",
       "<path clip-path=\"url(#clip612)\" d=\"\n",
       "M942.381 297.361 L934.174 283.147 L917.761 283.147 L909.554 297.361 L917.761 311.576 L934.174 311.576 L942.381 297.361 L942.381 297.361  Z\n",
       "  \" fill=\"#009af9\" fill-rule=\"evenodd\" fill-opacity=\"1\"/>\n",
       "<polyline clip-path=\"url(#clip612)\" style=\"stroke:#000000; stroke-linecap:butt; stroke-linejoin:round; stroke-width:4; stroke-opacity:1; fill:none\" points=\"\n",
       "  942.381,297.361 934.174,283.147 917.761,283.147 909.554,297.361 917.761,311.576 934.174,311.576 942.381,297.361 \n",
       "  \"/>\n",
       "<path clip-path=\"url(#clip612)\" d=\"\n",
       "M906.457 905.332 L898.25 891.118 L881.837 891.118 L873.63 905.332 L881.837 919.547 L898.25 919.547 L906.457 905.332 L906.457 905.332  Z\n",
       "  \" fill=\"#009af9\" fill-rule=\"evenodd\" fill-opacity=\"1\"/>\n",
       "<polyline clip-path=\"url(#clip612)\" style=\"stroke:#000000; stroke-linecap:butt; stroke-linejoin:round; stroke-width:4; stroke-opacity:1; fill:none\" points=\"\n",
       "  906.457,905.332 898.25,891.118 881.837,891.118 873.63,905.332 881.837,919.547 898.25,919.547 906.457,905.332 \n",
       "  \"/>\n",
       "<path clip-path=\"url(#clip612)\" d=\"\n",
       "M1420.98 1337.68 L1412.78 1323.47 L1396.36 1323.47 L1388.16 1337.68 L1396.36 1351.9 L1412.78 1351.9 L1420.98 1337.68 L1420.98 1337.68  Z\n",
       "  \" fill=\"#009af9\" fill-rule=\"evenodd\" fill-opacity=\"1\"/>\n",
       "<polyline clip-path=\"url(#clip612)\" style=\"stroke:#000000; stroke-linecap:butt; stroke-linejoin:round; stroke-width:4; stroke-opacity:1; fill:none\" points=\"\n",
       "  1420.98,1337.68 1412.78,1323.47 1396.36,1323.47 1388.16,1337.68 1396.36,1351.9 1412.78,1351.9 1420.98,1337.68 \n",
       "  \"/>\n",
       "<path clip-path=\"url(#clip612)\" d=\"\n",
       "M821.796 778.128 L813.59 763.913 L797.176 763.913 L788.969 778.128 L797.176 792.342 L813.59 792.342 L821.796 778.128 L821.796 778.128  Z\n",
       "  \" fill=\"#009af9\" fill-rule=\"evenodd\" fill-opacity=\"1\"/>\n",
       "<polyline clip-path=\"url(#clip612)\" style=\"stroke:#000000; stroke-linecap:butt; stroke-linejoin:round; stroke-width:4; stroke-opacity:1; fill:none\" points=\"\n",
       "  821.796,778.128 813.59,763.913 797.176,763.913 788.969,778.128 797.176,792.342 813.59,792.342 821.796,778.128 \n",
       "  \"/>\n",
       "<path clip-path=\"url(#clip612)\" d=\"\n",
       "M1716.99 572.138 L1708.78 557.924 L1692.37 557.924 L1684.16 572.138 L1692.37 586.353 L1708.78 586.353 L1716.99 572.138 L1716.99 572.138  Z\n",
       "  \" fill=\"#009af9\" fill-rule=\"evenodd\" fill-opacity=\"1\"/>\n",
       "<polyline clip-path=\"url(#clip612)\" style=\"stroke:#000000; stroke-linecap:butt; stroke-linejoin:round; stroke-width:4; stroke-opacity:1; fill:none\" points=\"\n",
       "  1716.99,572.138 1708.78,557.924 1692.37,557.924 1684.16,572.138 1692.37,586.353 1708.78,586.353 1716.99,572.138 \n",
       "  \"/>\n",
       "<path clip-path=\"url(#clip612)\" d=\"\n",
       "M1011.59 798.254 L1003.38 784.04 L986.97 784.04 L978.763 798.254 L986.97 812.469 L1003.38 812.469 L1011.59 798.254 L1011.59 798.254  Z\n",
       "  \" fill=\"#009af9\" fill-rule=\"evenodd\" fill-opacity=\"1\"/>\n",
       "<polyline clip-path=\"url(#clip612)\" style=\"stroke:#000000; stroke-linecap:butt; stroke-linejoin:round; stroke-width:4; stroke-opacity:1; fill:none\" points=\"\n",
       "  1011.59,798.254 1003.38,784.04 986.97,784.04 978.763,798.254 986.97,812.469 1003.38,812.469 1011.59,798.254 \n",
       "  \"/>\n",
       "<circle clip-path=\"url(#clip612)\" style=\"fill:#009af9; stroke:none; fill-opacity:1\" cx=\"1658.34\" cy=\"992.671\" r=\"2\"/>\n",
       "<circle clip-path=\"url(#clip612)\" style=\"fill:#009af9; stroke:none; fill-opacity:1\" cx=\"1580.04\" cy=\"1178.15\" r=\"2\"/>\n",
       "<circle clip-path=\"url(#clip612)\" style=\"fill:#009af9; stroke:none; fill-opacity:1\" cx=\"710.996\" cy=\"422.707\" r=\"2\"/>\n",
       "<circle clip-path=\"url(#clip612)\" style=\"fill:#009af9; stroke:none; fill-opacity:1\" cx=\"1428\" cy=\"634.772\" r=\"2\"/>\n",
       "<circle clip-path=\"url(#clip612)\" style=\"fill:#009af9; stroke:none; fill-opacity:1\" cx=\"1340.04\" cy=\"276.309\" r=\"2\"/>\n",
       "<circle clip-path=\"url(#clip612)\" style=\"fill:#009af9; stroke:none; fill-opacity:1\" cx=\"1737.68\" cy=\"804.904\" r=\"2\"/>\n",
       "<circle clip-path=\"url(#clip612)\" style=\"fill:#009af9; stroke:none; fill-opacity:1\" cx=\"757.763\" cy=\"965.649\" r=\"2\"/>\n",
       "<circle clip-path=\"url(#clip612)\" style=\"fill:#009af9; stroke:none; fill-opacity:1\" cx=\"1546.77\" cy=\"368.547\" r=\"2\"/>\n",
       "<circle clip-path=\"url(#clip612)\" style=\"fill:#009af9; stroke:none; fill-opacity:1\" cx=\"985.649\" cy=\"1019.07\" r=\"2\"/>\n",
       "<circle clip-path=\"url(#clip612)\" style=\"fill:#009af9; stroke:none; fill-opacity:1\" cx=\"1134.54\" cy=\"262.317\" r=\"2\"/>\n",
       "<circle clip-path=\"url(#clip612)\" style=\"fill:#009af9; stroke:none; fill-opacity:1\" cx=\"1066.05\" cy=\"1129.74\" r=\"2\"/>\n",
       "<circle clip-path=\"url(#clip612)\" style=\"fill:#009af9; stroke:none; fill-opacity:1\" cx=\"1083.44\" cy=\"1264.66\" r=\"2\"/>\n",
       "<circle clip-path=\"url(#clip612)\" style=\"fill:#009af9; stroke:none; fill-opacity:1\" cx=\"662.317\" cy=\"1055.48\" r=\"2\"/>\n",
       "<circle clip-path=\"url(#clip612)\" style=\"fill:#009af9; stroke:none; fill-opacity:1\" cx=\"925.967\" cy=\"297.361\" r=\"2\"/>\n",
       "<circle clip-path=\"url(#clip612)\" style=\"fill:#009af9; stroke:none; fill-opacity:1\" cx=\"890.044\" cy=\"905.332\" r=\"2\"/>\n",
       "<circle clip-path=\"url(#clip612)\" style=\"fill:#009af9; stroke:none; fill-opacity:1\" cx=\"1404.57\" cy=\"1337.68\" r=\"2\"/>\n",
       "<circle clip-path=\"url(#clip612)\" style=\"fill:#009af9; stroke:none; fill-opacity:1\" cx=\"805.383\" cy=\"778.128\" r=\"2\"/>\n",
       "<circle clip-path=\"url(#clip612)\" style=\"fill:#009af9; stroke:none; fill-opacity:1\" cx=\"1700.57\" cy=\"572.138\" r=\"2\"/>\n",
       "<circle clip-path=\"url(#clip612)\" style=\"fill:#009af9; stroke:none; fill-opacity:1\" cx=\"995.177\" cy=\"798.254\" r=\"2\"/>\n",
       "</svg>\n"
      ]
     },
     "execution_count": 274,
     "metadata": {},
     "output_type": "execute_result"
    }
   ],
   "source": [
    "graphplot(value.(s_ij))"
   ]
  }
 ],
 "metadata": {
  "kernelspec": {
   "display_name": "Julia 1.7.2",
   "language": "julia",
   "name": "julia-1.7"
  },
  "language_info": {
   "file_extension": ".jl",
   "mimetype": "application/julia",
   "name": "julia",
   "version": "1.7.2"
  }
 },
 "nbformat": 4,
 "nbformat_minor": 5
}
